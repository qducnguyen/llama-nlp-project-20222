{
 "cells": [
  {
   "cell_type": "code",
   "execution_count": 1,
   "id": "3cf7da07",
   "metadata": {
    "execution": {
     "iopub.execute_input": "2023-06-24T03:57:40.626894Z",
     "iopub.status.busy": "2023-06-24T03:57:40.626499Z",
     "iopub.status.idle": "2023-06-24T03:57:41.563323Z",
     "shell.execute_reply": "2023-06-24T03:57:41.562204Z"
    },
    "papermill": {
     "duration": 0.943801,
     "end_time": "2023-06-24T03:57:41.565801",
     "exception": false,
     "start_time": "2023-06-24T03:57:40.622000",
     "status": "completed"
    },
    "tags": []
   },
   "outputs": [
    {
     "name": "stdout",
     "output_type": "stream",
     "text": [
      "Python 3.10.10\r\n"
     ]
    }
   ],
   "source": [
    "!python --version"
   ]
  },
  {
   "cell_type": "code",
   "execution_count": 2,
   "id": "9011f6b2",
   "metadata": {
    "_cell_guid": "b1076dfc-b9ad-4769-8c92-a6c4dae69d19",
    "_uuid": "8f2839f25d086af736a60e9eeb907d3b93b6e0e5",
    "execution": {
     "iopub.execute_input": "2023-06-24T03:57:41.576623Z",
     "iopub.status.busy": "2023-06-24T03:57:41.576298Z",
     "iopub.status.idle": "2023-06-24T03:57:43.744200Z",
     "shell.execute_reply": "2023-06-24T03:57:43.742785Z"
    },
    "papermill": {
     "duration": 2.177766,
     "end_time": "2023-06-24T03:57:43.746856",
     "exception": false,
     "start_time": "2023-06-24T03:57:41.569090",
     "status": "completed"
    },
    "tags": []
   },
   "outputs": [
    {
     "name": "stdout",
     "output_type": "stream",
     "text": [
      "Cloning into 'LLM-As-Chatbot'...\r\n"
     ]
    },
    {
     "name": "stdout",
     "output_type": "stream",
     "text": [
      "remote: Enumerating objects: 1528, done.\u001b[K\r\n",
      "remote: Counting objects:   0% (1/543)\u001b[K\r\n",
      "remote: Counting objects:   1% (6/543)\u001b[K\r\n",
      "remote: Counting objects:   2% (11/543)\u001b[K\r\n",
      "remote: Counting objects:   3% (17/543)\u001b[K\r\n",
      "remote: Counting objects:   4% (22/543)\u001b[K\r\n",
      "remote: Counting objects:   5% (28/543)\u001b[K\r\n",
      "remote: Counting objects:   6% (33/543)\u001b[K\r\n",
      "remote: Counting objects:   7% (39/543)\u001b[K\r\n",
      "remote: Counting objects:   8% (44/543)\u001b[K\r\n",
      "remote: Counting objects:   9% (49/543)\u001b[K\r\n",
      "remote: Counting objects:  10% (55/543)\u001b[K\r\n",
      "remote: Counting objects:  11% (60/543)\u001b[K\r\n",
      "remote: Counting objects:  12% (66/543)\u001b[K\r\n",
      "remote: Counting objects:  13% (71/543)\u001b[K\r\n",
      "remote: Counting objects:  14% (77/543)\u001b[K\r\n",
      "remote: Counting objects:  15% (82/543)\u001b[K\r\n",
      "remote: Counting objects:  16% (87/543)\u001b[K\r\n",
      "remote: Counting objects:  17% (93/543)\u001b[K\r\n",
      "remote: Counting objects:  18% (98/543)\u001b[K\r\n",
      "remote: Counting objects:  19% (104/543)\u001b[K\r\n",
      "remote: Counting objects:  20% (109/543)\u001b[K\r\n",
      "remote: Counting objects:  21% (115/543)\u001b[K\r\n",
      "remote: Counting objects:  22% (120/543)\u001b[K\r\n",
      "remote: Counting objects:  23% (125/543)\u001b[K\r\n",
      "remote: Counting objects:  24% (131/543)\u001b[K\r\n",
      "remote: Counting objects:  25% (136/543)\u001b[K\r\n",
      "remote: Counting objects:  26% (142/543)\u001b[K\r\n",
      "remote: Counting objects:  27% (147/543)\u001b[K\r\n",
      "remote: Counting objects:  28% (153/543)\u001b[K\r\n",
      "remote: Counting objects:  29% (158/543)\u001b[K\r\n",
      "remote: Counting objects:  30% (163/543)\u001b[K\r\n",
      "remote: Counting objects:  31% (169/543)\u001b[K\r\n",
      "remote: Counting objects:  32% (174/543)\u001b[K\r\n",
      "remote: Counting objects:  33% (180/543)\u001b[K\r\n",
      "remote: Counting objects:  34% (185/543)\u001b[K\r\n",
      "remote: Counting objects:  35% (191/543)\u001b[K\r\n",
      "remote: Counting objects:  36% (196/543)\u001b[K\r\n",
      "remote: Counting objects:  37% (201/543)\u001b[K\r\n",
      "remote: Counting objects:  38% (207/543)\u001b[K\r\n",
      "remote: Counting objects:  39% (212/543)\u001b[K\r\n",
      "remote: Counting objects:  40% (218/543)\u001b[K\r\n",
      "remote: Counting objects:  41% (223/543)\u001b[K\r\n",
      "remote: Counting objects:  42% (229/543)\u001b[K\r\n",
      "remote: Counting objects:  43% (234/543)\u001b[K\r\n",
      "remote: Counting objects:  44% (239/543)\u001b[K\r\n",
      "remote: Counting objects:  45% (245/543)\u001b[K\r\n",
      "remote: Counting objects:  46% (250/543)\u001b[K\r\n",
      "remote: Counting objects:  47% (256/543)\u001b[K\r\n",
      "remote: Counting objects:  48% (261/543)\u001b[K\r\n",
      "remote: Counting objects:  49% (267/543)\u001b[K\r\n",
      "remote: Counting objects:  50% (272/543)\u001b[K\r\n",
      "remote: Counting objects:  51% (277/543)\u001b[K\r\n",
      "remote: Counting objects:  52% (283/543)\u001b[K\r\n",
      "remote: Counting objects:  53% (288/543)\u001b[K\r\n",
      "remote: Counting objects:  54% (294/543)\u001b[K\r\n",
      "remote: Counting objects:  55% (299/543)\u001b[K\r\n",
      "remote: Counting objects:  56% (305/543)\u001b[K\r\n",
      "remote: Counting objects:  57% (310/543)\u001b[K\r\n",
      "remote: Counting objects:  58% (315/543)\u001b[K\r\n",
      "remote: Counting objects:  59% (321/543)\u001b[K\r\n",
      "remote: Counting objects:  60% (326/543)\u001b[K\r\n",
      "remote: Counting objects:  61% (332/543)\u001b[K\r\n",
      "remote: Counting objects:  62% (337/543)\u001b[K\r\n",
      "remote: Counting objects:  63% (343/543)\u001b[K\r\n",
      "remote: Counting objects:  64% (348/543)\u001b[K\r\n",
      "remote: Counting objects:  65% (353/543)\u001b[K\r\n",
      "remote: Counting objects:  66% (359/543)\u001b[K\r\n",
      "remote: Counting objects:  67% (364/543)\u001b[K\r\n",
      "remote: Counting objects:  68% (370/543)\u001b[K\r\n",
      "remote: Counting objects:  69% (375/543)\u001b[K\r\n",
      "remote: Counting objects:  70% (381/543)\u001b[K\r\n",
      "remote: Counting objects:  71% (386/543)\u001b[K\r\n",
      "remote: Counting objects:  72% (391/543)\u001b[K\r\n",
      "remote: Counting objects:  73% (397/543)\u001b[K\r\n",
      "remote: Counting objects:  74% (402/543)\u001b[K\r\n",
      "remote: Counting objects:  75% (408/543)\u001b[K\r\n",
      "remote: Counting objects:  76% (413/543)\u001b[K\r\n",
      "remote: Counting objects:  77% (419/543)\u001b[K\r\n",
      "remote: Counting objects:  78% (424/543)\u001b[K\r\n",
      "remote: Counting objects:  79% (429/543)\u001b[K\r\n",
      "remote: Counting objects:  80% (435/543)\u001b[K\r\n",
      "remote: Counting objects:  81% (440/543)\u001b[K\r\n",
      "remote: Counting objects:  82% (446/543)\u001b[K\r\n",
      "remote: Counting objects:  83% (451/543)\u001b[K\r\n",
      "remote: Counting objects:  84% (457/543)\u001b[K\r\n",
      "remote: Counting objects:  85% (462/543)\u001b[K\r\n",
      "remote: Counting objects:  86% (467/543)\u001b[K\r\n",
      "remote: Counting objects:  87% (473/543)\u001b[K\r\n",
      "remote: Counting objects:  88% (478/543)\u001b[K\r\n",
      "remote: Counting objects:  89% (484/543)\u001b[K\r\n",
      "remote: Counting objects:  90% (489/543)\u001b[K\r\n",
      "remote: Counting objects:  91% (495/543)\u001b[K\r\n",
      "remote: Counting objects:  92% (500/543)\u001b[K\r\n",
      "remote: Counting objects:  93% (505/543)\u001b[K\r\n",
      "remote: Counting objects:  94% (511/543)\u001b[K\r\n",
      "remote: Counting objects:  95% (516/543)\u001b[K\r\n",
      "remote: Counting objects:  96% (522/543)\u001b[K\r\n",
      "remote: Counting objects:  97% (527/543)\u001b[K\r\n",
      "remote: Counting objects:  98% (533/543)\u001b[K\r\n",
      "remote: Counting objects:  99% (538/543)\u001b[K\r\n",
      "remote: Counting objects: 100% (543/543)\u001b[K\r\n",
      "remote: Counting objects: 100% (543/543), done.\u001b[K\r\n",
      "remote: Compressing objects:   0% (1/179)\u001b[K\r\n",
      "remote: Compressing objects:   1% (2/179)\u001b[K\r\n",
      "remote: Compressing objects:   2% (4/179)\u001b[K\r\n",
      "remote: Compressing objects:   3% (6/179)\u001b[K\r\n",
      "remote: Compressing objects:   4% (8/179)\u001b[K\r\n",
      "remote: Compressing objects:   5% (9/179)\u001b[K\r\n",
      "remote: Compressing objects:   6% (11/179)\u001b[K\r\n",
      "remote: Compressing objects:   7% (13/179)\u001b[K\r\n",
      "remote: Compressing objects:   8% (15/179)\u001b[K\r\n",
      "remote: Compressing objects:   9% (17/179)\u001b[K\r\n",
      "remote: Compressing objects:  10% (18/179)\u001b[K\r\n",
      "remote: Compressing objects:  11% (20/179)\u001b[K\r\n",
      "remote: Compressing objects:  12% (22/179)\u001b[K\r\n",
      "remote: Compressing objects:  13% (24/179)\u001b[K\r\n",
      "remote: Compressing objects:  14% (26/179)\u001b[K\r\n",
      "remote: Compressing objects:  15% (27/179)\u001b[K\r\n",
      "remote: Compressing objects:  16% (29/179)\u001b[K\r\n",
      "remote: Compressing objects:  17% (31/179)\u001b[K\r\n",
      "remote: Compressing objects:  18% (33/179)\u001b[K\r\n",
      "remote: Compressing objects:  19% (35/179)\u001b[K\r\n",
      "remote: Compressing objects:  20% (36/179)\u001b[K\r\n",
      "remote: Compressing objects:  21% (38/179)\u001b[K\r\n",
      "remote: Compressing objects:  22% (40/179)\u001b[K\r\n",
      "remote: Compressing objects:  23% (42/179)\u001b[K\r\n",
      "remote: Compressing objects:  24% (43/179)\u001b[K\r\n",
      "remote: Compressing objects:  25% (45/179)\u001b[K\r\n",
      "remote: Compressing objects:  26% (47/179)\u001b[K\r\n",
      "remote: Compressing objects:  27% (49/179)\u001b[K\r\n",
      "remote: Compressing objects:  28% (51/179)\u001b[K\r\n",
      "remote: Compressing objects:  29% (52/179)\u001b[K\r\n",
      "remote: Compressing objects:  30% (54/179)\u001b[K\r\n",
      "remote: Compressing objects:  31% (56/179)\u001b[K\r\n",
      "remote: Compressing objects:  32% (58/179)\u001b[K\r\n",
      "remote: Compressing objects:  33% (60/179)\u001b[K\r\n",
      "remote: Compressing objects:  34% (61/179)\u001b[K\r\n",
      "remote: Compressing objects:  35% (63/179)\u001b[K\r\n",
      "remote: Compressing objects:  36% (65/179)\u001b[K\r\n",
      "remote: Compressing objects:  37% (67/179)\u001b[K\r\n",
      "remote: Compressing objects:  38% (69/179)\u001b[K\r\n",
      "remote: Compressing objects:  39% (70/179)\u001b[K\r\n",
      "remote: Compressing objects:  40% (72/179)\u001b[K\r\n",
      "remote: Compressing objects:  41% (74/179)\u001b[K\r\n",
      "remote: Compressing objects:  42% (76/179)\u001b[K\r\n",
      "remote: Compressing objects:  43% (77/179)\u001b[K\r\n",
      "remote: Compressing objects:  44% (79/179)\u001b[K\r\n",
      "remote: Compressing objects:  45% (81/179)\u001b[K\r\n",
      "remote: Compressing objects:  46% (83/179)\u001b[K\r\n",
      "remote: Compressing objects:  47% (85/179)\u001b[K\r\n",
      "remote: Compressing objects:  48% (86/179)\u001b[K\r\n",
      "remote: Compressing objects:  49% (88/179)\u001b[K\r\n",
      "remote: Compressing objects:  50% (90/179)\u001b[K\r\n",
      "remote: Compressing objects:  51% (92/179)\u001b[K\r\n",
      "remote: Compressing objects:  52% (94/179)\u001b[K\r\n",
      "remote: Compressing objects:  53% (95/179)\u001b[K\r\n",
      "remote: Compressing objects:  54% (97/179)\u001b[K\r\n",
      "remote: Compressing objects:  55% (99/179)\u001b[K\r\n",
      "remote: Compressing objects:  56% (101/179)\u001b[K\r\n",
      "remote: Compressing objects:  57% (103/179)\u001b[K\r\n",
      "remote: Compressing objects:  58% (104/179)\u001b[K\r\n",
      "remote: Compressing objects:  59% (106/179)\u001b[K\r\n",
      "remote: Compressing objects:  60% (108/179)\u001b[K\r\n",
      "remote: Compressing objects:  61% (110/179)\u001b[K\r\n",
      "remote: Compressing objects:  62% (111/179)\u001b[K\r\n",
      "remote: Compressing objects:  63% (113/179)\u001b[K\r\n",
      "remote: Compressing objects:  64% (115/179)\u001b[K\r\n",
      "remote: Compressing objects:  65% (117/179)\u001b[K\r\n",
      "remote: Compressing objects:  66% (119/179)\u001b[K\r\n",
      "remote: Compressing objects:  67% (120/179)\u001b[K\r\n",
      "remote: Compressing objects:  68% (122/179)\u001b[K\r\n",
      "remote: Compressing objects:  69% (124/179)\u001b[K\r\n",
      "remote: Compressing objects:  70% (126/179)\u001b[K\r\n",
      "remote: Compressing objects:  71% (128/179)\u001b[K\r\n",
      "remote: Compressing objects:  72% (129/179)\u001b[K\r\n",
      "remote: Compressing objects:  73% (131/179)\u001b[K\r\n",
      "remote: Compressing objects:  74% (133/179)\u001b[K\r\n",
      "remote: Compressing objects:  75% (135/179)\u001b[K\r"
     ]
    },
    {
     "name": "stdout",
     "output_type": "stream",
     "text": [
      "remote: Compressing objects:  76% (137/179)\u001b[K\r\n",
      "remote: Compressing objects:  77% (138/179)\u001b[K\r\n",
      "remote: Compressing objects:  78% (140/179)\u001b[K\r\n",
      "remote: Compressing objects:  79% (142/179)\u001b[K\r\n",
      "remote: Compressing objects:  80% (144/179)\u001b[K\r\n",
      "remote: Compressing objects:  81% (145/179)\u001b[K\r\n",
      "remote: Compressing objects:  82% (147/179)\u001b[K\r\n",
      "remote: Compressing objects:  83% (149/179)\u001b[K\r\n",
      "remote: Compressing objects:  84% (151/179)\u001b[K\r\n",
      "remote: Compressing objects:  85% (153/179)\u001b[K\r\n",
      "remote: Compressing objects:  86% (154/179)\u001b[K\r\n",
      "remote: Compressing objects:  87% (156/179)\u001b[K\r\n",
      "remote: Compressing objects:  88% (158/179)\u001b[K\r\n",
      "remote: Compressing objects:  89% (160/179)\u001b[K\r\n",
      "remote: Compressing objects:  90% (162/179)\u001b[K\r\n",
      "remote: Compressing objects:  91% (163/179)\u001b[K\r\n",
      "remote: Compressing objects:  92% (165/179)\u001b[K\r\n",
      "remote: Compressing objects:  93% (167/179)\u001b[K\r\n",
      "remote: Compressing objects:  94% (169/179)\u001b[K\r\n",
      "remote: Compressing objects:  95% (171/179)\u001b[K\r\n",
      "remote: Compressing objects:  96% (172/179)\u001b[K\r\n",
      "remote: Compressing objects:  97% (174/179)\u001b[K\r\n",
      "remote: Compressing objects:  98% (176/179)\u001b[K\r\n",
      "remote: Compressing objects:  99% (178/179)\u001b[K\r\n",
      "remote: Compressing objects: 100% (179/179)\u001b[K\r\n",
      "remote: Compressing objects: 100% (179/179), done.\u001b[K\r\n",
      "Receiving objects:   0% (1/1528)\r\n",
      "Receiving objects:   1% (16/1528)\r\n",
      "Receiving objects:   2% (31/1528)\r\n",
      "Receiving objects:   3% (46/1528)\r\n",
      "Receiving objects:   4% (62/1528)\r\n",
      "Receiving objects:   5% (77/1528)\r\n",
      "Receiving objects:   6% (92/1528)\r"
     ]
    },
    {
     "name": "stdout",
     "output_type": "stream",
     "text": [
      "Receiving objects:   7% (107/1528)\r\n",
      "Receiving objects:   8% (123/1528)\r\n",
      "Receiving objects:   9% (138/1528)\r\n",
      "Receiving objects:  10% (153/1528)\r\n",
      "Receiving objects:  11% (169/1528)\r\n",
      "Receiving objects:  12% (184/1528)\r\n",
      "Receiving objects:  13% (199/1528)\r\n",
      "Receiving objects:  14% (214/1528)\r\n",
      "Receiving objects:  15% (230/1528)\r\n",
      "Receiving objects:  16% (245/1528)\r\n",
      "Receiving objects:  17% (260/1528)\r"
     ]
    },
    {
     "name": "stdout",
     "output_type": "stream",
     "text": [
      "Receiving objects:  18% (276/1528)\r\n",
      "Receiving objects:  19% (291/1528)\r\n",
      "Receiving objects:  20% (306/1528)\r\n",
      "Receiving objects:  21% (321/1528)\r\n",
      "Receiving objects:  22% (337/1528)\r\n",
      "Receiving objects:  23% (352/1528)\r\n",
      "Receiving objects:  24% (367/1528)\r\n",
      "Receiving objects:  25% (382/1528)\r\n",
      "Receiving objects:  26% (398/1528)\r\n",
      "Receiving objects:  27% (413/1528)\r\n",
      "Receiving objects:  28% (428/1528)\r\n",
      "Receiving objects:  29% (444/1528)\r\n",
      "Receiving objects:  30% (459/1528)\r\n",
      "Receiving objects:  31% (474/1528)\r\n",
      "Receiving objects:  32% (489/1528)\r\n",
      "Receiving objects:  33% (505/1528)\r\n",
      "Receiving objects:  34% (520/1528)\r\n",
      "Receiving objects:  35% (535/1528)\r\n",
      "Receiving objects:  36% (551/1528)\r\n",
      "Receiving objects:  37% (566/1528)\r\n",
      "Receiving objects:  38% (581/1528)\r\n",
      "Receiving objects:  39% (596/1528)\r\n",
      "Receiving objects:  40% (612/1528)\r\n",
      "Receiving objects:  41% (627/1528)\r\n",
      "Receiving objects:  42% (642/1528)\r"
     ]
    },
    {
     "name": "stdout",
     "output_type": "stream",
     "text": [
      "Receiving objects:  43% (658/1528), 16.98 MiB | 33.95 MiB/s\r\n",
      "Receiving objects:  44% (673/1528), 16.98 MiB | 33.95 MiB/s\r\n",
      "Receiving objects:  45% (688/1528), 16.98 MiB | 33.95 MiB/s\r\n",
      "Receiving objects:  46% (703/1528), 16.98 MiB | 33.95 MiB/s\r\n",
      "Receiving objects:  47% (719/1528), 16.98 MiB | 33.95 MiB/s\r\n",
      "Receiving objects:  48% (734/1528), 16.98 MiB | 33.95 MiB/s\r\n",
      "Receiving objects:  49% (749/1528), 16.98 MiB | 33.95 MiB/s\r\n",
      "Receiving objects:  50% (764/1528), 16.98 MiB | 33.95 MiB/s\r\n",
      "Receiving objects:  51% (780/1528), 16.98 MiB | 33.95 MiB/s\r\n",
      "Receiving objects:  52% (795/1528), 16.98 MiB | 33.95 MiB/s\r\n",
      "Receiving objects:  53% (810/1528), 16.98 MiB | 33.95 MiB/s\r\n",
      "Receiving objects:  54% (826/1528), 16.98 MiB | 33.95 MiB/s\r\n",
      "Receiving objects:  55% (841/1528), 16.98 MiB | 33.95 MiB/s\r\n",
      "Receiving objects:  56% (856/1528), 16.98 MiB | 33.95 MiB/s\r\n",
      "Receiving objects:  57% (871/1528), 16.98 MiB | 33.95 MiB/s\r"
     ]
    },
    {
     "name": "stdout",
     "output_type": "stream",
     "text": [
      "Receiving objects:  58% (887/1528), 16.98 MiB | 33.95 MiB/s\r\n",
      "Receiving objects:  59% (902/1528), 16.98 MiB | 33.95 MiB/s\r\n",
      "Receiving objects:  60% (917/1528), 16.98 MiB | 33.95 MiB/s\r\n",
      "Receiving objects:  61% (933/1528), 16.98 MiB | 33.95 MiB/s\r\n",
      "Receiving objects:  62% (948/1528), 16.98 MiB | 33.95 MiB/s\r\n",
      "Receiving objects:  63% (963/1528), 16.98 MiB | 33.95 MiB/s\r\n",
      "Receiving objects:  64% (978/1528), 16.98 MiB | 33.95 MiB/s\r\n",
      "Receiving objects:  65% (994/1528), 16.98 MiB | 33.95 MiB/s\r\n",
      "Receiving objects:  66% (1009/1528), 16.98 MiB | 33.95 MiB/s\r\n",
      "Receiving objects:  67% (1024/1528), 16.98 MiB | 33.95 MiB/s\r\n",
      "Receiving objects:  68% (1040/1528), 16.98 MiB | 33.95 MiB/s\r\n",
      "Receiving objects:  69% (1055/1528), 16.98 MiB | 33.95 MiB/s\r\n",
      "Receiving objects:  70% (1070/1528), 16.98 MiB | 33.95 MiB/s\r\n",
      "Receiving objects:  71% (1085/1528), 16.98 MiB | 33.95 MiB/s\r\n",
      "Receiving objects:  72% (1101/1528), 16.98 MiB | 33.95 MiB/s\r\n",
      "Receiving objects:  73% (1116/1528), 16.98 MiB | 33.95 MiB/s\r\n",
      "Receiving objects:  74% (1131/1528), 16.98 MiB | 33.95 MiB/s\r\n",
      "Receiving objects:  75% (1146/1528), 16.98 MiB | 33.95 MiB/s\r\n",
      "Receiving objects:  76% (1162/1528), 16.98 MiB | 33.95 MiB/s\r\n",
      "Receiving objects:  77% (1177/1528), 16.98 MiB | 33.95 MiB/s\r\n",
      "Receiving objects:  78% (1192/1528), 16.98 MiB | 33.95 MiB/s\r\n",
      "Receiving objects:  79% (1208/1528), 16.98 MiB | 33.95 MiB/s\r\n",
      "Receiving objects:  80% (1223/1528), 16.98 MiB | 33.95 MiB/s\r\n",
      "Receiving objects:  81% (1238/1528), 16.98 MiB | 33.95 MiB/s\r\n",
      "Receiving objects:  82% (1253/1528), 16.98 MiB | 33.95 MiB/s\r\n",
      "Receiving objects:  83% (1269/1528), 16.98 MiB | 33.95 MiB/s\r\n",
      "Receiving objects:  84% (1284/1528), 16.98 MiB | 33.95 MiB/s\r\n",
      "Receiving objects:  85% (1299/1528), 16.98 MiB | 33.95 MiB/s\r\n",
      "Receiving objects:  86% (1315/1528), 16.98 MiB | 33.95 MiB/s\r\n",
      "remote: Total 1528 (delta 413), reused 438 (delta 364), pack-reused 985\u001b[K\r\n",
      "Receiving objects:  87% (1330/1528), 16.98 MiB | 33.95 MiB/s\r\n",
      "Receiving objects:  88% (1345/1528), 16.98 MiB | 33.95 MiB/s\r\n",
      "Receiving objects:  89% (1360/1528), 16.98 MiB | 33.95 MiB/s\r\n",
      "Receiving objects:  90% (1376/1528), 16.98 MiB | 33.95 MiB/s\r\n",
      "Receiving objects:  91% (1391/1528), 16.98 MiB | 33.95 MiB/s\r\n",
      "Receiving objects:  92% (1406/1528), 16.98 MiB | 33.95 MiB/s\r\n",
      "Receiving objects:  93% (1422/1528), 16.98 MiB | 33.95 MiB/s\r\n",
      "Receiving objects:  94% (1437/1528), 16.98 MiB | 33.95 MiB/s\r\n",
      "Receiving objects:  95% (1452/1528), 16.98 MiB | 33.95 MiB/s\r\n",
      "Receiving objects:  96% (1467/1528), 16.98 MiB | 33.95 MiB/s\r\n",
      "Receiving objects:  97% (1483/1528), 16.98 MiB | 33.95 MiB/s\r\n",
      "Receiving objects:  98% (1498/1528), 16.98 MiB | 33.95 MiB/s\r\n",
      "Receiving objects:  99% (1513/1528), 16.98 MiB | 33.95 MiB/s\r\n",
      "Receiving objects: 100% (1528/1528), 16.98 MiB | 33.95 MiB/s\r\n",
      "Receiving objects: 100% (1528/1528), 19.37 MiB | 33.73 MiB/s, done.\r\n",
      "Resolving deltas:   0% (0/1026)\r\n",
      "Resolving deltas:   1% (11/1026)\r\n",
      "Resolving deltas:   2% (21/1026)\r\n",
      "Resolving deltas:   3% (31/1026)\r\n",
      "Resolving deltas:   4% (42/1026)\r\n",
      "Resolving deltas:   5% (52/1026)\r\n",
      "Resolving deltas:   6% (62/1026)\r\n",
      "Resolving deltas:   7% (72/1026)\r\n",
      "Resolving deltas:   8% (83/1026)\r\n",
      "Resolving deltas:   9% (93/1026)\r\n",
      "Resolving deltas:  10% (103/1026)\r\n",
      "Resolving deltas:  11% (113/1026)\r\n",
      "Resolving deltas:  12% (124/1026)\r\n",
      "Resolving deltas:  13% (134/1026)\r\n",
      "Resolving deltas:  14% (144/1026)\r\n",
      "Resolving deltas:  15% (154/1026)\r\n",
      "Resolving deltas:  16% (165/1026)\r\n",
      "Resolving deltas:  17% (175/1026)\r\n",
      "Resolving deltas:  18% (185/1026)\r\n",
      "Resolving deltas:  19% (195/1026)\r\n",
      "Resolving deltas:  20% (206/1026)\r\n",
      "Resolving deltas:  21% (216/1026)\r\n",
      "Resolving deltas:  22% (226/1026)\r\n",
      "Resolving deltas:  23% (236/1026)\r\n",
      "Resolving deltas:  24% (247/1026)\r\n",
      "Resolving deltas:  25% (257/1026)\r\n",
      "Resolving deltas:  26% (267/1026)\r\n",
      "Resolving deltas:  27% (278/1026)\r\n",
      "Resolving deltas:  28% (288/1026)\r\n",
      "Resolving deltas:  29% (298/1026)\r\n",
      "Resolving deltas:  30% (308/1026)\r\n",
      "Resolving deltas:  31% (319/1026)\r\n",
      "Resolving deltas:  32% (329/1026)\r\n",
      "Resolving deltas:  33% (339/1026)\r\n",
      "Resolving deltas:  34% (349/1026)\r\n",
      "Resolving deltas:  35% (360/1026)\r\n",
      "Resolving deltas:  36% (370/1026)\r\n",
      "Resolving deltas:  37% (380/1026)\r\n",
      "Resolving deltas:  38% (390/1026)\r\n",
      "Resolving deltas:  39% (401/1026)\r\n",
      "Resolving deltas:  40% (411/1026)\r\n",
      "Resolving deltas:  41% (421/1026)\r\n",
      "Resolving deltas:  42% (431/1026)\r\n",
      "Resolving deltas:  43% (442/1026)\r\n",
      "Resolving deltas:  44% (452/1026)\r\n",
      "Resolving deltas:  45% (462/1026)\r\n",
      "Resolving deltas:  46% (472/1026)\r\n",
      "Resolving deltas:  47% (483/1026)\r\n",
      "Resolving deltas:  48% (493/1026)\r\n",
      "Resolving deltas:  49% (503/1026)\r\n",
      "Resolving deltas:  50% (513/1026)\r\n",
      "Resolving deltas:  51% (524/1026)\r\n",
      "Resolving deltas:  52% (534/1026)\r\n",
      "Resolving deltas:  53% (544/1026)\r\n",
      "Resolving deltas:  54% (555/1026)\r\n",
      "Resolving deltas:  55% (565/1026)\r\n",
      "Resolving deltas:  56% (575/1026)\r\n",
      "Resolving deltas:  57% (585/1026)\r\n",
      "Resolving deltas:  58% (596/1026)\r\n",
      "Resolving deltas:  59% (606/1026)\r\n",
      "Resolving deltas:  60% (616/1026)\r\n",
      "Resolving deltas:  61% (626/1026)\r\n",
      "Resolving deltas:  62% (637/1026)\r\n",
      "Resolving deltas:  63% (647/1026)\r\n",
      "Resolving deltas:  64% (657/1026)\r\n",
      "Resolving deltas:  65% (667/1026)\r\n",
      "Resolving deltas:  66% (678/1026)\r\n",
      "Resolving deltas:  67% (688/1026)\r\n",
      "Resolving deltas:  68% (698/1026)\r\n",
      "Resolving deltas:  69% (708/1026)\r\n",
      "Resolving deltas:  70% (719/1026)\r\n",
      "Resolving deltas:  71% (729/1026)\r\n",
      "Resolving deltas:  72% (739/1026)\r\n",
      "Resolving deltas:  73% (749/1026)\r\n",
      "Resolving deltas:  74% (760/1026)\r\n",
      "Resolving deltas:  75% (770/1026)\r\n",
      "Resolving deltas:  76% (780/1026)\r\n",
      "Resolving deltas:  77% (791/1026)\r\n",
      "Resolving deltas:  78% (801/1026)\r\n",
      "Resolving deltas:  79% (811/1026)\r\n",
      "Resolving deltas:  80% (821/1026)\r\n",
      "Resolving deltas:  81% (832/1026)\r\n",
      "Resolving deltas:  82% (842/1026)\r\n",
      "Resolving deltas:  83% (852/1026)\r\n",
      "Resolving deltas:  84% (862/1026)\r\n",
      "Resolving deltas:  85% (873/1026)\r\n",
      "Resolving deltas:  86% (883/1026)\r\n",
      "Resolving deltas:  87% (893/1026)\r\n",
      "Resolving deltas:  88% (903/1026)\r\n",
      "Resolving deltas:  89% (914/1026)\r\n",
      "Resolving deltas:  90% (924/1026)\r"
     ]
    },
    {
     "name": "stdout",
     "output_type": "stream",
     "text": [
      "Resolving deltas:  91% (934/1026)\r\n",
      "Resolving deltas:  92% (944/1026)\r\n",
      "Resolving deltas:  93% (955/1026)\r\n",
      "Resolving deltas:  94% (965/1026)\r\n",
      "Resolving deltas:  95% (975/1026)\r\n",
      "Resolving deltas:  96% (985/1026)\r\n",
      "Resolving deltas:  97% (996/1026)\r\n",
      "Resolving deltas:  98% (1006/1026)\r\n",
      "Resolving deltas:  99% (1016/1026)\r\n",
      "Resolving deltas: 100% (1026/1026)\r\n",
      "Resolving deltas: 100% (1026/1026), done.\r\n"
     ]
    }
   ],
   "source": [
    "!git clone https://github.com/qducnguyen/llama-nlp-project-20222\n",
    "%cd llama-nlp-project-20222/src"
   ]
  },
  {
   "cell_type": "code",
   "execution_count": 3,
   "id": "e242223d",
   "metadata": {
    "execution": {
     "iopub.execute_input": "2023-06-24T03:57:43.756541Z",
     "iopub.status.busy": "2023-06-24T03:57:43.755597Z",
     "iopub.status.idle": "2023-06-24T03:59:19.665052Z",
     "shell.execute_reply": "2023-06-24T03:59:19.663864Z"
    },
    "papermill": {
     "duration": 95.91709,
     "end_time": "2023-06-24T03:59:19.667765",
     "exception": false,
     "start_time": "2023-06-24T03:57:43.750675",
     "status": "completed"
    },
    "tags": []
   },
   "outputs": [
    {
     "name": "stdout",
     "output_type": "stream",
     "text": [
      "/kaggle/working/LLM-As-Chatbot\n"
     ]
    },
    {
     "name": "stdout",
     "output_type": "stream",
     "text": [
      "Note: switching to 'f9b0e46046cdacf696222194594935d00f3f6bc6'.\r\n",
      "\r\n",
      "You are in 'detached HEAD' state. You can look around, make experimental\r\n",
      "changes and commit them, and you can discard any commits you make in this\r\n",
      "state without impacting any branches by switching back to a branch.\r\n",
      "\r\n",
      "If you want to create a new branch to retain commits you create, you may\r\n",
      "do so (now or later) by using -c with the switch command. Example:\r\n",
      "\r\n",
      "  git switch -c <new-branch-name>\r\n",
      "\r\n",
      "Or undo this operation with:\r\n",
      "\r\n",
      "  git switch -\r\n",
      "\r\n",
      "Turn off this advice by setting config variable advice.detachedHead to false\r\n",
      "\r\n",
      "HEAD is now at f9b0e46 add mpt 30b, vicuna 1.3\r\n"
     ]
    },
    {
     "name": "stdout",
     "output_type": "stream",
     "text": [
      "Collecting git+https://github.com/huggingface/transformers.git (from -r requirements.txt (line 6))\r\n",
      "  Cloning https://github.com/huggingface/transformers.git to /tmp/pip-req-build-hn1cz0mp\r\n",
      "  Running command git clone --filter=blob:none --quiet https://github.com/huggingface/transformers.git /tmp/pip-req-build-hn1cz0mp\r\n"
     ]
    },
    {
     "name": "stdout",
     "output_type": "stream",
     "text": [
      "  Resolved https://github.com/huggingface/transformers.git to commit 8e164c5400b7b413c7b8fb32e35132001effc970\r\n"
     ]
    },
    {
     "name": "stdout",
     "output_type": "stream",
     "text": [
      "  Installing build dependencies ... \u001b[?25l-"
     ]
    },
    {
     "name": "stdout",
     "output_type": "stream",
     "text": [
      "\b \b\\"
     ]
    },
    {
     "name": "stdout",
     "output_type": "stream",
     "text": [
      "\b \b|"
     ]
    },
    {
     "name": "stdout",
     "output_type": "stream",
     "text": [
      "\b \b/"
     ]
    },
    {
     "name": "stdout",
     "output_type": "stream",
     "text": [
      "\b \bdone\r\n"
     ]
    },
    {
     "name": "stdout",
     "output_type": "stream",
     "text": [
      "\u001b[?25h  Getting requirements to build wheel ... \u001b[?25l-"
     ]
    },
    {
     "name": "stdout",
     "output_type": "stream",
     "text": [
      "\b \b\\"
     ]
    },
    {
     "name": "stdout",
     "output_type": "stream",
     "text": [
      "\b \bdone\r\n"
     ]
    },
    {
     "name": "stdout",
     "output_type": "stream",
     "text": [
      "\u001b[?25h  Preparing metadata (pyproject.toml) ... \u001b[?25l-"
     ]
    },
    {
     "name": "stdout",
     "output_type": "stream",
     "text": [
      "\b \b\\"
     ]
    },
    {
     "name": "stdout",
     "output_type": "stream",
     "text": [
      "\b \bdone\r\n",
      "\u001b[?25hCollecting git+https://github.com/huggingface/peft.git (from -r requirements.txt (line 7))\r\n"
     ]
    },
    {
     "name": "stdout",
     "output_type": "stream",
     "text": [
      "  Cloning https://github.com/huggingface/peft.git to /tmp/pip-req-build-a_8twwpm\r\n",
      "  Running command git clone --filter=blob:none --quiet https://github.com/huggingface/peft.git /tmp/pip-req-build-a_8twwpm\r\n"
     ]
    },
    {
     "name": "stdout",
     "output_type": "stream",
     "text": [
      "  Resolved https://github.com/huggingface/peft.git to commit 8af8dbd2ec9b4b8f664541e9625f898db7c7c78f\r\n"
     ]
    },
    {
     "name": "stdout",
     "output_type": "stream",
     "text": [
      "  Installing build dependencies ... \u001b[?25l-"
     ]
    },
    {
     "name": "stdout",
     "output_type": "stream",
     "text": [
      "\b \b\\"
     ]
    },
    {
     "name": "stdout",
     "output_type": "stream",
     "text": [
      "\b \b|"
     ]
    },
    {
     "name": "stdout",
     "output_type": "stream",
     "text": [
      "\b \bdone\r\n"
     ]
    },
    {
     "name": "stdout",
     "output_type": "stream",
     "text": [
      "\u001b[?25h  Getting requirements to build wheel ... \u001b[?25l-\b \bdone\r\n"
     ]
    },
    {
     "name": "stdout",
     "output_type": "stream",
     "text": [
      "\u001b[?25h  Preparing metadata (pyproject.toml) ... \u001b[?25l-"
     ]
    },
    {
     "name": "stdout",
     "output_type": "stream",
     "text": [
      "\b \bdone\r\n",
      "\u001b[?25hCollecting git+https://github.com/huggingface/optimum.git (from -r requirements.txt (line 10))\r\n",
      "  Cloning https://github.com/huggingface/optimum.git to /tmp/pip-req-build-ogtamwh5\r\n",
      "  Running command git clone --filter=blob:none --quiet https://github.com/huggingface/optimum.git /tmp/pip-req-build-ogtamwh5\r\n"
     ]
    },
    {
     "name": "stdout",
     "output_type": "stream",
     "text": [
      "  Resolved https://github.com/huggingface/optimum.git to commit 1a5443b8ed8cd4ce1375055817ae6e75926939a6\r\n"
     ]
    },
    {
     "name": "stdout",
     "output_type": "stream",
     "text": [
      "  Installing build dependencies ... \u001b[?25l-"
     ]
    },
    {
     "name": "stdout",
     "output_type": "stream",
     "text": [
      "\b \b\\"
     ]
    },
    {
     "name": "stdout",
     "output_type": "stream",
     "text": [
      "\b \b|"
     ]
    },
    {
     "name": "stdout",
     "output_type": "stream",
     "text": [
      "\b \bdone\r\n"
     ]
    },
    {
     "name": "stdout",
     "output_type": "stream",
     "text": [
      "\u001b[?25h  Getting requirements to build wheel ... \u001b[?25l-"
     ]
    },
    {
     "name": "stdout",
     "output_type": "stream",
     "text": [
      "\b \bdone\r\n"
     ]
    },
    {
     "name": "stdout",
     "output_type": "stream",
     "text": [
      "\u001b[?25h  Preparing metadata (pyproject.toml) ... \u001b[?25l-"
     ]
    },
    {
     "name": "stdout",
     "output_type": "stream",
     "text": [
      "\b \bdone\r\n",
      "\u001b[?25hCollecting git+https://github.com/huggingface/accelerate.git (from -r requirements.txt (line 11))\r\n",
      "  Cloning https://github.com/huggingface/accelerate.git to /tmp/pip-req-build-k17jspz2\r\n",
      "  Running command git clone --filter=blob:none --quiet https://github.com/huggingface/accelerate.git /tmp/pip-req-build-k17jspz2\r\n"
     ]
    },
    {
     "name": "stdout",
     "output_type": "stream",
     "text": [
      "  Resolved https://github.com/huggingface/accelerate.git to commit 73cc94406725337c792aed10b660b2c45f98f34e\r\n"
     ]
    },
    {
     "name": "stdout",
     "output_type": "stream",
     "text": [
      "  Installing build dependencies ... \u001b[?25l-"
     ]
    },
    {
     "name": "stdout",
     "output_type": "stream",
     "text": [
      "\b \b\\"
     ]
    },
    {
     "name": "stdout",
     "output_type": "stream",
     "text": [
      "\b \b|"
     ]
    },
    {
     "name": "stdout",
     "output_type": "stream",
     "text": [
      "\b \bdone\r\n"
     ]
    },
    {
     "name": "stdout",
     "output_type": "stream",
     "text": [
      "\u001b[?25h  Getting requirements to build wheel ... \u001b[?25l-"
     ]
    },
    {
     "name": "stdout",
     "output_type": "stream",
     "text": [
      "\b \bdone\r\n"
     ]
    },
    {
     "name": "stdout",
     "output_type": "stream",
     "text": [
      "\u001b[?25h  Preparing metadata (pyproject.toml) ... \u001b[?25l-"
     ]
    },
    {
     "name": "stdout",
     "output_type": "stream",
     "text": [
      "\b \bdone\r\n",
      "\u001b[?25hRequirement already satisfied: torch in /opt/conda/lib/python3.10/site-packages (from -r requirements.txt (line 1)) (2.0.0)\r\n"
     ]
    },
    {
     "name": "stdout",
     "output_type": "stream",
     "text": [
      "Collecting bitsandbytes (from -r requirements.txt (line 2))\r\n"
     ]
    },
    {
     "name": "stdout",
     "output_type": "stream",
     "text": [
      "  Downloading bitsandbytes-0.39.1-py3-none-any.whl (97.1 MB)\r\n",
      "\u001b[?25l     \u001b[90m━━━━━━━━━━━━━━━━━━━━━━━━━━━━━━━━━━━━━━━━\u001b[0m \u001b[32m0.0/97.1 MB\u001b[0m \u001b[31m?\u001b[0m eta \u001b[36m-:--:--\u001b[0m"
     ]
    },
    {
     "name": "stdout",
     "output_type": "stream",
     "text": [
      "\r\n",
      "\u001b[2K     \u001b[90m━━━━━━━━━━━━━━━━━━━━━━━━━━━━━━━━━━━━━━━━\u001b[0m \u001b[32m0.2/97.1 MB\u001b[0m \u001b[31m7.0 MB/s\u001b[0m eta \u001b[36m0:00:14\u001b[0m"
     ]
    },
    {
     "name": "stdout",
     "output_type": "stream",
     "text": [
      "\r\n",
      "\u001b[2K     \u001b[91m╸\u001b[0m\u001b[90m━━━━━━━━━━━━━━━━━━━━━━━━━━━━━━━━━━━━━━━\u001b[0m \u001b[32m1.9/97.1 MB\u001b[0m \u001b[31m28.2 MB/s\u001b[0m eta \u001b[36m0:00:04\u001b[0m\r\n",
      "\u001b[2K     \u001b[91m━━\u001b[0m\u001b[91m╸\u001b[0m\u001b[90m━━━━━━━━━━━━━━━━━━━━━━━━━━━━━━━━━━━━━\u001b[0m \u001b[32m6.9/97.1 MB\u001b[0m \u001b[31m66.1 MB/s\u001b[0m eta \u001b[36m0:00:02\u001b[0m"
     ]
    },
    {
     "name": "stdout",
     "output_type": "stream",
     "text": [
      "\r\n",
      "\u001b[2K     \u001b[91m━━━━━\u001b[0m\u001b[90m╺\u001b[0m\u001b[90m━━━━━━━━━━━━━━━━━━━━━━━━━━━━━━━━━\u001b[0m \u001b[32m12.5/97.1 MB\u001b[0m \u001b[31m152.6 MB/s\u001b[0m eta \u001b[36m0:00:01\u001b[0m"
     ]
    },
    {
     "name": "stdout",
     "output_type": "stream",
     "text": [
      "\r\n",
      "\u001b[2K     \u001b[91m━━━━━━━\u001b[0m\u001b[90m╺\u001b[0m\u001b[90m━━━━━━━━━━━━━━━━━━━━━━━━━━━━━━━\u001b[0m \u001b[32m18.0/97.1 MB\u001b[0m \u001b[31m164.5 MB/s\u001b[0m eta \u001b[36m0:00:01\u001b[0m"
     ]
    },
    {
     "name": "stdout",
     "output_type": "stream",
     "text": [
      "\r\n",
      "\u001b[2K     \u001b[91m━━━━━━━━━\u001b[0m\u001b[91m╸\u001b[0m\u001b[90m━━━━━━━━━━━━━━━━━━━━━━━━━━━━━\u001b[0m \u001b[32m24.0/97.1 MB\u001b[0m \u001b[31m160.8 MB/s\u001b[0m eta \u001b[36m0:00:01\u001b[0m\r\n",
      "\u001b[2K     \u001b[91m━━━━━━━━━━━━\u001b[0m\u001b[90m╺\u001b[0m\u001b[90m━━━━━━━━━━━━━━━━━━━━━━━━━━\u001b[0m \u001b[32m29.9/97.1 MB\u001b[0m \u001b[31m165.6 MB/s\u001b[0m eta \u001b[36m0:00:01\u001b[0m"
     ]
    },
    {
     "name": "stdout",
     "output_type": "stream",
     "text": [
      "\r\n",
      "\u001b[2K     \u001b[91m━━━━━━━━━━━━━━\u001b[0m\u001b[90m╺\u001b[0m\u001b[90m━━━━━━━━━━━━━━━━━━━━━━━━\u001b[0m \u001b[32m35.3/97.1 MB\u001b[0m \u001b[31m163.0 MB/s\u001b[0m eta \u001b[36m0:00:01\u001b[0m"
     ]
    },
    {
     "name": "stdout",
     "output_type": "stream",
     "text": [
      "\r\n",
      "\u001b[2K     \u001b[91m━━━━━━━━━━━━━━━\u001b[0m\u001b[91m╸\u001b[0m\u001b[90m━━━━━━━━━━━━━━━━━━━━━━━\u001b[0m \u001b[32m39.0/97.1 MB\u001b[0m \u001b[31m130.7 MB/s\u001b[0m eta \u001b[36m0:00:01\u001b[0m\r\n",
      "\u001b[2K     \u001b[91m━━━━━━━━━━━━━━━━━\u001b[0m\u001b[91m╸\u001b[0m\u001b[90m━━━━━━━━━━━━━━━━━━━━━\u001b[0m \u001b[32m43.8/97.1 MB\u001b[0m \u001b[31m123.2 MB/s\u001b[0m eta \u001b[36m0:00:01\u001b[0m"
     ]
    },
    {
     "name": "stdout",
     "output_type": "stream",
     "text": [
      "\r\n",
      "\u001b[2K     \u001b[91m━━━━━━━━━━━━━━━━━━━\u001b[0m\u001b[91m╸\u001b[0m\u001b[90m━━━━━━━━━━━━━━━━━━━\u001b[0m \u001b[32m49.4/97.1 MB\u001b[0m \u001b[31m149.3 MB/s\u001b[0m eta \u001b[36m0:00:01\u001b[0m"
     ]
    },
    {
     "name": "stdout",
     "output_type": "stream",
     "text": [
      "\r\n",
      "\u001b[2K     \u001b[91m━━━━━━━━━━━━━━━━━━━━━━\u001b[0m\u001b[90m╺\u001b[0m\u001b[90m━━━━━━━━━━━━━━━━\u001b[0m \u001b[32m55.0/97.1 MB\u001b[0m \u001b[31m160.0 MB/s\u001b[0m eta \u001b[36m0:00:01\u001b[0m"
     ]
    },
    {
     "name": "stdout",
     "output_type": "stream",
     "text": [
      "\r\n",
      "\u001b[2K     \u001b[91m━━━━━━━━━━━━━━━━━━━━━━━━\u001b[0m\u001b[90m╺\u001b[0m\u001b[90m━━━━━━━━━━━━━━\u001b[0m \u001b[32m60.9/97.1 MB\u001b[0m \u001b[31m165.8 MB/s\u001b[0m eta \u001b[36m0:00:01\u001b[0m\r\n",
      "\u001b[2K     \u001b[91m━━━━━━━━━━━━━━━━━━━━━━━━━━\u001b[0m\u001b[91m╸\u001b[0m\u001b[90m━━━━━━━━━━━━\u001b[0m \u001b[32m66.4/97.1 MB\u001b[0m \u001b[31m164.4 MB/s\u001b[0m eta \u001b[36m0:00:01\u001b[0m"
     ]
    },
    {
     "name": "stdout",
     "output_type": "stream",
     "text": [
      "\r\n",
      "\u001b[2K     \u001b[91m━━━━━━━━━━━━━━━━━━━━━━━━━━━━\u001b[0m\u001b[91m╸\u001b[0m\u001b[90m━━━━━━━━━━\u001b[0m \u001b[32m72.2/97.1 MB\u001b[0m \u001b[31m167.5 MB/s\u001b[0m eta \u001b[36m0:00:01\u001b[0m"
     ]
    },
    {
     "name": "stdout",
     "output_type": "stream",
     "text": [
      "\r\n",
      "\u001b[2K     \u001b[91m━━━━━━━━━━━━━━━━━━━━━━━━━━━━━━━\u001b[0m\u001b[90m╺\u001b[0m\u001b[90m━━━━━━━\u001b[0m \u001b[32m78.3/97.1 MB\u001b[0m \u001b[31m165.4 MB/s\u001b[0m eta \u001b[36m0:00:01\u001b[0m\r\n",
      "\u001b[2K     \u001b[91m━━━━━━━━━━━━━━━━━━━━━━━━━━━━━━━━━\u001b[0m\u001b[91m╸\u001b[0m\u001b[90m━━━━━\u001b[0m \u001b[32m84.3/97.1 MB\u001b[0m \u001b[31m168.0 MB/s\u001b[0m eta \u001b[36m0:00:01\u001b[0m"
     ]
    },
    {
     "name": "stdout",
     "output_type": "stream",
     "text": [
      "\r\n",
      "\u001b[2K     \u001b[91m━━━━━━━━━━━━━━━━━━━━━━━━━━━━━━━━━━━━\u001b[0m\u001b[90m╺\u001b[0m\u001b[90m━━\u001b[0m \u001b[32m90.0/97.1 MB\u001b[0m \u001b[31m168.5 MB/s\u001b[0m eta \u001b[36m0:00:01\u001b[0m"
     ]
    },
    {
     "name": "stdout",
     "output_type": "stream",
     "text": [
      "\r\n",
      "\u001b[2K     \u001b[91m━━━━━━━━━━━━━━━━━━━━━━━━━━━━━━━━━━━━━━\u001b[0m\u001b[90m╺\u001b[0m \u001b[32m95.8/97.1 MB\u001b[0m \u001b[31m164.9 MB/s\u001b[0m eta \u001b[36m0:00:01\u001b[0m"
     ]
    },
    {
     "name": "stdout",
     "output_type": "stream",
     "text": [
      "\r\n",
      "\u001b[2K     \u001b[91m━━━━━━━━━━━━━━━━━━━━━━━━━━━━━━━━━━━━━━\u001b[0m\u001b[91m╸\u001b[0m \u001b[32m97.1/97.1 MB\u001b[0m \u001b[31m163.4 MB/s\u001b[0m eta \u001b[36m0:00:01\u001b[0m"
     ]
    },
    {
     "name": "stdout",
     "output_type": "stream",
     "text": [
      "\r\n",
      "\u001b[2K     \u001b[91m━━━━━━━━━━━━━━━━━━━━━━━━━━━━━━━━━━━━━━\u001b[0m\u001b[91m╸\u001b[0m \u001b[32m97.1/97.1 MB\u001b[0m \u001b[31m163.4 MB/s\u001b[0m eta \u001b[36m0:00:01\u001b[0m"
     ]
    },
    {
     "name": "stdout",
     "output_type": "stream",
     "text": [
      "\r\n",
      "\u001b[2K     \u001b[91m━━━━━━━━━━━━━━━━━━━━━━━━━━━━━━━━━━━━━━\u001b[0m\u001b[91m╸\u001b[0m \u001b[32m97.1/97.1 MB\u001b[0m \u001b[31m163.4 MB/s\u001b[0m eta \u001b[36m0:00:01\u001b[0m"
     ]
    },
    {
     "name": "stdout",
     "output_type": "stream",
     "text": [
      "\r\n",
      "\u001b[2K     \u001b[91m━━━━━━━━━━━━━━━━━━━━━━━━━━━━━━━━━━━━━━\u001b[0m\u001b[91m╸\u001b[0m \u001b[32m97.1/97.1 MB\u001b[0m \u001b[31m163.4 MB/s\u001b[0m eta \u001b[36m0:00:01\u001b[0m\r\n",
      "\u001b[2K     \u001b[91m━━━━━━━━━━━━━━━━━━━━━━━━━━━━━━━━━━━━━━\u001b[0m\u001b[91m╸\u001b[0m \u001b[32m97.1/97.1 MB\u001b[0m \u001b[31m163.4 MB/s\u001b[0m eta \u001b[36m0:00:01\u001b[0m"
     ]
    },
    {
     "name": "stdout",
     "output_type": "stream",
     "text": [
      "\r\n",
      "\u001b[2K     \u001b[91m━━━━━━━━━━━━━━━━━━━━━━━━━━━━━━━━━━━━━━\u001b[0m\u001b[91m╸\u001b[0m \u001b[32m97.1/97.1 MB\u001b[0m \u001b[31m163.4 MB/s\u001b[0m eta \u001b[36m0:00:01\u001b[0m"
     ]
    },
    {
     "name": "stdout",
     "output_type": "stream",
     "text": [
      "\r\n",
      "\u001b[2K     \u001b[91m━━━━━━━━━━━━━━━━━━━━━━━━━━━━━━━━━━━━━━\u001b[0m\u001b[91m╸\u001b[0m \u001b[32m97.1/97.1 MB\u001b[0m \u001b[31m163.4 MB/s\u001b[0m eta \u001b[36m0:00:01\u001b[0m\r\n",
      "\u001b[2K     \u001b[91m━━━━━━━━━━━━━━━━━━━━━━━━━━━━━━━━━━━━━━\u001b[0m\u001b[91m╸\u001b[0m \u001b[32m97.1/97.1 MB\u001b[0m \u001b[31m163.4 MB/s\u001b[0m eta \u001b[36m0:00:01\u001b[0m"
     ]
    },
    {
     "name": "stdout",
     "output_type": "stream",
     "text": [
      "\r\n",
      "\u001b[2K     \u001b[91m━━━━━━━━━━━━━━━━━━━━━━━━━━━━━━━━━━━━━━\u001b[0m\u001b[91m╸\u001b[0m \u001b[32m97.1/97.1 MB\u001b[0m \u001b[31m163.4 MB/s\u001b[0m eta \u001b[36m0:00:01\u001b[0m"
     ]
    },
    {
     "name": "stdout",
     "output_type": "stream",
     "text": [
      "\r\n",
      "\u001b[2K     \u001b[91m━━━━━━━━━━━━━━━━━━━━━━━━━━━━━━━━━━━━━━\u001b[0m\u001b[91m╸\u001b[0m \u001b[32m97.1/97.1 MB\u001b[0m \u001b[31m163.4 MB/s\u001b[0m eta \u001b[36m0:00:01\u001b[0m"
     ]
    },
    {
     "name": "stdout",
     "output_type": "stream",
     "text": [
      "\r\n",
      "\u001b[2K     \u001b[91m━━━━━━━━━━━━━━━━━━━━━━━━━━━━━━━━━━━━━━\u001b[0m\u001b[91m╸\u001b[0m \u001b[32m97.1/97.1 MB\u001b[0m \u001b[31m163.4 MB/s\u001b[0m eta \u001b[36m0:00:01\u001b[0m\r\n",
      "\u001b[2K     \u001b[91m━━━━━━━━━━━━━━━━━━━━━━━━━━━━━━━━━━━━━━\u001b[0m\u001b[91m╸\u001b[0m \u001b[32m97.1/97.1 MB\u001b[0m \u001b[31m163.4 MB/s\u001b[0m eta \u001b[36m0:00:01\u001b[0m"
     ]
    },
    {
     "name": "stdout",
     "output_type": "stream",
     "text": [
      "\r\n",
      "\u001b[2K     \u001b[91m━━━━━━━━━━━━━━━━━━━━━━━━━━━━━━━━━━━━━━\u001b[0m\u001b[91m╸\u001b[0m \u001b[32m97.1/97.1 MB\u001b[0m \u001b[31m163.4 MB/s\u001b[0m eta \u001b[36m0:00:01\u001b[0m"
     ]
    },
    {
     "name": "stdout",
     "output_type": "stream",
     "text": [
      "\r\n",
      "\u001b[2K     \u001b[91m━━━━━━━━━━━━━━━━━━━━━━━━━━━━━━━━━━━━━━\u001b[0m\u001b[91m╸\u001b[0m \u001b[32m97.1/97.1 MB\u001b[0m \u001b[31m163.4 MB/s\u001b[0m eta \u001b[36m0:00:01\u001b[0m\r\n",
      "\u001b[2K     \u001b[91m━━━━━━━━━━━━━━━━━━━━━━━━━━━━━━━━━━━━━━\u001b[0m\u001b[91m╸\u001b[0m \u001b[32m97.1/97.1 MB\u001b[0m \u001b[31m163.4 MB/s\u001b[0m eta \u001b[36m0:00:01\u001b[0m"
     ]
    },
    {
     "name": "stdout",
     "output_type": "stream",
     "text": [
      "\r\n",
      "\u001b[2K     \u001b[91m━━━━━━━━━━━━━━━━━━━━━━━━━━━━━━━━━━━━━━\u001b[0m\u001b[91m╸\u001b[0m \u001b[32m97.1/97.1 MB\u001b[0m \u001b[31m163.4 MB/s\u001b[0m eta \u001b[36m0:00:01\u001b[0m"
     ]
    },
    {
     "name": "stdout",
     "output_type": "stream",
     "text": [
      "\r\n",
      "\u001b[2K     \u001b[91m━━━━━━━━━━━━━━━━━━━━━━━━━━━━━━━━━━━━━━\u001b[0m\u001b[91m╸\u001b[0m \u001b[32m97.1/97.1 MB\u001b[0m \u001b[31m163.4 MB/s\u001b[0m eta \u001b[36m0:00:01\u001b[0m\r\n",
      "\u001b[2K     \u001b[90m━━━━━━━━━━━━━━━━━━━━━━━━━━━━━━━━━━━━━━━━\u001b[0m \u001b[32m97.1/97.1 MB\u001b[0m \u001b[31m13.5 MB/s\u001b[0m eta \u001b[36m0:00:00\u001b[0m\r\n",
      "\u001b[?25h"
     ]
    },
    {
     "name": "stdout",
     "output_type": "stream",
     "text": [
      "Requirement already satisfied: datasets in /opt/conda/lib/python3.10/site-packages (from -r requirements.txt (line 3)) (2.1.0)\r\n"
     ]
    },
    {
     "name": "stdout",
     "output_type": "stream",
     "text": [
      "Collecting loralib (from -r requirements.txt (line 4))\r\n"
     ]
    },
    {
     "name": "stdout",
     "output_type": "stream",
     "text": [
      "  Downloading loralib-0.1.1-py3-none-any.whl (8.8 kB)\r\n",
      "Requirement already satisfied: sentencepiece in /opt/conda/lib/python3.10/site-packages (from -r requirements.txt (line 5)) (0.1.99)\r\n"
     ]
    },
    {
     "name": "stdout",
     "output_type": "stream",
     "text": [
      "Collecting gradio (from -r requirements.txt (line 8))\r\n",
      "  Downloading gradio-3.35.2-py3-none-any.whl (19.7 MB)\r\n",
      "\u001b[?25l     \u001b[90m━━━━━━━━━━━━━━━━━━━━━━━━━━━━━━━━━━━━━━━━\u001b[0m \u001b[32m0.0/19.7 MB\u001b[0m \u001b[31m?\u001b[0m eta \u001b[36m-:--:--\u001b[0m"
     ]
    },
    {
     "name": "stdout",
     "output_type": "stream",
     "text": [
      "\r\n",
      "\u001b[2K     \u001b[91m━━━━━━━━━━\u001b[0m\u001b[91m╸\u001b[0m\u001b[90m━━━━━━━━━━━━━━━━━━━━━━━━━━━━━\u001b[0m \u001b[32m5.2/19.7 MB\u001b[0m \u001b[31m157.5 MB/s\u001b[0m eta \u001b[36m0:00:01\u001b[0m"
     ]
    },
    {
     "name": "stdout",
     "output_type": "stream",
     "text": [
      "\r\n",
      "\u001b[2K     \u001b[91m━━━━━━━━━━━━━━━━━━━━━\u001b[0m\u001b[90m╺\u001b[0m\u001b[90m━━━━━━━━━━━━━━━━━\u001b[0m \u001b[32m10.8/19.7 MB\u001b[0m \u001b[31m154.1 MB/s\u001b[0m eta \u001b[36m0:00:01\u001b[0m\r\n",
      "\u001b[2K     \u001b[91m━━━━━━━━━━━━━━━━━━━━━━━━━━━━━━━━\u001b[0m\u001b[90m╺\u001b[0m\u001b[90m━━━━━━\u001b[0m \u001b[32m16.3/19.7 MB\u001b[0m \u001b[31m155.9 MB/s\u001b[0m eta \u001b[36m0:00:01\u001b[0m"
     ]
    },
    {
     "name": "stdout",
     "output_type": "stream",
     "text": [
      "\r\n",
      "\u001b[2K     \u001b[91m━━━━━━━━━━━━━━━━━━━━━━━━━━━━━━━━━━━━━━\u001b[0m\u001b[91m╸\u001b[0m \u001b[32m19.7/19.7 MB\u001b[0m \u001b[31m148.4 MB/s\u001b[0m eta \u001b[36m0:00:01\u001b[0m"
     ]
    },
    {
     "name": "stdout",
     "output_type": "stream",
     "text": [
      "\r\n",
      "\u001b[2K     \u001b[91m━━━━━━━━━━━━━━━━━━━━━━━━━━━━━━━━━━━━━━\u001b[0m\u001b[91m╸\u001b[0m \u001b[32m19.7/19.7 MB\u001b[0m \u001b[31m148.4 MB/s\u001b[0m eta \u001b[36m0:00:01\u001b[0m"
     ]
    },
    {
     "name": "stdout",
     "output_type": "stream",
     "text": [
      "\r\n",
      "\u001b[2K     \u001b[91m━━━━━━━━━━━━━━━━━━━━━━━━━━━━━━━━━━━━━━\u001b[0m\u001b[91m╸\u001b[0m \u001b[32m19.7/19.7 MB\u001b[0m \u001b[31m148.4 MB/s\u001b[0m eta \u001b[36m0:00:01\u001b[0m\r\n",
      "\u001b[2K     \u001b[90m━━━━━━━━━━━━━━━━━━━━━━━━━━━━━━━━━━━━━━━━\u001b[0m \u001b[32m19.7/19.7 MB\u001b[0m \u001b[31m59.8 MB/s\u001b[0m eta \u001b[36m0:00:00\u001b[0m\r\n",
      "\u001b[?25h"
     ]
    },
    {
     "name": "stdout",
     "output_type": "stream",
     "text": [
      "Collecting bingbong (from -r requirements.txt (line 9))\r\n",
      "  Downloading bingbong-0.3.2-py3-none-any.whl (17 kB)\r\n"
     ]
    },
    {
     "name": "stdout",
     "output_type": "stream",
     "text": [
      "Requirement already satisfied: tokenizers==0.13.3 in /opt/conda/lib/python3.10/site-packages (from -r requirements.txt (line 12)) (0.13.3)\r\n",
      "Collecting einops (from -r requirements.txt (line 13))\r\n"
     ]
    },
    {
     "name": "stdout",
     "output_type": "stream",
     "text": [
      "  Downloading einops-0.6.1-py3-none-any.whl (42 kB)\r\n",
      "\u001b[?25l     \u001b[90m━━━━━━━━━━━━━━━━━━━━━━━━━━━━━━━━━━━━━━━━\u001b[0m \u001b[32m0.0/42.2 kB\u001b[0m \u001b[31m?\u001b[0m eta \u001b[36m-:--:--\u001b[0m\r\n",
      "\u001b[2K     \u001b[90m━━━━━━━━━━━━━━━━━━━━━━━━━━━━━━━━━━━━━━━━\u001b[0m \u001b[32m42.2/42.2 kB\u001b[0m \u001b[31m4.3 MB/s\u001b[0m eta \u001b[36m0:00:00\u001b[0m\r\n",
      "\u001b[?25hRequirement already satisfied: scipy in /opt/conda/lib/python3.10/site-packages (from -r requirements.txt (line 14)) (1.10.1)\r\n",
      "Requirement already satisfied: protobuf==3.20.* in /opt/conda/lib/python3.10/site-packages (from -r requirements.txt (line 15)) (3.20.3)\r\n",
      "Requirement already satisfied: filelock in /opt/conda/lib/python3.10/site-packages (from torch->-r requirements.txt (line 1)) (3.12.0)\r\n",
      "Requirement already satisfied: typing-extensions in /opt/conda/lib/python3.10/site-packages (from torch->-r requirements.txt (line 1)) (4.5.0)\r\n",
      "Requirement already satisfied: sympy in /opt/conda/lib/python3.10/site-packages (from torch->-r requirements.txt (line 1)) (1.12)\r\n",
      "Requirement already satisfied: networkx in /opt/conda/lib/python3.10/site-packages (from torch->-r requirements.txt (line 1)) (3.1)\r\n",
      "Requirement already satisfied: jinja2 in /opt/conda/lib/python3.10/site-packages (from torch->-r requirements.txt (line 1)) (3.1.2)\r\n"
     ]
    },
    {
     "name": "stdout",
     "output_type": "stream",
     "text": [
      "Requirement already satisfied: numpy>=1.17 in /opt/conda/lib/python3.10/site-packages (from datasets->-r requirements.txt (line 3)) (1.23.5)\r\n"
     ]
    },
    {
     "name": "stdout",
     "output_type": "stream",
     "text": [
      "Requirement already satisfied: pyarrow>=5.0.0 in /opt/conda/lib/python3.10/site-packages (from datasets->-r requirements.txt (line 3)) (11.0.0)\r\n",
      "Requirement already satisfied: dill in /opt/conda/lib/python3.10/site-packages (from datasets->-r requirements.txt (line 3)) (0.3.6)\r\n",
      "Requirement already satisfied: pandas in /opt/conda/lib/python3.10/site-packages (from datasets->-r requirements.txt (line 3)) (1.5.3)\r\n",
      "Requirement already satisfied: requests>=2.19.0 in /opt/conda/lib/python3.10/site-packages (from datasets->-r requirements.txt (line 3)) (2.28.2)\r\n",
      "Requirement already satisfied: tqdm>=4.62.1 in /opt/conda/lib/python3.10/site-packages (from datasets->-r requirements.txt (line 3)) (4.64.1)\r\n",
      "Requirement already satisfied: xxhash in /opt/conda/lib/python3.10/site-packages (from datasets->-r requirements.txt (line 3)) (3.2.0)\r\n",
      "Requirement already satisfied: multiprocess in /opt/conda/lib/python3.10/site-packages (from datasets->-r requirements.txt (line 3)) (0.70.14)\r\n",
      "Requirement already satisfied: fsspec[http]>=2021.05.0 in /opt/conda/lib/python3.10/site-packages (from datasets->-r requirements.txt (line 3)) (2023.6.0)\r\n",
      "Requirement already satisfied: aiohttp in /opt/conda/lib/python3.10/site-packages (from datasets->-r requirements.txt (line 3)) (3.8.4)\r\n",
      "Requirement already satisfied: huggingface-hub<1.0.0,>=0.1.0 in /opt/conda/lib/python3.10/site-packages (from datasets->-r requirements.txt (line 3)) (0.15.1)\r\n",
      "Requirement already satisfied: packaging in /opt/conda/lib/python3.10/site-packages (from datasets->-r requirements.txt (line 3)) (21.3)\r\n",
      "Requirement already satisfied: responses<0.19 in /opt/conda/lib/python3.10/site-packages (from datasets->-r requirements.txt (line 3)) (0.18.0)\r\n"
     ]
    },
    {
     "name": "stdout",
     "output_type": "stream",
     "text": [
      "Requirement already satisfied: pyyaml>=5.1 in /opt/conda/lib/python3.10/site-packages (from transformers==4.31.0.dev0->-r requirements.txt (line 6)) (5.4.1)\r\n",
      "Requirement already satisfied: regex!=2019.12.17 in /opt/conda/lib/python3.10/site-packages (from transformers==4.31.0.dev0->-r requirements.txt (line 6)) (2023.5.5)\r\n",
      "Requirement already satisfied: safetensors>=0.3.1 in /opt/conda/lib/python3.10/site-packages (from transformers==4.31.0.dev0->-r requirements.txt (line 6)) (0.3.1)\r\n",
      "Requirement already satisfied: psutil in /opt/conda/lib/python3.10/site-packages (from peft==0.4.0.dev0->-r requirements.txt (line 7)) (5.9.3)\r\n"
     ]
    },
    {
     "name": "stdout",
     "output_type": "stream",
     "text": [
      "Requirement already satisfied: aiofiles in /opt/conda/lib/python3.10/site-packages (from gradio->-r requirements.txt (line 8)) (22.1.0)\r\n",
      "Requirement already satisfied: altair>=4.2.0 in /opt/conda/lib/python3.10/site-packages (from gradio->-r requirements.txt (line 8)) (5.0.1)\r\n",
      "Requirement already satisfied: fastapi in /opt/conda/lib/python3.10/site-packages (from gradio->-r requirements.txt (line 8)) (0.95.1)\r\n"
     ]
    },
    {
     "name": "stdout",
     "output_type": "stream",
     "text": [
      "Collecting ffmpy (from gradio->-r requirements.txt (line 8))\r\n",
      "  Downloading ffmpy-0.3.0.tar.gz (4.8 kB)\r\n"
     ]
    },
    {
     "name": "stdout",
     "output_type": "stream",
     "text": [
      "  Preparing metadata (setup.py) ... \u001b[?25l-"
     ]
    },
    {
     "name": "stdout",
     "output_type": "stream",
     "text": [
      "\b \b\\\b \bdone\r\n"
     ]
    },
    {
     "name": "stdout",
     "output_type": "stream",
     "text": [
      "\u001b[?25hCollecting gradio-client>=0.2.7 (from gradio->-r requirements.txt (line 8))\r\n",
      "  Downloading gradio_client-0.2.7-py3-none-any.whl (288 kB)\r\n",
      "\u001b[?25l     \u001b[90m━━━━━━━━━━━━━━━━━━━━━━━━━━━━━━━━━━━━━━━━\u001b[0m \u001b[32m0.0/288.4 kB\u001b[0m \u001b[31m?\u001b[0m eta \u001b[36m-:--:--\u001b[0m\r\n",
      "\u001b[2K     \u001b[90m━━━━━━━━━━━━━━━━━━━━━━━━━━━━━━━━━━━━━━\u001b[0m \u001b[32m288.4/288.4 kB\u001b[0m \u001b[31m22.2 MB/s\u001b[0m eta \u001b[36m0:00:00\u001b[0m\r\n",
      "\u001b[?25h"
     ]
    },
    {
     "name": "stdout",
     "output_type": "stream",
     "text": [
      "Collecting httpx (from gradio->-r requirements.txt (line 8))\r\n",
      "  Downloading httpx-0.24.1-py3-none-any.whl (75 kB)\r\n",
      "\u001b[?25l"
     ]
    },
    {
     "name": "stdout",
     "output_type": "stream",
     "text": [
      "     \u001b[90m━━━━━━━━━━━━━━━━━━━━━━━━━━━━━━━━━━━━━━━━\u001b[0m \u001b[32m0.0/75.4 kB\u001b[0m \u001b[31m?\u001b[0m eta \u001b[36m-:--:--\u001b[0m\r\n",
      "\u001b[2K     \u001b[90m━━━━━━━━━━━━━━━━━━━━━━━━━━━━━━━━━━━━━━━━\u001b[0m \u001b[32m75.4/75.4 kB\u001b[0m \u001b[31m6.8 MB/s\u001b[0m eta \u001b[36m0:00:00\u001b[0m\r\n",
      "\u001b[?25hRequirement already satisfied: markdown-it-py[linkify]>=2.0.0 in /opt/conda/lib/python3.10/site-packages (from gradio->-r requirements.txt (line 8)) (2.2.0)\r\n",
      "Requirement already satisfied: markupsafe in /opt/conda/lib/python3.10/site-packages (from gradio->-r requirements.txt (line 8)) (2.1.2)\r\n",
      "Requirement already satisfied: matplotlib in /opt/conda/lib/python3.10/site-packages (from gradio->-r requirements.txt (line 8)) (3.6.3)\r\n"
     ]
    },
    {
     "name": "stdout",
     "output_type": "stream",
     "text": [
      "Collecting mdit-py-plugins<=0.3.3 (from gradio->-r requirements.txt (line 8))\r\n"
     ]
    },
    {
     "name": "stdout",
     "output_type": "stream",
     "text": [
      "  Downloading mdit_py_plugins-0.3.3-py3-none-any.whl (50 kB)\r\n",
      "\u001b[?25l     \u001b[90m━━━━━━━━━━━━━━━━━━━━━━━━━━━━━━━━━━━━━━━━\u001b[0m \u001b[32m0.0/50.5 kB\u001b[0m \u001b[31m?\u001b[0m eta \u001b[36m-:--:--\u001b[0m\r\n",
      "\u001b[2K     \u001b[90m━━━━━━━━━━━━━━━━━━━━━━━━━━━━━━━━━━━━━━━━\u001b[0m \u001b[32m50.5/50.5 kB\u001b[0m \u001b[31m4.2 MB/s\u001b[0m eta \u001b[36m0:00:00\u001b[0m\r\n",
      "\u001b[?25hRequirement already satisfied: orjson in /opt/conda/lib/python3.10/site-packages (from gradio->-r requirements.txt (line 8)) (3.8.12)\r\n",
      "Requirement already satisfied: pillow in /opt/conda/lib/python3.10/site-packages (from gradio->-r requirements.txt (line 8)) (9.5.0)\r\n",
      "Requirement already satisfied: pydantic in /opt/conda/lib/python3.10/site-packages (from gradio->-r requirements.txt (line 8)) (1.10.7)\r\n",
      "Requirement already satisfied: pydub in /opt/conda/lib/python3.10/site-packages (from gradio->-r requirements.txt (line 8)) (0.25.1)\r\n",
      "Requirement already satisfied: pygments>=2.12.0 in /opt/conda/lib/python3.10/site-packages (from gradio->-r requirements.txt (line 8)) (2.15.1)\r\n"
     ]
    },
    {
     "name": "stdout",
     "output_type": "stream",
     "text": [
      "Collecting python-multipart (from gradio->-r requirements.txt (line 8))\r\n"
     ]
    },
    {
     "name": "stdout",
     "output_type": "stream",
     "text": [
      "  Downloading python_multipart-0.0.6-py3-none-any.whl (45 kB)\r\n",
      "\u001b[?25l     \u001b[90m━━━━━━━━━━━━━━━━━━━━━━━━━━━━━━━━━━━━━━━━\u001b[0m \u001b[32m0.0/45.7 kB\u001b[0m \u001b[31m?\u001b[0m eta \u001b[36m-:--:--\u001b[0m\r\n",
      "\u001b[2K     \u001b[90m━━━━━━━━━━━━━━━━━━━━━━━━━━━━━━━━━━━━━━━━\u001b[0m \u001b[32m45.7/45.7 kB\u001b[0m \u001b[31m3.3 MB/s\u001b[0m eta \u001b[36m0:00:00\u001b[0m\r\n",
      "\u001b[?25h"
     ]
    },
    {
     "name": "stdout",
     "output_type": "stream",
     "text": [
      "Collecting semantic-version (from gradio->-r requirements.txt (line 8))\r\n"
     ]
    },
    {
     "name": "stdout",
     "output_type": "stream",
     "text": [
      "  Downloading semantic_version-2.10.0-py2.py3-none-any.whl (15 kB)\r\n",
      "Requirement already satisfied: uvicorn>=0.14.0 in /opt/conda/lib/python3.10/site-packages (from gradio->-r requirements.txt (line 8)) (0.22.0)\r\n",
      "Requirement already satisfied: websockets>=10.0 in /opt/conda/lib/python3.10/site-packages (from gradio->-r requirements.txt (line 8)) (11.0.3)\r\n"
     ]
    },
    {
     "name": "stdout",
     "output_type": "stream",
     "text": [
      "Collecting coloredlogs (from optimum==1.8.8.dev0->-r requirements.txt (line 10))\r\n"
     ]
    },
    {
     "name": "stdout",
     "output_type": "stream",
     "text": [
      "  Downloading coloredlogs-15.0.1-py2.py3-none-any.whl (46 kB)\r\n",
      "\u001b[?25l     \u001b[90m━━━━━━━━━━━━━━━━━━━━━━━━━━━━━━━━━━━━━━━━\u001b[0m \u001b[32m0.0/46.0 kB\u001b[0m \u001b[31m?\u001b[0m eta \u001b[36m-:--:--\u001b[0m\r\n",
      "\u001b[2K     \u001b[90m━━━━━━━━━━━━━━━━━━━━━━━━━━━━━━━━━━━━━━━━\u001b[0m \u001b[32m46.0/46.0 kB\u001b[0m \u001b[31m4.1 MB/s\u001b[0m eta \u001b[36m0:00:00\u001b[0m\r\n",
      "\u001b[?25h"
     ]
    },
    {
     "name": "stdout",
     "output_type": "stream",
     "text": [
      "Requirement already satisfied: jsonschema>=3.0 in /opt/conda/lib/python3.10/site-packages (from altair>=4.2.0->gradio->-r requirements.txt (line 8)) (4.17.3)\r\n",
      "Requirement already satisfied: toolz in /opt/conda/lib/python3.10/site-packages (from altair>=4.2.0->gradio->-r requirements.txt (line 8)) (0.12.0)\r\n"
     ]
    },
    {
     "name": "stdout",
     "output_type": "stream",
     "text": [
      "Requirement already satisfied: attrs>=17.3.0 in /opt/conda/lib/python3.10/site-packages (from aiohttp->datasets->-r requirements.txt (line 3)) (23.1.0)\r\n",
      "Requirement already satisfied: charset-normalizer<4.0,>=2.0 in /opt/conda/lib/python3.10/site-packages (from aiohttp->datasets->-r requirements.txt (line 3)) (2.1.1)\r\n",
      "Requirement already satisfied: multidict<7.0,>=4.5 in /opt/conda/lib/python3.10/site-packages (from aiohttp->datasets->-r requirements.txt (line 3)) (6.0.4)\r\n",
      "Requirement already satisfied: async-timeout<5.0,>=4.0.0a3 in /opt/conda/lib/python3.10/site-packages (from aiohttp->datasets->-r requirements.txt (line 3)) (4.0.2)\r\n",
      "Requirement already satisfied: yarl<2.0,>=1.0 in /opt/conda/lib/python3.10/site-packages (from aiohttp->datasets->-r requirements.txt (line 3)) (1.9.1)\r\n",
      "Requirement already satisfied: frozenlist>=1.1.1 in /opt/conda/lib/python3.10/site-packages (from aiohttp->datasets->-r requirements.txt (line 3)) (1.3.3)\r\n",
      "Requirement already satisfied: aiosignal>=1.1.2 in /opt/conda/lib/python3.10/site-packages (from aiohttp->datasets->-r requirements.txt (line 3)) (1.3.1)\r\n"
     ]
    },
    {
     "name": "stdout",
     "output_type": "stream",
     "text": [
      "Requirement already satisfied: mdurl~=0.1 in /opt/conda/lib/python3.10/site-packages (from markdown-it-py[linkify]>=2.0.0->gradio->-r requirements.txt (line 8)) (0.1.2)\r\n",
      "Requirement already satisfied: linkify-it-py<3,>=1 in /opt/conda/lib/python3.10/site-packages (from markdown-it-py[linkify]>=2.0.0->gradio->-r requirements.txt (line 8)) (2.0.2)\r\n",
      "Requirement already satisfied: pyparsing!=3.0.5,>=2.0.2 in /opt/conda/lib/python3.10/site-packages (from packaging->datasets->-r requirements.txt (line 3)) (3.0.9)\r\n",
      "Requirement already satisfied: python-dateutil>=2.8.1 in /opt/conda/lib/python3.10/site-packages (from pandas->datasets->-r requirements.txt (line 3)) (2.8.2)\r\n",
      "Requirement already satisfied: pytz>=2020.1 in /opt/conda/lib/python3.10/site-packages (from pandas->datasets->-r requirements.txt (line 3)) (2023.3)\r\n"
     ]
    },
    {
     "name": "stdout",
     "output_type": "stream",
     "text": [
      "Requirement already satisfied: idna<4,>=2.5 in /opt/conda/lib/python3.10/site-packages (from requests>=2.19.0->datasets->-r requirements.txt (line 3)) (3.4)\r\n",
      "Requirement already satisfied: urllib3<1.27,>=1.21.1 in /opt/conda/lib/python3.10/site-packages (from requests>=2.19.0->datasets->-r requirements.txt (line 3)) (1.26.15)\r\n",
      "Requirement already satisfied: certifi>=2017.4.17 in /opt/conda/lib/python3.10/site-packages (from requests>=2.19.0->datasets->-r requirements.txt (line 3)) (2023.5.7)\r\n"
     ]
    },
    {
     "name": "stdout",
     "output_type": "stream",
     "text": [
      "Requirement already satisfied: click>=7.0 in /opt/conda/lib/python3.10/site-packages (from uvicorn>=0.14.0->gradio->-r requirements.txt (line 8)) (8.1.3)\r\n",
      "Requirement already satisfied: h11>=0.8 in /opt/conda/lib/python3.10/site-packages (from uvicorn>=0.14.0->gradio->-r requirements.txt (line 8)) (0.14.0)\r\n"
     ]
    },
    {
     "name": "stdout",
     "output_type": "stream",
     "text": [
      "Collecting humanfriendly>=9.1 (from coloredlogs->optimum==1.8.8.dev0->-r requirements.txt (line 10))\r\n"
     ]
    },
    {
     "name": "stdout",
     "output_type": "stream",
     "text": [
      "  Downloading humanfriendly-10.0-py2.py3-none-any.whl (86 kB)\r\n",
      "\u001b[?25l     \u001b[90m━━━━━━━━━━━━━━━━━━━━━━━━━━━━━━━━━━━━━━━━\u001b[0m \u001b[32m0.0/86.8 kB\u001b[0m \u001b[31m?\u001b[0m eta \u001b[36m-:--:--\u001b[0m\r\n",
      "\u001b[2K     \u001b[90m━━━━━━━━━━━━━━━━━━━━━━━━━━━━━━━━━━━━━━━━\u001b[0m \u001b[32m86.8/86.8 kB\u001b[0m \u001b[31m9.8 MB/s\u001b[0m eta \u001b[36m0:00:00\u001b[0m\r\n",
      "\u001b[?25h"
     ]
    },
    {
     "name": "stdout",
     "output_type": "stream",
     "text": [
      "Requirement already satisfied: starlette<0.27.0,>=0.26.1 in /opt/conda/lib/python3.10/site-packages (from fastapi->gradio->-r requirements.txt (line 8)) (0.26.1)\r\n"
     ]
    },
    {
     "name": "stdout",
     "output_type": "stream",
     "text": [
      "Collecting httpcore<0.18.0,>=0.15.0 (from httpx->gradio->-r requirements.txt (line 8))\r\n"
     ]
    },
    {
     "name": "stdout",
     "output_type": "stream",
     "text": [
      "  Downloading httpcore-0.17.2-py3-none-any.whl (72 kB)\r\n",
      "\u001b[?25l     \u001b[90m━━━━━━━━━━━━━━━━━━━━━━━━━━━━━━━━━━━━━━━━\u001b[0m \u001b[32m0.0/72.5 kB\u001b[0m \u001b[31m?\u001b[0m eta \u001b[36m-:--:--\u001b[0m\r\n",
      "\u001b[2K     \u001b[90m━━━━━━━━━━━━━━━━━━━━━━━━━━━━━━━━━━━━━━━━\u001b[0m \u001b[32m72.5/72.5 kB\u001b[0m \u001b[31m8.2 MB/s\u001b[0m eta \u001b[36m0:00:00\u001b[0m\r\n",
      "\u001b[?25hRequirement already satisfied: sniffio in /opt/conda/lib/python3.10/site-packages (from httpx->gradio->-r requirements.txt (line 8)) (1.3.0)\r\n"
     ]
    },
    {
     "name": "stdout",
     "output_type": "stream",
     "text": [
      "Requirement already satisfied: contourpy>=1.0.1 in /opt/conda/lib/python3.10/site-packages (from matplotlib->gradio->-r requirements.txt (line 8)) (1.0.7)\r\n",
      "Requirement already satisfied: cycler>=0.10 in /opt/conda/lib/python3.10/site-packages (from matplotlib->gradio->-r requirements.txt (line 8)) (0.11.0)\r\n",
      "Requirement already satisfied: fonttools>=4.22.0 in /opt/conda/lib/python3.10/site-packages (from matplotlib->gradio->-r requirements.txt (line 8)) (4.39.3)\r\n",
      "Requirement already satisfied: kiwisolver>=1.0.1 in /opt/conda/lib/python3.10/site-packages (from matplotlib->gradio->-r requirements.txt (line 8)) (1.4.4)\r\n"
     ]
    },
    {
     "name": "stdout",
     "output_type": "stream",
     "text": [
      "Requirement already satisfied: mpmath>=0.19 in /opt/conda/lib/python3.10/site-packages (from sympy->torch->-r requirements.txt (line 1)) (1.3.0)\r\n"
     ]
    },
    {
     "name": "stdout",
     "output_type": "stream",
     "text": [
      "Requirement already satisfied: anyio<5.0,>=3.0 in /opt/conda/lib/python3.10/site-packages (from httpcore<0.18.0,>=0.15.0->httpx->gradio->-r requirements.txt (line 8)) (3.6.2)\r\n"
     ]
    },
    {
     "name": "stdout",
     "output_type": "stream",
     "text": [
      "Requirement already satisfied: pyrsistent!=0.17.0,!=0.17.1,!=0.17.2,>=0.14.0 in /opt/conda/lib/python3.10/site-packages (from jsonschema>=3.0->altair>=4.2.0->gradio->-r requirements.txt (line 8)) (0.19.3)\r\n",
      "Requirement already satisfied: uc-micro-py in /opt/conda/lib/python3.10/site-packages (from linkify-it-py<3,>=1->markdown-it-py[linkify]>=2.0.0->gradio->-r requirements.txt (line 8)) (1.0.2)\r\n"
     ]
    },
    {
     "name": "stdout",
     "output_type": "stream",
     "text": [
      "Requirement already satisfied: six>=1.5 in /opt/conda/lib/python3.10/site-packages (from python-dateutil>=2.8.1->pandas->datasets->-r requirements.txt (line 3)) (1.16.0)\r\n"
     ]
    },
    {
     "name": "stdout",
     "output_type": "stream",
     "text": [
      "Building wheels for collected packages: transformers, peft, optimum, accelerate, ffmpy\r\n"
     ]
    },
    {
     "name": "stdout",
     "output_type": "stream",
     "text": [
      "  Building wheel for transformers (pyproject.toml) ... \u001b[?25l-"
     ]
    },
    {
     "name": "stdout",
     "output_type": "stream",
     "text": [
      "\b \b\\"
     ]
    },
    {
     "name": "stdout",
     "output_type": "stream",
     "text": [
      "\b \b|"
     ]
    },
    {
     "name": "stdout",
     "output_type": "stream",
     "text": [
      "\b \b/"
     ]
    },
    {
     "name": "stdout",
     "output_type": "stream",
     "text": [
      "\b \b-"
     ]
    },
    {
     "name": "stdout",
     "output_type": "stream",
     "text": [
      "\b \b\\"
     ]
    },
    {
     "name": "stdout",
     "output_type": "stream",
     "text": [
      "\b \b|"
     ]
    },
    {
     "name": "stdout",
     "output_type": "stream",
     "text": [
      "\b \b/"
     ]
    },
    {
     "name": "stdout",
     "output_type": "stream",
     "text": [
      "\b \b-"
     ]
    },
    {
     "name": "stdout",
     "output_type": "stream",
     "text": [
      "\b \b\\"
     ]
    },
    {
     "name": "stdout",
     "output_type": "stream",
     "text": [
      "\b \b|"
     ]
    },
    {
     "name": "stdout",
     "output_type": "stream",
     "text": [
      "\b \b/"
     ]
    },
    {
     "name": "stdout",
     "output_type": "stream",
     "text": [
      "\b \b-"
     ]
    },
    {
     "name": "stdout",
     "output_type": "stream",
     "text": [
      "\b \b\\"
     ]
    },
    {
     "name": "stdout",
     "output_type": "stream",
     "text": [
      "\b \b|"
     ]
    },
    {
     "name": "stdout",
     "output_type": "stream",
     "text": [
      "\b \b/"
     ]
    },
    {
     "name": "stdout",
     "output_type": "stream",
     "text": [
      "\b \b-"
     ]
    },
    {
     "name": "stdout",
     "output_type": "stream",
     "text": [
      "\b \b\\"
     ]
    },
    {
     "name": "stdout",
     "output_type": "stream",
     "text": [
      "\b \b|"
     ]
    },
    {
     "name": "stdout",
     "output_type": "stream",
     "text": [
      "\b \b/"
     ]
    },
    {
     "name": "stdout",
     "output_type": "stream",
     "text": [
      "\b \b-"
     ]
    },
    {
     "name": "stdout",
     "output_type": "stream",
     "text": [
      "\b \bdone\r\n",
      "\u001b[?25h  Created wheel for transformers: filename=transformers-4.31.0.dev0-py3-none-any.whl size=7206883 sha256=60cee62c4403814af99d91a8af5cf9c4a78a0502cc61afdbd4343e1ea2aafd19\r\n",
      "  Stored in directory: /tmp/pip-ephem-wheel-cache-fzrjtx80/wheels/e7/9c/5b/e1a9c8007c343041e61cc484433d512ea9274272e3fcbe7c16\r\n"
     ]
    },
    {
     "name": "stdout",
     "output_type": "stream",
     "text": [
      "  Building wheel for peft (pyproject.toml) ... \u001b[?25l-"
     ]
    },
    {
     "name": "stdout",
     "output_type": "stream",
     "text": [
      "\b \bdone\r\n",
      "\u001b[?25h  Created wheel for peft: filename=peft-0.4.0.dev0-py3-none-any.whl size=61572 sha256=98892cf8b8991e7857073a17cd753bfb2d5591770ca87568f4ab02d34169689e\r\n",
      "  Stored in directory: /tmp/pip-ephem-wheel-cache-fzrjtx80/wheels/d7/c7/de/1368fac8590e1b103ddc2ec2a28ad51d83aded1a3830e8a087\r\n"
     ]
    },
    {
     "name": "stdout",
     "output_type": "stream",
     "text": [
      "  Building wheel for optimum (pyproject.toml) ... \u001b[?25l-"
     ]
    },
    {
     "name": "stdout",
     "output_type": "stream",
     "text": [
      "\b \b\\"
     ]
    },
    {
     "name": "stdout",
     "output_type": "stream",
     "text": [
      "\b \bdone\r\n",
      "\u001b[?25h  Created wheel for optimum: filename=optimum-1.8.8.dev0-py3-none-any.whl size=325161 sha256=4a1bd4cca4120e5388d692a400cd23d617b740de228f878b14fa672f18b36207\r\n",
      "  Stored in directory: /tmp/pip-ephem-wheel-cache-fzrjtx80/wheels/8f/fa/71/cd84bac993f8fa15de35a1c058b91b9394bbc638e56c4327fd\r\n"
     ]
    },
    {
     "name": "stdout",
     "output_type": "stream",
     "text": [
      "  Building wheel for accelerate (pyproject.toml) ... \u001b[?25l-"
     ]
    },
    {
     "name": "stdout",
     "output_type": "stream",
     "text": [
      "\b \b\\"
     ]
    },
    {
     "name": "stdout",
     "output_type": "stream",
     "text": [
      "\b \bdone\r\n",
      "\u001b[?25h  Created wheel for accelerate: filename=accelerate-0.21.0.dev0-py3-none-any.whl size=231288 sha256=285cc052d957051b2d9690dc39ffb3716cf22500ea661d3548041f071c7f2112\r\n",
      "  Stored in directory: /tmp/pip-ephem-wheel-cache-fzrjtx80/wheels/9c/a3/1e/47368f9b6575655fe9ee1b6350cfa7d4b0befe66a35f8a8365\r\n"
     ]
    },
    {
     "name": "stdout",
     "output_type": "stream",
     "text": [
      "  Building wheel for ffmpy (setup.py) ... \u001b[?25l-"
     ]
    },
    {
     "name": "stdout",
     "output_type": "stream",
     "text": [
      "\b \b\\"
     ]
    },
    {
     "name": "stdout",
     "output_type": "stream",
     "text": [
      "\b \bdone\r\n",
      "\u001b[?25h  Created wheel for ffmpy: filename=ffmpy-0.3.0-py3-none-any.whl size=4712 sha256=c0189e320443f7f6a76c95b9aea1ddb0f1b8057652c545b6b771c66b924562af\r\n",
      "  Stored in directory: /root/.cache/pip/wheels/0c/c2/0e/3b9c6845c6a4e35beb90910cc70d9ac9ab5d47402bd62af0df\r\n",
      "Successfully built transformers peft optimum accelerate ffmpy\r\n"
     ]
    },
    {
     "name": "stdout",
     "output_type": "stream",
     "text": [
      "Installing collected packages: ffmpy, bitsandbytes, semantic-version, python-multipart, loralib, humanfriendly, einops, bingbong, mdit-py-plugins, httpcore, coloredlogs, transformers, httpx, accelerate, peft, gradio-client, optimum, gradio\r\n"
     ]
    },
    {
     "name": "stdout",
     "output_type": "stream",
     "text": [
      "  Attempting uninstall: mdit-py-plugins\r\n",
      "    Found existing installation: mdit-py-plugins 0.3.5\r\n",
      "    Uninstalling mdit-py-plugins-0.3.5:\r\n"
     ]
    },
    {
     "name": "stdout",
     "output_type": "stream",
     "text": [
      "      Successfully uninstalled mdit-py-plugins-0.3.5\r\n"
     ]
    },
    {
     "name": "stdout",
     "output_type": "stream",
     "text": [
      "  Attempting uninstall: transformers\r\n",
      "    Found existing installation: transformers 4.30.1\r\n"
     ]
    },
    {
     "name": "stdout",
     "output_type": "stream",
     "text": [
      "    Uninstalling transformers-4.30.1:\r\n"
     ]
    },
    {
     "name": "stdout",
     "output_type": "stream",
     "text": [
      "      Successfully uninstalled transformers-4.30.1\r\n"
     ]
    },
    {
     "name": "stdout",
     "output_type": "stream",
     "text": [
      "  Attempting uninstall: accelerate\r\n",
      "    Found existing installation: accelerate 0.12.0\r\n"
     ]
    },
    {
     "name": "stdout",
     "output_type": "stream",
     "text": [
      "    Uninstalling accelerate-0.12.0:\r\n"
     ]
    },
    {
     "name": "stdout",
     "output_type": "stream",
     "text": [
      "      Successfully uninstalled accelerate-0.12.0\r\n"
     ]
    },
    {
     "name": "stdout",
     "output_type": "stream",
     "text": [
      "Successfully installed accelerate-0.21.0.dev0 bingbong-0.3.2 bitsandbytes-0.39.1 coloredlogs-15.0.1 einops-0.6.1 ffmpy-0.3.0 gradio-3.35.2 gradio-client-0.2.7 httpcore-0.17.2 httpx-0.24.1 humanfriendly-10.0 loralib-0.1.1 mdit-py-plugins-0.3.3 optimum-1.8.8.dev0 peft-0.4.0.dev0 python-multipart-0.0.6 semantic-version-2.10.0 transformers-4.31.0.dev0\r\n",
      "\u001b[33mWARNING: Running pip as the 'root' user can result in broken permissions and conflicting behaviour with the system package manager. It is recommended to use a virtual environment instead: https://pip.pypa.io/warnings/venv\u001b[0m\u001b[33m\r\n",
      "\u001b[0m"
     ]
    }
   ],
   "source": [
    "!pip install -r requirements.txt"
   ]
  },
  {
   "cell_type": "code",
   "execution_count": 4,
   "id": "1874fd87",
   "metadata": {
    "execution": {
     "iopub.execute_input": "2023-06-24T03:59:19.708235Z",
     "iopub.status.busy": "2023-06-24T03:59:19.707801Z",
     "iopub.status.idle": "2023-06-24T03:59:19.713629Z",
     "shell.execute_reply": "2023-06-24T03:59:19.712484Z"
    },
    "papermill": {
     "duration": 0.033684,
     "end_time": "2023-06-24T03:59:19.717061",
     "exception": false,
     "start_time": "2023-06-24T03:59:19.683377",
     "status": "completed"
    },
    "tags": []
   },
   "outputs": [],
   "source": [
    "# !curl -s https://ngrok-agent.s3.amazonaws.com/ngrok.asc | sudo tee /etc/apt/trusted.gpg.d/ngrok.asc >/dev/null && echo \"deb https://ngrok-agent.s3.amazonaws.com buster main\" | sudo tee /etc/apt/sources.list.d/ngrok.list && sudo apt update && sudo apt install ngrok\n",
    "# !pip install notebook\n",
    "# !ngrok config add-authtoken 2Q9EcU6W09ryG23mU9Q1rVPFPUE_yUunSbmYypi68miDQdyX\n",
    "# dayyan.tracyn@minofangle.org\n",
    "# helloconrua"
   ]
  },
  {
   "cell_type": "code",
   "execution_count": 5,
   "id": "9444a04d",
   "metadata": {
    "execution": {
     "iopub.execute_input": "2023-06-24T03:59:19.770774Z",
     "iopub.status.busy": "2023-06-24T03:59:19.769702Z",
     "iopub.status.idle": "2023-06-24T03:59:19.777180Z",
     "shell.execute_reply": "2023-06-24T03:59:19.776217Z"
    },
    "papermill": {
     "duration": 0.038691,
     "end_time": "2023-06-24T03:59:19.782292",
     "exception": false,
     "start_time": "2023-06-24T03:59:19.743601",
     "status": "completed"
    },
    "tags": []
   },
   "outputs": [],
   "source": [
    "# !python app.py & ngrok http --region ap 6006 &  wait"
   ]
  },
  {
   "cell_type": "code",
   "execution_count": 6,
   "id": "2a66bfed",
   "metadata": {
    "execution": {
     "iopub.execute_input": "2023-06-24T03:59:19.834599Z",
     "iopub.status.busy": "2023-06-24T03:59:19.834041Z"
    },
    "papermill": {
     "duration": null,
     "end_time": null,
     "exception": false,
     "start_time": "2023-06-24T03:59:19.811768",
     "status": "running"
    },
    "tags": []
   },
   "outputs": [
    {
     "name": "stdout",
     "output_type": "stream",
     "text": [
      "/opt/conda/lib/python3.10/site-packages/tensorflow_io/python/ops/__init__.py:98: UserWarning: unable to load libtensorflow_io_plugins.so: unable to open file: libtensorflow_io_plugins.so, from paths: ['/opt/conda/lib/python3.10/site-packages/tensorflow_io/python/ops/libtensorflow_io_plugins.so']\r\n",
      "caused by: ['/opt/conda/lib/python3.10/site-packages/tensorflow_io/python/ops/libtensorflow_io_plugins.so: undefined symbol: _ZN3tsl6StatusC1EN10tensorflow5error4CodeESt17basic_string_viewIcSt11char_traitsIcEENS_14SourceLocationE']\r\n",
      "  warnings.warn(f\"unable to load libtensorflow_io_plugins.so: {e}\")\r\n"
     ]
    },
    {
     "name": "stdout",
     "output_type": "stream",
     "text": [
      "/opt/conda/lib/python3.10/site-packages/tensorflow_io/python/ops/__init__.py:104: UserWarning: file system plugins are not loaded: unable to open file: libtensorflow_io.so, from paths: ['/opt/conda/lib/python3.10/site-packages/tensorflow_io/python/ops/libtensorflow_io.so']\r\n",
      "caused by: ['/opt/conda/lib/python3.10/site-packages/tensorflow_io/python/ops/libtensorflow_io.so: undefined symbol: _ZTVN10tensorflow13GcsFileSystemE']\r\n",
      "  warnings.warn(f\"file system plugins are not loaded: {e}\")\r\n"
     ]
    },
    {
     "name": "stdout",
     "output_type": "stream",
     "text": [
      "\r\n",
      "===================================BUG REPORT===================================\r\n",
      "Welcome to bitsandbytes. For bug reports, please run\r\n",
      "\r\n",
      "python -m bitsandbytes\r\n",
      "\r\n",
      " and submit this information together with your error trace to: https://github.com/TimDettmers/bitsandbytes/issues\r\n",
      "================================================================================\r\n",
      "bin /opt/conda/lib/python3.10/site-packages/bitsandbytes/libbitsandbytes_cuda118_nocublaslt.so\r\n",
      "/opt/conda/lib/python3.10/site-packages/bitsandbytes/cuda_setup/main.py:149: UserWarning: WARNING: The following directories listed in your path were found to be non-existent: {PosixPath('/usr/local/cuda/lib'), PosixPath('/usr/local/nvidia/lib'), PosixPath('/usr/local/lib/x86_64-linux-gnu')}\r\n",
      "  warn(msg)\r\n",
      "CUDA SETUP: CUDA runtime path found: /usr/local/cuda/lib64/libcudart.so\r\n",
      "CUDA SETUP: Highest compute capability among GPUs detected: 6.0\r\n",
      "CUDA SETUP: Detected CUDA version 118\r\n",
      "/opt/conda/lib/python3.10/site-packages/bitsandbytes/cuda_setup/main.py:149: UserWarning: WARNING: Compute capability < 7.5 detected! Only slow 8-bit matmul is supported for your GPU!\r\n",
      "  warn(msg)\r\n",
      "CUDA SETUP: Loading binary /opt/conda/lib/python3.10/site-packages/bitsandbytes/libbitsandbytes_cuda118_nocublaslt.so...\r\n"
     ]
    },
    {
     "name": "stdout",
     "output_type": "stream",
     "text": [
      "\r\n",
      "Downloading (…)_schema%400.0.3.json: 0.00B [00:00, ?B/s]\r\n",
      "Downloading (…)_schema%400.0.3.json: 13.1kB [00:00, 31.7MB/s]\r\n"
     ]
    },
    {
     "name": "stdout",
     "output_type": "stream",
     "text": [
      "/kaggle/working/LLM-As-Chatbot/app.py:1046: UserWarning: You have unused kwarg parameters in Row, please remove them: {'scale': 1}\r\n",
      "  main(args)\r\n"
     ]
    },
    {
     "name": "stdout",
     "output_type": "stream",
     "text": [
      "Running on local URL:  http://0.0.0.0:6006\r\n"
     ]
    },
    {
     "name": "stdout",
     "output_type": "stream",
     "text": [
      "Running on public URL: https://bfa857f115a545c27d.gradio.live\r\n",
      "\r\n",
      "This share link expires in 72 hours. For free permanent hosting and GPU upgrades, run `gradio deploy` from Terminal to deploy to Spaces (https://huggingface.co/spaces)\r\n"
     ]
    },
    {
     "name": "stdout",
     "output_type": "stream",
     "text": [
      "Traceback (most recent call last):\r\n",
      "  File \"/kaggle/working/LLM-As-Chatbot/app.py\", line 88, in use_chosen_model\r\n",
      "    test = global_vars.model\r\n",
      "AttributeError: module 'global_vars' has no attribute 'model'\r\n",
      "\r\n",
      "During handling of the above exception, another exception occurred:\r\n",
      "\r\n",
      "Traceback (most recent call last):\r\n",
      "  File \"/opt/conda/lib/python3.10/site-packages/gradio/routes.py\", line 437, in run_predict\r\n",
      "    output = await app.get_blocks().process_api(\r\n",
      "  File \"/opt/conda/lib/python3.10/site-packages/gradio/blocks.py\", line 1352, in process_api\r\n",
      "    result = await self.call_function(\r\n",
      "  File \"/opt/conda/lib/python3.10/site-packages/gradio/blocks.py\", line 1077, in call_function\r\n",
      "    prediction = await anyio.to_thread.run_sync(\r\n",
      "  File \"/opt/conda/lib/python3.10/site-packages/anyio/to_thread.py\", line 31, in run_sync\r\n",
      "    return await get_asynclib().run_sync_in_worker_thread(\r\n",
      "  File \"/opt/conda/lib/python3.10/site-packages/anyio/_backends/_asyncio.py\", line 937, in run_sync_in_worker_thread\r\n",
      "    return await future\r\n",
      "  File \"/opt/conda/lib/python3.10/site-packages/anyio/_backends/_asyncio.py\", line 867, in run\r\n",
      "    result = context.run(func, *args)\r\n",
      "  File \"/kaggle/working/LLM-As-Chatbot/app.py\", line 90, in use_chosen_model\r\n",
      "    raise gr.Error(\"There is no previously chosen model\")\r\n",
      "gradio.exceptions.Error: 'There is no previously chosen model'\r\n"
     ]
    },
    {
     "name": "stdout",
     "output_type": "stream",
     "text": [
      "total vram = 16280.875\r\n",
      "required vram(full=13858, 8bit=8254, 4bit=5140)\r\n"
     ]
    },
    {
     "name": "stdout",
     "output_type": "stream",
     "text": [
      "determined model type: alpaca\r\n"
     ]
    },
    {
     "name": "stdout",
     "output_type": "stream",
     "text": [
      "\r\n",
      "Downloading tokenizer.model:   0%|                   | 0.00/500k [00:00<?, ?B/s]"
     ]
    },
    {
     "name": "stdout",
     "output_type": "stream",
     "text": [
      "\r\n",
      "Downloading tokenizer.model: 100%|███████████| 500k/500k [00:00<00:00, 6.70MB/s]\r\n"
     ]
    },
    {
     "name": "stdout",
     "output_type": "stream",
     "text": [
      "\r\n",
      "Downloading (…)cial_tokens_map.json:   0%|            | 0.00/411 [00:00<?, ?B/s]\r\n",
      "Downloading (…)cial_tokens_map.json: 100%|█████| 411/411 [00:00<00:00, 2.15MB/s]\r\n"
     ]
    },
    {
     "name": "stdout",
     "output_type": "stream",
     "text": [
      "\r\n",
      "Downloading (…)okenizer_config.json:   0%|            | 0.00/727 [00:00<?, ?B/s]\r\n",
      "Downloading (…)okenizer_config.json: 100%|█████| 727/727 [00:00<00:00, 4.36MB/s]\r\n"
     ]
    },
    {
     "name": "stdout",
     "output_type": "stream",
     "text": [
      "gpu mode\r\n",
      "8bit = False, 4bit = True\r\n"
     ]
    },
    {
     "name": "stdout",
     "output_type": "stream",
     "text": [
      "\r\n",
      "Downloading (…)lve/main/config.json:   0%|            | 0.00/507 [00:00<?, ?B/s]\r\n",
      "Downloading (…)lve/main/config.json: 100%|██████| 507/507 [00:00<00:00, 940kB/s]\r\n"
     ]
    },
    {
     "name": "stdout",
     "output_type": "stream",
     "text": [
      "\r\n",
      "Downloading (…)model.bin.index.json: 0.00B [00:00, ?B/s]\r\n",
      "Downloading (…)model.bin.index.json: 26.8kB [00:00, 62.5MB/s]\r\n",
      "\r\n",
      "Downloading shards:   0%|                                 | 0/2 [00:00<?, ?it/s]"
     ]
    },
    {
     "name": "stdout",
     "output_type": "stream",
     "text": [
      "\r\n",
      "\r\n",
      "Downloading (…)l-00001-of-00002.bin:   0%|          | 0.00/9.98G [00:00<?, ?B/s]\u001b[A"
     ]
    },
    {
     "name": "stdout",
     "output_type": "stream",
     "text": [
      "\r\n",
      "\r\n",
      "Downloading (…)l-00001-of-00002.bin:   0%|  | 21.0M/9.98G [00:00<00:50, 198MB/s]\u001b[A"
     ]
    },
    {
     "name": "stdout",
     "output_type": "stream",
     "text": [
      "\r\n",
      "\r\n",
      "Downloading (…)l-00001-of-00002.bin:   1%|  | 52.4M/9.98G [00:00<00:44, 224MB/s]\u001b[A"
     ]
    },
    {
     "name": "stdout",
     "output_type": "stream",
     "text": [
      "\r\n",
      "\r\n",
      "Downloading (…)l-00001-of-00002.bin:   1%|  | 83.9M/9.98G [00:00<00:42, 231MB/s]\u001b[A"
     ]
    },
    {
     "name": "stdout",
     "output_type": "stream",
     "text": [
      "\r\n",
      "\r\n",
      "Downloading (…)l-00001-of-00002.bin:   1%|   | 115M/9.98G [00:00<00:42, 233MB/s]\u001b[A"
     ]
    },
    {
     "name": "stdout",
     "output_type": "stream",
     "text": [
      "\r\n",
      "\r\n",
      "Downloading (…)l-00001-of-00002.bin:   1%|   | 147M/9.98G [00:00<00:41, 234MB/s]\u001b[A"
     ]
    },
    {
     "name": "stdout",
     "output_type": "stream",
     "text": [
      "\r\n",
      "\r\n",
      "Downloading (…)l-00001-of-00002.bin:   2%|   | 178M/9.98G [00:00<00:41, 235MB/s]\u001b[A"
     ]
    },
    {
     "name": "stdout",
     "output_type": "stream",
     "text": [
      "\r\n",
      "\r\n",
      "Downloading (…)l-00001-of-00002.bin:   2%|   | 210M/9.98G [00:00<00:41, 236MB/s]\u001b[A"
     ]
    },
    {
     "name": "stdout",
     "output_type": "stream",
     "text": [
      "\r\n",
      "\r\n",
      "Downloading (…)l-00001-of-00002.bin:   2%|   | 241M/9.98G [00:01<00:41, 237MB/s]\u001b[A"
     ]
    },
    {
     "name": "stdout",
     "output_type": "stream",
     "text": [
      "\r\n",
      "\r\n",
      "Downloading (…)l-00001-of-00002.bin:   3%|   | 273M/9.98G [00:01<00:41, 235MB/s]\u001b[A"
     ]
    },
    {
     "name": "stdout",
     "output_type": "stream",
     "text": [
      "\r\n",
      "\r\n",
      "Downloading (…)l-00001-of-00002.bin:   3%|   | 304M/9.98G [00:01<00:41, 234MB/s]\u001b[A"
     ]
    },
    {
     "name": "stdout",
     "output_type": "stream",
     "text": [
      "\r\n",
      "\r\n",
      "Downloading (…)l-00001-of-00002.bin:   3%|   | 336M/9.98G [00:01<00:40, 235MB/s]\u001b[A"
     ]
    },
    {
     "name": "stdout",
     "output_type": "stream",
     "text": [
      "\r\n",
      "\r\n",
      "Downloading (…)l-00001-of-00002.bin:   4%|   | 367M/9.98G [00:01<00:40, 236MB/s]\u001b[A"
     ]
    },
    {
     "name": "stdout",
     "output_type": "stream",
     "text": [
      "\r\n",
      "\r\n",
      "Downloading (…)l-00001-of-00002.bin:   4%|   | 398M/9.98G [00:01<00:40, 236MB/s]\u001b[A"
     ]
    },
    {
     "name": "stdout",
     "output_type": "stream",
     "text": [
      "\r\n",
      "\r\n",
      "Downloading (…)l-00001-of-00002.bin:   4%|▏  | 430M/9.98G [00:01<00:40, 236MB/s]\u001b[A"
     ]
    },
    {
     "name": "stdout",
     "output_type": "stream",
     "text": [
      "\r\n",
      "\r\n",
      "Downloading (…)l-00001-of-00002.bin:   5%|▏  | 461M/9.98G [00:01<00:40, 234MB/s]\u001b[A"
     ]
    },
    {
     "name": "stdout",
     "output_type": "stream",
     "text": [
      "\r\n",
      "\r\n",
      "Downloading (…)l-00001-of-00002.bin:   5%|▏  | 493M/9.98G [00:02<00:40, 234MB/s]\u001b[A"
     ]
    },
    {
     "name": "stdout",
     "output_type": "stream",
     "text": [
      "\r\n",
      "\r\n",
      "Downloading (…)l-00001-of-00002.bin:   5%|▏  | 524M/9.98G [00:02<00:40, 233MB/s]\u001b[A"
     ]
    },
    {
     "name": "stdout",
     "output_type": "stream",
     "text": [
      "\r\n",
      "\r\n",
      "Downloading (…)l-00001-of-00002.bin:   6%|▏  | 556M/9.98G [00:02<00:40, 234MB/s]\u001b[A"
     ]
    },
    {
     "name": "stdout",
     "output_type": "stream",
     "text": [
      "\r\n",
      "\r\n",
      "Downloading (…)l-00001-of-00002.bin:   6%|▏  | 587M/9.98G [00:02<00:40, 233MB/s]\u001b[A"
     ]
    },
    {
     "name": "stdout",
     "output_type": "stream",
     "text": [
      "\r\n",
      "\r\n",
      "Downloading (…)l-00001-of-00002.bin:   6%|▏  | 619M/9.98G [00:02<00:39, 236MB/s]\u001b[A"
     ]
    },
    {
     "name": "stdout",
     "output_type": "stream",
     "text": [
      "\r\n"
     ]
    },
    {
     "name": "stdout",
     "output_type": "stream",
     "text": [
      "\r\n",
      "Downloading (…)l-00001-of-00002.bin:   7%|▏  | 650M/9.98G [00:02<00:39, 235MB/s]\u001b[A"
     ]
    },
    {
     "name": "stdout",
     "output_type": "stream",
     "text": [
      "\r\n",
      "\r\n",
      "Downloading (…)l-00001-of-00002.bin:   7%|▏  | 682M/9.98G [00:02<00:39, 235MB/s]\u001b[A"
     ]
    },
    {
     "name": "stdout",
     "output_type": "stream",
     "text": [
      "\r\n",
      "\r\n",
      "Downloading (…)l-00001-of-00002.bin:   7%|▏  | 713M/9.98G [00:03<00:39, 232MB/s]\u001b[A"
     ]
    },
    {
     "name": "stdout",
     "output_type": "stream",
     "text": [
      "\r\n",
      "\r\n",
      "Downloading (…)l-00001-of-00002.bin:   7%|▏  | 744M/9.98G [00:03<00:39, 232MB/s]\u001b[A"
     ]
    },
    {
     "name": "stdout",
     "output_type": "stream",
     "text": [
      "\r\n",
      "\r\n",
      "Downloading (…)l-00001-of-00002.bin:   8%|▏  | 776M/9.98G [00:03<00:41, 221MB/s]\u001b[A"
     ]
    },
    {
     "name": "stdout",
     "output_type": "stream",
     "text": [
      "\r\n",
      "\r\n",
      "Downloading (…)l-00001-of-00002.bin:   8%|▏  | 807M/9.98G [00:03<00:40, 225MB/s]\u001b[A"
     ]
    },
    {
     "name": "stdout",
     "output_type": "stream",
     "text": [
      "\r\n",
      "\r\n",
      "Downloading (…)l-00001-of-00002.bin:   8%|▎  | 839M/9.98G [00:03<00:40, 227MB/s]\u001b[A"
     ]
    },
    {
     "name": "stdout",
     "output_type": "stream",
     "text": [
      "\r\n",
      "\r\n",
      "Downloading (…)l-00001-of-00002.bin:   9%|▎  | 870M/9.98G [00:03<00:39, 229MB/s]\u001b[A"
     ]
    },
    {
     "name": "stdout",
     "output_type": "stream",
     "text": [
      "\r\n",
      "\r\n",
      "Downloading (…)l-00001-of-00002.bin:   9%|▎  | 902M/9.98G [00:03<00:39, 232MB/s]\u001b[A"
     ]
    },
    {
     "name": "stdout",
     "output_type": "stream",
     "text": [
      "\r\n",
      "\r\n",
      "Downloading (…)l-00001-of-00002.bin:   9%|▎  | 933M/9.98G [00:04<00:38, 234MB/s]\u001b[A"
     ]
    },
    {
     "name": "stdout",
     "output_type": "stream",
     "text": [
      "\r\n",
      "\r\n",
      "Downloading (…)l-00001-of-00002.bin:  10%|▎  | 965M/9.98G [00:04<00:42, 212MB/s]\u001b[A"
     ]
    },
    {
     "name": "stdout",
     "output_type": "stream",
     "text": [
      "\r\n",
      "\r\n",
      "Downloading (…)l-00001-of-00002.bin:  10%|▎  | 996M/9.98G [00:04<00:41, 217MB/s]\u001b[A"
     ]
    },
    {
     "name": "stdout",
     "output_type": "stream",
     "text": [
      "\r\n",
      "\r\n",
      "Downloading (…)l-00001-of-00002.bin:  10%|▏ | 1.03G/9.98G [00:04<00:40, 222MB/s]\u001b[A"
     ]
    },
    {
     "name": "stdout",
     "output_type": "stream",
     "text": [
      "\r\n",
      "\r\n",
      "Downloading (…)l-00001-of-00002.bin:  11%|▏ | 1.06G/9.98G [00:04<00:39, 226MB/s]\u001b[A"
     ]
    },
    {
     "name": "stdout",
     "output_type": "stream",
     "text": [
      "\r\n",
      "\r\n",
      "Downloading (…)l-00001-of-00002.bin:  11%|▏ | 1.09G/9.98G [00:04<00:38, 230MB/s]\u001b[A"
     ]
    },
    {
     "name": "stdout",
     "output_type": "stream",
     "text": [
      "\r\n",
      "\r\n",
      "Downloading (…)l-00001-of-00002.bin:  11%|▏ | 1.12G/9.98G [00:04<00:38, 233MB/s]\u001b[A"
     ]
    },
    {
     "name": "stdout",
     "output_type": "stream",
     "text": [
      "\r\n",
      "\r\n",
      "Downloading (…)l-00001-of-00002.bin:  12%|▏ | 1.15G/9.98G [00:04<00:37, 234MB/s]\u001b[A"
     ]
    },
    {
     "name": "stdout",
     "output_type": "stream",
     "text": [
      "\r\n",
      "\r\n",
      "Downloading (…)l-00001-of-00002.bin:  12%|▏ | 1.18G/9.98G [00:05<00:37, 234MB/s]\u001b[A"
     ]
    },
    {
     "name": "stdout",
     "output_type": "stream",
     "text": [
      "\r\n",
      "\r\n",
      "Downloading (…)l-00001-of-00002.bin:  12%|▏ | 1.22G/9.98G [00:05<00:37, 236MB/s]\u001b[A"
     ]
    },
    {
     "name": "stdout",
     "output_type": "stream",
     "text": [
      "\r\n",
      "\r\n",
      "Downloading (…)l-00001-of-00002.bin:  13%|▎ | 1.25G/9.98G [00:05<00:36, 236MB/s]\u001b[A"
     ]
    },
    {
     "name": "stdout",
     "output_type": "stream",
     "text": [
      "\r\n",
      "\r\n",
      "Downloading (…)l-00001-of-00002.bin:  13%|▎ | 1.28G/9.98G [00:05<00:36, 236MB/s]\u001b[A"
     ]
    },
    {
     "name": "stdout",
     "output_type": "stream",
     "text": [
      "\r\n",
      "\r\n",
      "Downloading (…)l-00001-of-00002.bin:  13%|▎ | 1.31G/9.98G [00:05<00:36, 236MB/s]\u001b[A"
     ]
    },
    {
     "name": "stdout",
     "output_type": "stream",
     "text": [
      "\r\n",
      "\r\n",
      "Downloading (…)l-00001-of-00002.bin:  13%|▎ | 1.34G/9.98G [00:05<00:36, 236MB/s]\u001b[A"
     ]
    },
    {
     "name": "stdout",
     "output_type": "stream",
     "text": [
      "\r\n",
      "\r\n",
      "Downloading (…)l-00001-of-00002.bin:  14%|▎ | 1.37G/9.98G [00:05<00:36, 237MB/s]\u001b[A"
     ]
    },
    {
     "name": "stdout",
     "output_type": "stream",
     "text": [
      "\r\n",
      "\r\n",
      "Downloading (…)l-00001-of-00002.bin:  14%|▎ | 1.41G/9.98G [00:06<00:36, 237MB/s]\u001b[A"
     ]
    },
    {
     "name": "stdout",
     "output_type": "stream",
     "text": [
      "\r\n",
      "\r\n",
      "Downloading (…)l-00001-of-00002.bin:  14%|▎ | 1.44G/9.98G [00:06<00:36, 236MB/s]\u001b[A"
     ]
    },
    {
     "name": "stdout",
     "output_type": "stream",
     "text": [
      "\r\n"
     ]
    },
    {
     "name": "stdout",
     "output_type": "stream",
     "text": [
      "\r\n",
      "Downloading (…)l-00001-of-00002.bin:  15%|▎ | 1.47G/9.98G [00:06<00:36, 236MB/s]\u001b[A"
     ]
    },
    {
     "name": "stdout",
     "output_type": "stream",
     "text": [
      "\r\n",
      "\r\n",
      "Downloading (…)l-00001-of-00002.bin:  15%|▎ | 1.50G/9.98G [00:06<00:37, 227MB/s]\u001b[A"
     ]
    },
    {
     "name": "stdout",
     "output_type": "stream",
     "text": [
      "\r\n",
      "\r\n",
      "Downloading (…)l-00001-of-00002.bin:  15%|▎ | 1.53G/9.98G [00:06<00:38, 221MB/s]\u001b[A"
     ]
    },
    {
     "name": "stdout",
     "output_type": "stream",
     "text": [
      "\r\n",
      "\r\n",
      "Downloading (…)l-00001-of-00002.bin:  16%|▎ | 1.56G/9.98G [00:06<00:38, 218MB/s]\u001b[A"
     ]
    },
    {
     "name": "stdout",
     "output_type": "stream",
     "text": [
      "\r\n",
      "\r\n",
      "Downloading (…)l-00001-of-00002.bin:  16%|▎ | 1.59G/9.98G [00:06<00:38, 217MB/s]\u001b[A"
     ]
    },
    {
     "name": "stdout",
     "output_type": "stream",
     "text": [
      "\r\n",
      "\r\n",
      "Downloading (…)l-00001-of-00002.bin:  16%|▎ | 1.63G/9.98G [00:07<00:38, 218MB/s]\u001b[A"
     ]
    },
    {
     "name": "stdout",
     "output_type": "stream",
     "text": [
      "\r\n",
      "\r\n",
      "Downloading (…)l-00001-of-00002.bin:  17%|▎ | 1.66G/9.98G [00:07<00:38, 215MB/s]\u001b[A"
     ]
    },
    {
     "name": "stdout",
     "output_type": "stream",
     "text": [
      "\r\n",
      "\r\n",
      "Downloading (…)l-00001-of-00002.bin:  17%|▎ | 1.69G/9.98G [00:07<00:38, 213MB/s]\u001b[A"
     ]
    },
    {
     "name": "stdout",
     "output_type": "stream",
     "text": [
      "\r\n",
      "\r\n",
      "Downloading (…)l-00001-of-00002.bin:  17%|▎ | 1.72G/9.98G [00:07<00:38, 213MB/s]\u001b[A"
     ]
    },
    {
     "name": "stdout",
     "output_type": "stream",
     "text": [
      "\r\n",
      "\r\n",
      "Downloading (…)l-00001-of-00002.bin:  18%|▎ | 1.75G/9.98G [00:07<00:38, 213MB/s]\u001b[A"
     ]
    },
    {
     "name": "stdout",
     "output_type": "stream",
     "text": [
      "\r\n",
      "\r\n",
      "Downloading (…)l-00001-of-00002.bin:  18%|▎ | 1.78G/9.98G [00:07<00:38, 211MB/s]\u001b[A"
     ]
    },
    {
     "name": "stdout",
     "output_type": "stream",
     "text": [
      "\r\n",
      "\r\n",
      "Downloading (…)l-00001-of-00002.bin:  18%|▎ | 1.81G/9.98G [00:07<00:38, 211MB/s]\u001b[A"
     ]
    },
    {
     "name": "stdout",
     "output_type": "stream",
     "text": [
      "\r\n",
      "\r\n",
      "Downloading (…)l-00001-of-00002.bin:  18%|▎ | 1.85G/9.98G [00:08<00:38, 210MB/s]\u001b[A"
     ]
    },
    {
     "name": "stdout",
     "output_type": "stream",
     "text": [
      "\r\n",
      "\r\n",
      "Downloading (…)l-00001-of-00002.bin:  19%|▍ | 1.88G/9.98G [00:08<00:38, 211MB/s]\u001b[A"
     ]
    },
    {
     "name": "stdout",
     "output_type": "stream",
     "text": [
      "\r\n",
      "\r\n",
      "Downloading (…)l-00001-of-00002.bin:  19%|▍ | 1.91G/9.98G [00:08<00:38, 212MB/s]\u001b[A"
     ]
    },
    {
     "name": "stdout",
     "output_type": "stream",
     "text": [
      "\r\n",
      "\r\n",
      "Downloading (…)l-00001-of-00002.bin:  19%|▍ | 1.94G/9.98G [00:08<00:38, 211MB/s]\u001b[A"
     ]
    },
    {
     "name": "stdout",
     "output_type": "stream",
     "text": [
      "\r\n",
      "\r\n",
      "Downloading (…)l-00001-of-00002.bin:  20%|▍ | 1.97G/9.98G [00:08<00:38, 210MB/s]\u001b[A"
     ]
    },
    {
     "name": "stdout",
     "output_type": "stream",
     "text": [
      "\r\n",
      "\r\n",
      "Downloading (…)l-00001-of-00002.bin:  20%|▍ | 2.00G/9.98G [00:08<00:38, 208MB/s]\u001b[A"
     ]
    },
    {
     "name": "stdout",
     "output_type": "stream",
     "text": [
      "\r\n",
      "\r\n",
      "Downloading (…)l-00001-of-00002.bin:  20%|▍ | 2.02G/9.98G [00:08<00:38, 206MB/s]\u001b[A"
     ]
    },
    {
     "name": "stdout",
     "output_type": "stream",
     "text": [
      "\r\n",
      "\r\n",
      "Downloading (…)l-00001-of-00002.bin:  21%|▍ | 2.06G/9.98G [00:09<00:37, 209MB/s]\u001b[A"
     ]
    },
    {
     "name": "stdout",
     "output_type": "stream",
     "text": [
      "\r\n",
      "\r\n",
      "Downloading (…)l-00001-of-00002.bin:  21%|▍ | 2.09G/9.98G [00:09<00:37, 212MB/s]\u001b[A"
     ]
    },
    {
     "name": "stdout",
     "output_type": "stream",
     "text": [
      "\r\n",
      "\r\n",
      "Downloading (…)l-00001-of-00002.bin:  21%|▍ | 2.12G/9.98G [00:09<00:35, 219MB/s]\u001b[A"
     ]
    },
    {
     "name": "stdout",
     "output_type": "stream",
     "text": [
      "\r\n",
      "\r\n",
      "Downloading (…)l-00001-of-00002.bin:  22%|▍ | 2.15G/9.98G [00:09<00:35, 223MB/s]\u001b[A"
     ]
    },
    {
     "name": "stdout",
     "output_type": "stream",
     "text": [
      "\r\n",
      "\r\n",
      "Downloading (…)l-00001-of-00002.bin:  22%|▍ | 2.18G/9.98G [00:09<00:35, 223MB/s]\u001b[A"
     ]
    },
    {
     "name": "stdout",
     "output_type": "stream",
     "text": [
      "\r\n",
      "\r\n",
      "Downloading (…)l-00001-of-00002.bin:  22%|▍ | 2.21G/9.98G [00:09<00:34, 225MB/s]\u001b[A"
     ]
    },
    {
     "name": "stdout",
     "output_type": "stream",
     "text": [
      "\r\n",
      "\r\n",
      "Downloading (…)l-00001-of-00002.bin:  22%|▍ | 2.24G/9.98G [00:09<00:35, 216MB/s]\u001b[A"
     ]
    },
    {
     "name": "stdout",
     "output_type": "stream",
     "text": [
      "\r\n",
      "\r\n",
      "Downloading (…)l-00001-of-00002.bin:  23%|▍ | 2.28G/9.98G [00:10<00:36, 213MB/s]\u001b[A"
     ]
    },
    {
     "name": "stdout",
     "output_type": "stream",
     "text": [
      "\r\n",
      "\r\n",
      "Downloading (…)l-00001-of-00002.bin:  23%|▍ | 2.31G/9.98G [00:10<00:36, 208MB/s]\u001b[A"
     ]
    },
    {
     "name": "stdout",
     "output_type": "stream",
     "text": [
      "\r\n",
      "\r\n",
      "Downloading (…)l-00001-of-00002.bin:  23%|▍ | 2.33G/9.98G [00:10<00:37, 206MB/s]\u001b[A"
     ]
    },
    {
     "name": "stdout",
     "output_type": "stream",
     "text": [
      "\r\n",
      "\r\n",
      "Downloading (…)l-00001-of-00002.bin:  24%|▍ | 2.35G/9.98G [00:10<00:36, 207MB/s]\u001b[A"
     ]
    },
    {
     "name": "stdout",
     "output_type": "stream",
     "text": [
      "\r\n",
      "\r\n",
      "Downloading (…)l-00001-of-00002.bin:  24%|▍ | 2.37G/9.98G [00:10<00:37, 204MB/s]\u001b[A"
     ]
    },
    {
     "name": "stdout",
     "output_type": "stream",
     "text": [
      "\r\n",
      "\r\n",
      "Downloading (…)l-00001-of-00002.bin:  24%|▍ | 2.39G/9.98G [00:10<00:37, 204MB/s]\u001b[A"
     ]
    },
    {
     "name": "stdout",
     "output_type": "stream",
     "text": [
      "\r\n",
      "\r\n",
      "Downloading (…)l-00001-of-00002.bin:  24%|▍ | 2.41G/9.98G [00:10<00:36, 205MB/s]\u001b[A"
     ]
    },
    {
     "name": "stdout",
     "output_type": "stream",
     "text": [
      "\r\n",
      "\r\n",
      "Downloading (…)l-00001-of-00002.bin:  24%|▍ | 2.44G/9.98G [00:10<00:35, 210MB/s]\u001b[A"
     ]
    },
    {
     "name": "stdout",
     "output_type": "stream",
     "text": [
      "\r\n",
      "\r\n",
      "Downloading (…)l-00001-of-00002.bin:  25%|▍ | 2.47G/9.98G [00:11<00:35, 209MB/s]\u001b[A"
     ]
    },
    {
     "name": "stdout",
     "output_type": "stream",
     "text": [
      "\r\n"
     ]
    },
    {
     "name": "stdout",
     "output_type": "stream",
     "text": [
      "\r\n",
      "Downloading (…)l-00001-of-00002.bin:  25%|▌ | 2.50G/9.98G [00:11<00:36, 207MB/s]\u001b[A"
     ]
    },
    {
     "name": "stdout",
     "output_type": "stream",
     "text": [
      "\r\n",
      "\r\n",
      "Downloading (…)l-00001-of-00002.bin:  25%|▌ | 2.53G/9.98G [00:11<00:35, 213MB/s]\u001b[A"
     ]
    },
    {
     "name": "stdout",
     "output_type": "stream",
     "text": [
      "\r\n",
      "\r\n",
      "Downloading (…)l-00001-of-00002.bin:  26%|▌ | 2.56G/9.98G [00:11<00:33, 220MB/s]\u001b[A"
     ]
    },
    {
     "name": "stdout",
     "output_type": "stream",
     "text": [
      "\r\n",
      "\r\n",
      "Downloading (…)l-00001-of-00002.bin:  26%|▌ | 2.59G/9.98G [00:11<00:35, 208MB/s]\u001b[A"
     ]
    },
    {
     "name": "stdout",
     "output_type": "stream",
     "text": [
      "\r\n",
      "\r\n",
      "Downloading (…)l-00001-of-00002.bin:  26%|▌ | 2.62G/9.98G [00:11<00:34, 211MB/s]\u001b[A"
     ]
    },
    {
     "name": "stdout",
     "output_type": "stream",
     "text": [
      "\r\n",
      "\r\n",
      "Downloading (…)l-00001-of-00002.bin:  27%|▌ | 2.65G/9.98G [00:11<00:33, 217MB/s]\u001b[A"
     ]
    },
    {
     "name": "stdout",
     "output_type": "stream",
     "text": [
      "\r\n",
      "\r\n",
      "Downloading (…)l-00001-of-00002.bin:  27%|▌ | 2.68G/9.98G [00:12<00:36, 199MB/s]\u001b[A"
     ]
    },
    {
     "name": "stdout",
     "output_type": "stream",
     "text": [
      "\r\n",
      "\r\n",
      "Downloading (…)l-00001-of-00002.bin:  27%|▌ | 2.72G/9.98G [00:12<00:35, 206MB/s]\u001b[A"
     ]
    },
    {
     "name": "stdout",
     "output_type": "stream",
     "text": [
      "\r\n",
      "\r\n",
      "Downloading (…)l-00001-of-00002.bin:  28%|▌ | 2.75G/9.98G [00:12<00:33, 213MB/s]\u001b[A"
     ]
    },
    {
     "name": "stdout",
     "output_type": "stream",
     "text": [
      "\r\n",
      "\r\n",
      "Downloading (…)l-00001-of-00002.bin:  28%|▌ | 2.78G/9.98G [00:12<00:33, 216MB/s]\u001b[A"
     ]
    },
    {
     "name": "stdout",
     "output_type": "stream",
     "text": [
      "\r\n",
      "\r\n",
      "Downloading (…)l-00001-of-00002.bin:  28%|▌ | 2.81G/9.98G [00:12<00:32, 219MB/s]\u001b[A"
     ]
    },
    {
     "name": "stdout",
     "output_type": "stream",
     "text": [
      "\r\n",
      "\r\n",
      "Downloading (…)l-00001-of-00002.bin:  28%|▌ | 2.84G/9.98G [00:12<00:32, 222MB/s]\u001b[A"
     ]
    },
    {
     "name": "stdout",
     "output_type": "stream",
     "text": [
      "\r\n",
      "\r\n",
      "Downloading (…)l-00001-of-00002.bin:  29%|▌ | 2.87G/9.98G [00:12<00:31, 225MB/s]\u001b[A"
     ]
    },
    {
     "name": "stdout",
     "output_type": "stream",
     "text": [
      "\r\n",
      "\r\n",
      "Downloading (…)l-00001-of-00002.bin:  29%|▌ | 2.90G/9.98G [00:13<00:31, 222MB/s]\u001b[A"
     ]
    },
    {
     "name": "stdout",
     "output_type": "stream",
     "text": [
      "\r\n",
      "\r\n",
      "Downloading (…)l-00001-of-00002.bin:  29%|▌ | 2.94G/9.98G [00:13<00:31, 221MB/s]\u001b[A"
     ]
    },
    {
     "name": "stdout",
     "output_type": "stream",
     "text": [
      "\r\n",
      "\r\n",
      "Downloading (…)l-00001-of-00002.bin:  30%|▌ | 2.97G/9.98G [00:13<00:31, 220MB/s]\u001b[A"
     ]
    },
    {
     "name": "stdout",
     "output_type": "stream",
     "text": [
      "\r\n",
      "\r\n",
      "Downloading (…)l-00001-of-00002.bin:  30%|▌ | 3.00G/9.98G [00:13<00:31, 224MB/s]\u001b[A"
     ]
    },
    {
     "name": "stdout",
     "output_type": "stream",
     "text": [
      "\r\n",
      "\r\n",
      "Downloading (…)l-00001-of-00002.bin:  30%|▌ | 3.03G/9.98G [00:13<00:30, 224MB/s]\u001b[A"
     ]
    },
    {
     "name": "stdout",
     "output_type": "stream",
     "text": [
      "\r\n",
      "\r\n",
      "Downloading (…)l-00001-of-00002.bin:  31%|▌ | 3.06G/9.98G [00:13<00:30, 227MB/s]\u001b[A"
     ]
    },
    {
     "name": "stdout",
     "output_type": "stream",
     "text": [
      "\r\n",
      "\r\n",
      "Downloading (…)l-00001-of-00002.bin:  31%|▌ | 3.09G/9.98G [00:13<00:30, 228MB/s]\u001b[A"
     ]
    },
    {
     "name": "stdout",
     "output_type": "stream",
     "text": [
      "\r\n",
      "\r\n",
      "Downloading (…)l-00001-of-00002.bin:  31%|▋ | 3.12G/9.98G [00:14<00:29, 230MB/s]\u001b[A"
     ]
    },
    {
     "name": "stdout",
     "output_type": "stream",
     "text": [
      "\r\n",
      "\r\n",
      "Downloading (…)l-00001-of-00002.bin:  32%|▋ | 3.16G/9.98G [00:14<00:31, 217MB/s]\u001b[A"
     ]
    },
    {
     "name": "stdout",
     "output_type": "stream",
     "text": [
      "\r\n",
      "\r\n",
      "Downloading (…)l-00001-of-00002.bin:  32%|▋ | 3.19G/9.98G [00:14<00:30, 222MB/s]\u001b[A"
     ]
    },
    {
     "name": "stdout",
     "output_type": "stream",
     "text": [
      "\r\n",
      "\r\n",
      "Downloading (…)l-00001-of-00002.bin:  32%|▋ | 3.22G/9.98G [00:14<00:30, 220MB/s]\u001b[A"
     ]
    },
    {
     "name": "stdout",
     "output_type": "stream",
     "text": [
      "\r\n",
      "\r\n",
      "Downloading (…)l-00001-of-00002.bin:  33%|▋ | 3.25G/9.98G [00:14<00:31, 216MB/s]\u001b[A"
     ]
    },
    {
     "name": "stdout",
     "output_type": "stream",
     "text": [
      "\r\n",
      "\r\n",
      "Downloading (…)l-00001-of-00002.bin:  33%|▋ | 3.28G/9.98G [00:14<00:32, 205MB/s]\u001b[A"
     ]
    },
    {
     "name": "stdout",
     "output_type": "stream",
     "text": [
      "\r\n",
      "\r\n",
      "Downloading (…)l-00001-of-00002.bin:  33%|▋ | 3.30G/9.98G [00:15<00:38, 172MB/s]\u001b[A"
     ]
    },
    {
     "name": "stdout",
     "output_type": "stream",
     "text": [
      "\r\n",
      "\r\n",
      "Downloading (…)l-00001-of-00002.bin:  33%|▋ | 3.32G/9.98G [00:15<00:41, 161MB/s]\u001b[A"
     ]
    },
    {
     "name": "stdout",
     "output_type": "stream",
     "text": [
      "\r\n",
      "\r\n",
      "Downloading (…)l-00001-of-00002.bin:  34%|▋ | 3.34G/9.98G [00:15<00:41, 160MB/s]\u001b[A"
     ]
    },
    {
     "name": "stdout",
     "output_type": "stream",
     "text": [
      "\r\n",
      "\r\n",
      "Downloading (…)l-00001-of-00002.bin:  34%|▋ | 3.37G/9.98G [00:15<00:40, 165MB/s]\u001b[A"
     ]
    },
    {
     "name": "stdout",
     "output_type": "stream",
     "text": [
      "\r\n",
      "\r\n",
      "Downloading (…)l-00001-of-00002.bin:  34%|▋ | 3.39G/9.98G [00:15<00:58, 114MB/s]\u001b[A"
     ]
    },
    {
     "name": "stdout",
     "output_type": "stream",
     "text": [
      "\r\n",
      "\r\n",
      "Downloading (…)l-00001-of-00002.bin:  34%|▋ | 3.42G/9.98G [00:15<00:47, 138MB/s]\u001b[A"
     ]
    },
    {
     "name": "stdout",
     "output_type": "stream",
     "text": [
      "\r\n",
      "\r\n",
      "Downloading (…)l-00001-of-00002.bin:  34%|▋ | 3.44G/9.98G [00:15<00:43, 151MB/s]\u001b[A"
     ]
    },
    {
     "name": "stdout",
     "output_type": "stream",
     "text": [
      "\r\n",
      "\r\n",
      "Downloading (…)l-00001-of-00002.bin:  35%|▋ | 3.47G/9.98G [00:16<00:38, 169MB/s]\u001b[A"
     ]
    },
    {
     "name": "stdout",
     "output_type": "stream",
     "text": [
      "\r\n"
     ]
    },
    {
     "name": "stdout",
     "output_type": "stream",
     "text": [
      "\r\n",
      "Downloading (…)l-00001-of-00002.bin:  35%|▋ | 3.49G/9.98G [00:16<00:36, 178MB/s]\u001b[A"
     ]
    },
    {
     "name": "stdout",
     "output_type": "stream",
     "text": [
      "\r\n",
      "\r\n",
      "Downloading (…)l-00001-of-00002.bin:  35%|▋ | 3.51G/9.98G [00:16<00:35, 183MB/s]\u001b[A"
     ]
    },
    {
     "name": "stdout",
     "output_type": "stream",
     "text": [
      "\r\n",
      "\r\n",
      "Downloading (…)l-00001-of-00002.bin:  35%|▋ | 3.53G/9.98G [00:16<00:34, 188MB/s]\u001b[A"
     ]
    },
    {
     "name": "stdout",
     "output_type": "stream",
     "text": [
      "\r\n",
      "\r\n",
      "Downloading (…)l-00001-of-00002.bin:  36%|▋ | 3.57G/9.98G [00:16<00:32, 196MB/s]\u001b[A"
     ]
    },
    {
     "name": "stdout",
     "output_type": "stream",
     "text": [
      "\r\n",
      "\r\n",
      "Downloading (…)l-00001-of-00002.bin:  36%|▋ | 3.59G/9.98G [00:16<00:32, 197MB/s]\u001b[A"
     ]
    },
    {
     "name": "stdout",
     "output_type": "stream",
     "text": [
      "\r\n",
      "\r\n",
      "Downloading (…)l-00001-of-00002.bin:  36%|▋ | 3.61G/9.98G [00:16<00:32, 197MB/s]\u001b[A"
     ]
    },
    {
     "name": "stdout",
     "output_type": "stream",
     "text": [
      "\r\n",
      "\r\n",
      "Downloading (…)l-00001-of-00002.bin:  36%|▋ | 3.63G/9.98G [00:16<00:32, 197MB/s]\u001b[A"
     ]
    },
    {
     "name": "stdout",
     "output_type": "stream",
     "text": [
      "\r\n",
      "\r\n",
      "Downloading (…)l-00001-of-00002.bin:  37%|▋ | 3.66G/9.98G [00:17<00:31, 201MB/s]\u001b[A"
     ]
    },
    {
     "name": "stdout",
     "output_type": "stream",
     "text": [
      "\r\n",
      "\r\n",
      "Downloading (…)l-00001-of-00002.bin:  37%|▋ | 3.68G/9.98G [00:17<00:31, 200MB/s]\u001b[A"
     ]
    },
    {
     "name": "stdout",
     "output_type": "stream",
     "text": [
      "\r\n",
      "\r\n",
      "Downloading (…)l-00001-of-00002.bin:  37%|▋ | 3.70G/9.98G [00:17<00:31, 202MB/s]\u001b[A"
     ]
    },
    {
     "name": "stdout",
     "output_type": "stream",
     "text": [
      "\r\n",
      "\r\n",
      "Downloading (…)l-00001-of-00002.bin:  37%|▋ | 3.72G/9.98G [00:17<00:30, 203MB/s]\u001b[A"
     ]
    },
    {
     "name": "stdout",
     "output_type": "stream",
     "text": [
      "\r\n",
      "\r\n",
      "Downloading (…)l-00001-of-00002.bin:  38%|▊ | 3.75G/9.98G [00:17<00:30, 206MB/s]\u001b[A"
     ]
    },
    {
     "name": "stdout",
     "output_type": "stream",
     "text": [
      "\r\n",
      "\r\n",
      "Downloading (…)l-00001-of-00002.bin:  38%|▊ | 3.77G/9.98G [00:17<00:30, 206MB/s]\u001b[A"
     ]
    },
    {
     "name": "stdout",
     "output_type": "stream",
     "text": [
      "\r\n",
      "\r\n",
      "Downloading (…)l-00001-of-00002.bin:  38%|▊ | 3.80G/9.98G [00:17<00:30, 204MB/s]\u001b[A"
     ]
    },
    {
     "name": "stdout",
     "output_type": "stream",
     "text": [
      "\r\n",
      "\r\n",
      "Downloading (…)l-00001-of-00002.bin:  38%|▍| 3.82G/9.98G [00:19<02:29, 41.2MB/s]\u001b[A"
     ]
    },
    {
     "name": "stdout",
     "output_type": "stream",
     "text": [
      "\r\n",
      "\r\n",
      "Downloading (…)l-00001-of-00002.bin:  38%|▍| 3.84G/9.98G [00:19<02:02, 50.2MB/s]\u001b[A"
     ]
    },
    {
     "name": "stdout",
     "output_type": "stream",
     "text": [
      "\r\n",
      "\r\n",
      "Downloading (…)l-00001-of-00002.bin:  39%|▍| 3.86G/9.98G [00:19<01:35, 64.0MB/s]\u001b[A"
     ]
    },
    {
     "name": "stdout",
     "output_type": "stream",
     "text": [
      "\r\n",
      "\r\n",
      "Downloading (…)l-00001-of-00002.bin:  39%|▍| 3.89G/9.98G [00:19<01:09, 87.9MB/s]\u001b[A"
     ]
    },
    {
     "name": "stdout",
     "output_type": "stream",
     "text": [
      "\r\n",
      "\r\n",
      "Downloading (…)l-00001-of-00002.bin:  39%|▊ | 3.91G/9.98G [00:19<01:00, 101MB/s]\u001b[A"
     ]
    },
    {
     "name": "stdout",
     "output_type": "stream",
     "text": [
      "\r\n",
      "\r\n",
      "Downloading (…)l-00001-of-00002.bin:  39%|▊ | 3.93G/9.98G [00:19<00:51, 117MB/s]\u001b[A"
     ]
    },
    {
     "name": "stdout",
     "output_type": "stream",
     "text": [
      "\r\n",
      "\r\n",
      "Downloading (…)l-00001-of-00002.bin:  40%|▊ | 3.96G/9.98G [00:20<00:42, 143MB/s]\u001b[A"
     ]
    },
    {
     "name": "stdout",
     "output_type": "stream",
     "text": [
      "\r\n",
      "\r\n",
      "Downloading (…)l-00001-of-00002.bin:  40%|▊ | 4.00G/9.98G [00:20<00:36, 164MB/s]\u001b[A"
     ]
    },
    {
     "name": "stdout",
     "output_type": "stream",
     "text": [
      "\r\n",
      "\r\n",
      "Downloading (…)l-00001-of-00002.bin:  40%|▊ | 4.03G/9.98G [00:20<00:32, 181MB/s]\u001b[A"
     ]
    },
    {
     "name": "stdout",
     "output_type": "stream",
     "text": [
      "\r\n",
      "\r\n",
      "Downloading (…)l-00001-of-00002.bin:  41%|▊ | 4.06G/9.98G [00:20<00:30, 193MB/s]\u001b[A"
     ]
    },
    {
     "name": "stdout",
     "output_type": "stream",
     "text": [
      "\r\n",
      "\r\n",
      "Downloading (…)l-00001-of-00002.bin:  41%|▊ | 4.09G/9.98G [00:20<00:29, 201MB/s]\u001b[A"
     ]
    },
    {
     "name": "stdout",
     "output_type": "stream",
     "text": [
      "\r\n",
      "\r\n",
      "Downloading (…)l-00001-of-00002.bin:  41%|▊ | 4.12G/9.98G [00:20<00:28, 208MB/s]\u001b[A"
     ]
    },
    {
     "name": "stdout",
     "output_type": "stream",
     "text": [
      "\r\n",
      "\r\n",
      "Downloading (…)l-00001-of-00002.bin:  42%|▊ | 4.15G/9.98G [00:20<00:27, 214MB/s]\u001b[A"
     ]
    },
    {
     "name": "stdout",
     "output_type": "stream",
     "text": [
      "\r\n",
      "\r\n",
      "Downloading (…)l-00001-of-00002.bin:  42%|▊ | 4.18G/9.98G [00:21<00:26, 216MB/s]\u001b[A"
     ]
    },
    {
     "name": "stdout",
     "output_type": "stream",
     "text": [
      "\r\n",
      "\r\n",
      "Downloading (…)l-00001-of-00002.bin:  42%|▊ | 4.22G/9.98G [00:21<00:26, 220MB/s]\u001b[A"
     ]
    },
    {
     "name": "stdout",
     "output_type": "stream",
     "text": [
      "\r\n",
      "\r\n",
      "Downloading (…)l-00001-of-00002.bin:  43%|▊ | 4.25G/9.98G [00:21<00:26, 220MB/s]\u001b[A"
     ]
    },
    {
     "name": "stdout",
     "output_type": "stream",
     "text": [
      "\r\n",
      "\r\n",
      "Downloading (…)l-00001-of-00002.bin:  43%|▊ | 4.28G/9.98G [00:21<00:25, 221MB/s]\u001b[A"
     ]
    },
    {
     "name": "stdout",
     "output_type": "stream",
     "text": [
      "\r\n",
      "\r\n",
      "Downloading (…)l-00001-of-00002.bin:  43%|▊ | 4.31G/9.98G [00:21<00:25, 220MB/s]\u001b[A"
     ]
    },
    {
     "name": "stdout",
     "output_type": "stream",
     "text": [
      "\r\n",
      "\r\n",
      "Downloading (…)l-00001-of-00002.bin:  44%|▊ | 4.34G/9.98G [00:21<00:26, 216MB/s]\u001b[A"
     ]
    },
    {
     "name": "stdout",
     "output_type": "stream",
     "text": [
      "\r\n",
      "\r\n",
      "Downloading (…)l-00001-of-00002.bin:  44%|▉ | 4.37G/9.98G [00:21<00:25, 220MB/s]\u001b[A"
     ]
    },
    {
     "name": "stdout",
     "output_type": "stream",
     "text": [
      "\r\n",
      "\r\n",
      "Downloading (…)l-00001-of-00002.bin:  44%|▉ | 4.40G/9.98G [00:22<00:25, 218MB/s]\u001b[A"
     ]
    },
    {
     "name": "stdout",
     "output_type": "stream",
     "text": [
      "\r\n",
      "\r\n",
      "Downloading (…)l-00001-of-00002.bin:  44%|▉ | 4.44G/9.98G [00:22<00:29, 190MB/s]\u001b[A"
     ]
    },
    {
     "name": "stdout",
     "output_type": "stream",
     "text": [
      "\r\n",
      "\r\n",
      "Downloading (…)l-00001-of-00002.bin:  45%|▉ | 4.46G/9.98G [00:22<00:28, 192MB/s]\u001b[A"
     ]
    },
    {
     "name": "stdout",
     "output_type": "stream",
     "text": [
      "\r\n",
      "\r\n",
      "Downloading (…)l-00001-of-00002.bin:  45%|▉ | 4.49G/9.98G [00:22<00:27, 202MB/s]\u001b[A"
     ]
    },
    {
     "name": "stdout",
     "output_type": "stream",
     "text": [
      "\r\n",
      "\r\n",
      "Downloading (…)l-00001-of-00002.bin:  45%|▉ | 4.52G/9.98G [00:22<00:26, 208MB/s]\u001b[A"
     ]
    },
    {
     "name": "stdout",
     "output_type": "stream",
     "text": [
      "\r\n",
      "\r\n",
      "Downloading (…)l-00001-of-00002.bin:  46%|▉ | 4.55G/9.98G [00:22<00:25, 213MB/s]\u001b[A"
     ]
    },
    {
     "name": "stdout",
     "output_type": "stream",
     "text": [
      "\r\n",
      "\r\n",
      "Downloading (…)l-00001-of-00002.bin:  46%|▉ | 4.58G/9.98G [00:22<00:24, 217MB/s]\u001b[A"
     ]
    },
    {
     "name": "stdout",
     "output_type": "stream",
     "text": [
      "\r\n",
      "\r\n",
      "Downloading (…)l-00001-of-00002.bin:  46%|▉ | 4.61G/9.98G [00:23<00:24, 219MB/s]\u001b[A"
     ]
    },
    {
     "name": "stdout",
     "output_type": "stream",
     "text": [
      "\r\n",
      "\r\n",
      "Downloading (…)l-00001-of-00002.bin:  47%|▉ | 4.65G/9.98G [00:23<00:27, 196MB/s]\u001b[A"
     ]
    },
    {
     "name": "stdout",
     "output_type": "stream",
     "text": [
      "\r\n",
      "\r\n",
      "Downloading (…)l-00001-of-00002.bin:  47%|▉ | 4.68G/9.98G [00:23<00:25, 204MB/s]\u001b[A"
     ]
    },
    {
     "name": "stdout",
     "output_type": "stream",
     "text": [
      "\r\n",
      "\r\n",
      "Downloading (…)l-00001-of-00002.bin:  47%|▉ | 4.71G/9.98G [00:23<00:25, 210MB/s]\u001b[A"
     ]
    },
    {
     "name": "stdout",
     "output_type": "stream",
     "text": [
      "\r\n",
      "\r\n",
      "Downloading (…)l-00001-of-00002.bin:  48%|▉ | 4.74G/9.98G [00:23<00:24, 215MB/s]\u001b[A"
     ]
    },
    {
     "name": "stdout",
     "output_type": "stream",
     "text": [
      "\r\n",
      "\r\n",
      "Downloading (…)l-00001-of-00002.bin:  48%|▉ | 4.77G/9.98G [00:23<00:23, 218MB/s]\u001b[A"
     ]
    },
    {
     "name": "stdout",
     "output_type": "stream",
     "text": [
      "\r\n",
      "\r\n",
      "Downloading (…)l-00001-of-00002.bin:  48%|▉ | 4.80G/9.98G [00:23<00:23, 218MB/s]\u001b[A"
     ]
    },
    {
     "name": "stdout",
     "output_type": "stream",
     "text": [
      "\r\n",
      "\r\n",
      "Downloading (…)l-00001-of-00002.bin:  48%|▉ | 4.83G/9.98G [00:24<00:26, 195MB/s]\u001b[A"
     ]
    },
    {
     "name": "stdout",
     "output_type": "stream",
     "text": [
      "\r\n",
      "\r\n",
      "Downloading (…)l-00001-of-00002.bin:  49%|▉ | 4.87G/9.98G [00:24<00:25, 204MB/s]\u001b[A"
     ]
    },
    {
     "name": "stdout",
     "output_type": "stream",
     "text": [
      "\r\n",
      "\r\n",
      "Downloading (…)l-00001-of-00002.bin:  49%|▉ | 4.90G/9.98G [00:24<00:24, 208MB/s]\u001b[A"
     ]
    },
    {
     "name": "stdout",
     "output_type": "stream",
     "text": [
      "\r\n",
      "\r\n",
      "Downloading (…)l-00001-of-00002.bin:  49%|▉ | 4.93G/9.98G [00:24<00:25, 197MB/s]\u001b[A"
     ]
    },
    {
     "name": "stdout",
     "output_type": "stream",
     "text": [
      "\r\n",
      "\r\n",
      "Downloading (…)l-00001-of-00002.bin:  50%|▉ | 4.95G/9.98G [00:24<00:30, 163MB/s]\u001b[A"
     ]
    },
    {
     "name": "stdout",
     "output_type": "stream",
     "text": [
      "\r\n",
      "\r\n",
      "Downloading (…)l-00001-of-00002.bin:  50%|▍| 4.98G/9.98G [00:26<01:40, 49.9MB/s]\u001b[A"
     ]
    },
    {
     "name": "stdout",
     "output_type": "stream",
     "text": [
      "\r\n",
      "\r\n",
      "Downloading (…)l-00001-of-00002.bin:  50%|▌| 5.00G/9.98G [00:28<03:05, 26.8MB/s]\u001b[A"
     ]
    },
    {
     "name": "stdout",
     "output_type": "stream",
     "text": [
      "\r\n",
      "\r\n",
      "Downloading (…)l-00001-of-00002.bin:  50%|▌| 5.01G/9.98G [00:28<02:46, 29.7MB/s]\u001b[A"
     ]
    },
    {
     "name": "stdout",
     "output_type": "stream",
     "text": [
      "\r\n",
      "\r\n",
      "Downloading (…)l-00001-of-00002.bin:  50%|▌| 5.03G/9.98G [00:28<02:06, 39.2MB/s]\u001b[A"
     ]
    },
    {
     "name": "stdout",
     "output_type": "stream",
     "text": [
      "\r\n",
      "\r\n",
      "Downloading (…)l-00001-of-00002.bin:  51%|▌| 5.06G/9.98G [00:28<01:25, 57.6MB/s]\u001b[A"
     ]
    },
    {
     "name": "stdout",
     "output_type": "stream",
     "text": [
      "\r\n",
      "\r\n",
      "Downloading (…)l-00001-of-00002.bin:  51%|▌| 5.10G/9.98G [00:28<01:02, 78.4MB/s]\u001b[A"
     ]
    },
    {
     "name": "stdout",
     "output_type": "stream",
     "text": [
      "\r\n",
      "\r\n",
      "Downloading (…)l-00001-of-00002.bin:  51%|█ | 5.13G/9.98G [00:29<00:48, 101MB/s]\u001b[A"
     ]
    },
    {
     "name": "stdout",
     "output_type": "stream",
     "text": [
      "\r\n",
      "\r\n",
      "Downloading (…)l-00001-of-00002.bin:  52%|█ | 5.16G/9.98G [00:29<00:38, 124MB/s]\u001b[A"
     ]
    },
    {
     "name": "stdout",
     "output_type": "stream",
     "text": [
      "\r\n",
      "\r\n",
      "Downloading (…)l-00001-of-00002.bin:  52%|█ | 5.19G/9.98G [00:29<00:32, 145MB/s]\u001b[A"
     ]
    },
    {
     "name": "stdout",
     "output_type": "stream",
     "text": [
      "\r\n",
      "\r\n",
      "Downloading (…)l-00001-of-00002.bin:  52%|█ | 5.22G/9.98G [00:29<00:28, 165MB/s]\u001b[A"
     ]
    },
    {
     "name": "stdout",
     "output_type": "stream",
     "text": [
      "\r\n",
      "\r\n",
      "Downloading (…)l-00001-of-00002.bin:  53%|█ | 5.25G/9.98G [00:29<00:26, 181MB/s]\u001b[A"
     ]
    },
    {
     "name": "stdout",
     "output_type": "stream",
     "text": [
      "\r\n",
      "\r\n",
      "Downloading (…)l-00001-of-00002.bin:  53%|█ | 5.28G/9.98G [00:29<00:24, 192MB/s]\u001b[A"
     ]
    },
    {
     "name": "stdout",
     "output_type": "stream",
     "text": [
      "\r\n",
      "\r\n",
      "Downloading (…)l-00001-of-00002.bin:  53%|█ | 5.32G/9.98G [00:29<00:23, 197MB/s]\u001b[A"
     ]
    },
    {
     "name": "stdout",
     "output_type": "stream",
     "text": [
      "\r\n",
      "\r\n",
      "Downloading (…)l-00001-of-00002.bin:  54%|█ | 5.35G/9.98G [00:30<00:23, 198MB/s]\u001b[A"
     ]
    },
    {
     "name": "stdout",
     "output_type": "stream",
     "text": [
      "\r\n",
      "\r\n",
      "Downloading (…)l-00001-of-00002.bin:  54%|█ | 5.38G/9.98G [00:30<00:23, 198MB/s]\u001b[A"
     ]
    },
    {
     "name": "stdout",
     "output_type": "stream",
     "text": [
      "\r\n",
      "\r\n",
      "Downloading (…)l-00001-of-00002.bin:  54%|█ | 5.40G/9.98G [00:30<00:23, 198MB/s]\u001b[A"
     ]
    },
    {
     "name": "stdout",
     "output_type": "stream",
     "text": [
      "\r\n",
      "\r\n",
      "Downloading (…)l-00001-of-00002.bin:  54%|█ | 5.42G/9.98G [00:30<00:23, 198MB/s]\u001b[A"
     ]
    },
    {
     "name": "stdout",
     "output_type": "stream",
     "text": [
      "\r\n",
      "\r\n",
      "Downloading (…)l-00001-of-00002.bin:  55%|█ | 5.44G/9.98G [00:30<00:22, 199MB/s]\u001b[A"
     ]
    },
    {
     "name": "stdout",
     "output_type": "stream",
     "text": [
      "\r\n",
      "\r\n",
      "Downloading (…)l-00001-of-00002.bin:  55%|█ | 5.46G/9.98G [00:30<00:22, 198MB/s]\u001b[A"
     ]
    },
    {
     "name": "stdout",
     "output_type": "stream",
     "text": [
      "\r\n",
      "\r\n",
      "Downloading (…)l-00001-of-00002.bin:  55%|█ | 5.49G/9.98G [00:30<00:22, 202MB/s]\u001b[A"
     ]
    },
    {
     "name": "stdout",
     "output_type": "stream",
     "text": [
      "\r\n",
      "\r\n",
      "Downloading (…)l-00001-of-00002.bin:  55%|█ | 5.52G/9.98G [00:30<00:22, 202MB/s]\u001b[A"
     ]
    },
    {
     "name": "stdout",
     "output_type": "stream",
     "text": [
      "\r\n",
      "\r\n",
      "Downloading (…)l-00001-of-00002.bin:  55%|█ | 5.54G/9.98G [00:30<00:22, 201MB/s]\u001b[A"
     ]
    },
    {
     "name": "stdout",
     "output_type": "stream",
     "text": [
      "\r\n",
      "\r\n",
      "Downloading (…)l-00001-of-00002.bin:  56%|█ | 5.56G/9.98G [00:31<00:22, 199MB/s]\u001b[A"
     ]
    },
    {
     "name": "stdout",
     "output_type": "stream",
     "text": [
      "\r\n",
      "\r\n",
      "Downloading (…)l-00001-of-00002.bin:  56%|█ | 5.58G/9.98G [00:31<00:22, 197MB/s]\u001b[A"
     ]
    },
    {
     "name": "stdout",
     "output_type": "stream",
     "text": [
      "\r\n",
      "\r\n",
      "Downloading (…)l-00001-of-00002.bin:  56%|█ | 5.60G/9.98G [00:31<00:21, 201MB/s]\u001b[A"
     ]
    },
    {
     "name": "stdout",
     "output_type": "stream",
     "text": [
      "\r\n",
      "\r\n",
      "Downloading (…)l-00001-of-00002.bin:  56%|█▏| 5.63G/9.98G [00:31<00:20, 210MB/s]\u001b[A"
     ]
    },
    {
     "name": "stdout",
     "output_type": "stream",
     "text": [
      "\r\n",
      "\r\n",
      "Downloading (…)l-00001-of-00002.bin:  57%|█▏| 5.66G/9.98G [00:31<00:19, 219MB/s]\u001b[A"
     ]
    },
    {
     "name": "stdout",
     "output_type": "stream",
     "text": [
      "\r\n",
      "\r\n",
      "Downloading (…)l-00001-of-00002.bin:  57%|█▏| 5.69G/9.98G [00:31<00:19, 222MB/s]\u001b[A"
     ]
    },
    {
     "name": "stdout",
     "output_type": "stream",
     "text": [
      "\r\n",
      "\r\n",
      "Downloading (…)l-00001-of-00002.bin:  57%|█▏| 5.73G/9.98G [00:31<00:19, 223MB/s]\u001b[A"
     ]
    },
    {
     "name": "stdout",
     "output_type": "stream",
     "text": [
      "\r\n",
      "\r\n",
      "Downloading (…)l-00001-of-00002.bin:  58%|█▏| 5.76G/9.98G [00:31<00:18, 223MB/s]\u001b[A"
     ]
    },
    {
     "name": "stdout",
     "output_type": "stream",
     "text": [
      "\r\n",
      "\r\n",
      "Downloading (…)l-00001-of-00002.bin:  58%|█▏| 5.79G/9.98G [00:32<00:18, 225MB/s]\u001b[A"
     ]
    },
    {
     "name": "stdout",
     "output_type": "stream",
     "text": [
      "\r\n",
      "\r\n",
      "Downloading (…)l-00001-of-00002.bin:  58%|█▏| 5.82G/9.98G [00:32<00:18, 223MB/s]\u001b[A"
     ]
    },
    {
     "name": "stdout",
     "output_type": "stream",
     "text": [
      "\r\n",
      "\r\n",
      "Downloading (…)l-00001-of-00002.bin:  59%|█▏| 5.85G/9.98G [00:32<00:18, 225MB/s]\u001b[A"
     ]
    },
    {
     "name": "stdout",
     "output_type": "stream",
     "text": [
      "\r\n",
      "\r\n",
      "Downloading (…)l-00001-of-00002.bin:  59%|█▏| 5.88G/9.98G [00:32<00:21, 186MB/s]\u001b[A"
     ]
    },
    {
     "name": "stdout",
     "output_type": "stream",
     "text": [
      "\r\n",
      "\r\n",
      "Downloading (…)l-00001-of-00002.bin:  59%|█▏| 5.91G/9.98G [00:32<00:20, 198MB/s]\u001b[A"
     ]
    },
    {
     "name": "stdout",
     "output_type": "stream",
     "text": [
      "\r\n",
      "\r\n",
      "Downloading (…)l-00001-of-00002.bin:  60%|█▏| 5.95G/9.98G [00:32<00:19, 205MB/s]\u001b[A"
     ]
    },
    {
     "name": "stdout",
     "output_type": "stream",
     "text": [
      "\r\n"
     ]
    },
    {
     "name": "stdout",
     "output_type": "stream",
     "text": [
      "\r\n",
      "Downloading (…)l-00001-of-00002.bin:  60%|█▏| 5.98G/9.98G [00:33<00:19, 207MB/s]\u001b[A"
     ]
    },
    {
     "name": "stdout",
     "output_type": "stream",
     "text": [
      "\r\n",
      "\r\n",
      "Downloading (…)l-00001-of-00002.bin:  60%|█▏| 6.01G/9.98G [00:33<00:18, 209MB/s]\u001b[A"
     ]
    },
    {
     "name": "stdout",
     "output_type": "stream",
     "text": [
      "\r\n",
      "\r\n",
      "Downloading (…)l-00001-of-00002.bin:  61%|█▏| 6.04G/9.98G [00:33<00:19, 207MB/s]\u001b[A"
     ]
    },
    {
     "name": "stdout",
     "output_type": "stream",
     "text": [
      "\r\n",
      "\r\n",
      "Downloading (…)l-00001-of-00002.bin:  61%|█▏| 6.07G/9.98G [00:33<00:18, 211MB/s]\u001b[A"
     ]
    },
    {
     "name": "stdout",
     "output_type": "stream",
     "text": [
      "\r\n",
      "\r\n",
      "Downloading (…)l-00001-of-00002.bin:  61%|█▏| 6.10G/9.98G [00:33<00:18, 214MB/s]\u001b[A"
     ]
    },
    {
     "name": "stdout",
     "output_type": "stream",
     "text": [
      "\r\n",
      "\r\n",
      "Downloading (…)l-00001-of-00002.bin:  61%|█▏| 6.13G/9.98G [00:33<00:17, 218MB/s]\u001b[A"
     ]
    },
    {
     "name": "stdout",
     "output_type": "stream",
     "text": [
      "\r\n",
      "\r\n",
      "Downloading (…)l-00001-of-00002.bin:  62%|█▏| 6.17G/9.98G [00:33<00:17, 220MB/s]\u001b[A"
     ]
    },
    {
     "name": "stdout",
     "output_type": "stream",
     "text": [
      "\r\n",
      "\r\n",
      "Downloading (…)l-00001-of-00002.bin:  62%|█▏| 6.20G/9.98G [00:34<00:17, 221MB/s]\u001b[A"
     ]
    },
    {
     "name": "stdout",
     "output_type": "stream",
     "text": [
      "\r\n",
      "\r\n",
      "Downloading (…)l-00001-of-00002.bin:  62%|█▏| 6.23G/9.98G [00:34<00:16, 223MB/s]\u001b[A"
     ]
    },
    {
     "name": "stdout",
     "output_type": "stream",
     "text": [
      "\r\n",
      "\r\n",
      "Downloading (…)l-00001-of-00002.bin:  63%|█▎| 6.26G/9.98G [00:34<00:16, 223MB/s]\u001b[A"
     ]
    },
    {
     "name": "stdout",
     "output_type": "stream",
     "text": [
      "\r\n",
      "\r\n",
      "Downloading (…)l-00001-of-00002.bin:  63%|█▎| 6.29G/9.98G [00:34<00:24, 152MB/s]\u001b[A"
     ]
    },
    {
     "name": "stdout",
     "output_type": "stream",
     "text": [
      "\r\n",
      "\r\n",
      "Downloading (…)l-00001-of-00002.bin:  63%|█▎| 6.32G/9.98G [00:34<00:21, 170MB/s]\u001b[A"
     ]
    },
    {
     "name": "stdout",
     "output_type": "stream",
     "text": [
      "\r\n",
      "\r\n",
      "Downloading (…)l-00001-of-00002.bin:  64%|█▎| 6.35G/9.98G [00:34<00:19, 184MB/s]\u001b[A"
     ]
    },
    {
     "name": "stdout",
     "output_type": "stream",
     "text": [
      "\r\n",
      "\r\n",
      "Downloading (…)l-00001-of-00002.bin:  64%|█▎| 6.39G/9.98G [00:35<00:18, 195MB/s]\u001b[A"
     ]
    },
    {
     "name": "stdout",
     "output_type": "stream",
     "text": [
      "\r\n",
      "\r\n",
      "Downloading (…)l-00001-of-00002.bin:  64%|█▎| 6.42G/9.98G [00:35<00:17, 203MB/s]\u001b[A"
     ]
    },
    {
     "name": "stdout",
     "output_type": "stream",
     "text": [
      "\r\n",
      "\r\n",
      "Downloading (…)l-00001-of-00002.bin:  65%|█▎| 6.45G/9.98G [00:35<00:16, 210MB/s]\u001b[A"
     ]
    },
    {
     "name": "stdout",
     "output_type": "stream",
     "text": [
      "\r\n",
      "\r\n",
      "Downloading (…)l-00001-of-00002.bin:  65%|█▎| 6.48G/9.98G [00:35<00:16, 215MB/s]\u001b[A"
     ]
    },
    {
     "name": "stdout",
     "output_type": "stream",
     "text": [
      "\r\n",
      "\r\n",
      "Downloading (…)l-00001-of-00002.bin:  65%|█▎| 6.51G/9.98G [00:35<00:15, 217MB/s]\u001b[A"
     ]
    },
    {
     "name": "stdout",
     "output_type": "stream",
     "text": [
      "\r\n",
      "\r\n",
      "Downloading (…)l-00001-of-00002.bin:  66%|█▎| 6.54G/9.98G [00:35<00:15, 222MB/s]\u001b[A"
     ]
    },
    {
     "name": "stdout",
     "output_type": "stream",
     "text": [
      "\r\n",
      "\r\n",
      "Downloading (…)l-00001-of-00002.bin:  66%|█▎| 6.57G/9.98G [00:35<00:15, 222MB/s]\u001b[A"
     ]
    },
    {
     "name": "stdout",
     "output_type": "stream",
     "text": [
      "\r\n",
      "\r\n",
      "Downloading (…)l-00001-of-00002.bin:  66%|█▎| 6.61G/9.98G [00:36<00:15, 222MB/s]\u001b[A"
     ]
    },
    {
     "name": "stdout",
     "output_type": "stream",
     "text": [
      "\r\n",
      "\r\n",
      "Downloading (…)l-00001-of-00002.bin:  67%|█▎| 6.64G/9.98G [00:36<00:14, 226MB/s]\u001b[A"
     ]
    },
    {
     "name": "stdout",
     "output_type": "stream",
     "text": [
      "\r\n",
      "\r\n",
      "Downloading (…)l-00001-of-00002.bin:  67%|█▎| 6.67G/9.98G [00:36<00:14, 224MB/s]\u001b[A"
     ]
    },
    {
     "name": "stdout",
     "output_type": "stream",
     "text": [
      "\r\n",
      "\r\n",
      "Downloading (…)l-00001-of-00002.bin:  67%|█▎| 6.70G/9.98G [00:36<00:15, 214MB/s]\u001b[A"
     ]
    },
    {
     "name": "stdout",
     "output_type": "stream",
     "text": [
      "\r\n",
      "\r\n",
      "Downloading (…)l-00001-of-00002.bin:  67%|█▎| 6.73G/9.98G [00:36<00:15, 215MB/s]\u001b[A"
     ]
    },
    {
     "name": "stdout",
     "output_type": "stream",
     "text": [
      "\r\n",
      "\r\n",
      "Downloading (…)l-00001-of-00002.bin:  68%|█▎| 6.76G/9.98G [00:36<00:15, 213MB/s]\u001b[A"
     ]
    },
    {
     "name": "stdout",
     "output_type": "stream",
     "text": [
      "\r\n",
      "\r\n",
      "Downloading (…)l-00001-of-00002.bin:  68%|█▎| 6.79G/9.98G [00:36<00:14, 212MB/s]\u001b[A"
     ]
    },
    {
     "name": "stdout",
     "output_type": "stream",
     "text": [
      "\r\n",
      "\r\n",
      "Downloading (…)l-00001-of-00002.bin:  68%|█▎| 6.83G/9.98G [00:37<00:14, 214MB/s]\u001b[A"
     ]
    },
    {
     "name": "stdout",
     "output_type": "stream",
     "text": [
      "\r\n",
      "\r\n",
      "Downloading (…)l-00001-of-00002.bin:  69%|█▎| 6.86G/9.98G [00:37<00:18, 167MB/s]\u001b[A"
     ]
    },
    {
     "name": "stdout",
     "output_type": "stream",
     "text": [
      "\r\n",
      "\r\n",
      "Downloading (…)l-00001-of-00002.bin:  69%|█▍| 6.88G/9.98G [00:37<00:17, 173MB/s]\u001b[A"
     ]
    },
    {
     "name": "stdout",
     "output_type": "stream",
     "text": [
      "\r\n",
      "\r\n",
      "Downloading (…)l-00001-of-00002.bin:  69%|█▍| 6.91G/9.98G [00:37<00:16, 184MB/s]\u001b[A"
     ]
    },
    {
     "name": "stdout",
     "output_type": "stream",
     "text": [
      "\r\n",
      "\r\n",
      "Downloading (…)l-00001-of-00002.bin:  69%|█▍| 6.93G/9.98G [00:37<00:16, 186MB/s]\u001b[A"
     ]
    },
    {
     "name": "stdout",
     "output_type": "stream",
     "text": [
      "\r\n",
      "\r\n",
      "Downloading (…)l-00001-of-00002.bin:  70%|█▍| 6.95G/9.98G [00:37<00:16, 189MB/s]\u001b[A"
     ]
    },
    {
     "name": "stdout",
     "output_type": "stream",
     "text": [
      "\r\n",
      "\r\n",
      "Downloading (…)l-00001-of-00002.bin:  70%|█▍| 6.98G/9.98G [00:37<00:15, 199MB/s]\u001b[A"
     ]
    },
    {
     "name": "stdout",
     "output_type": "stream",
     "text": [
      "\r\n",
      "\r\n",
      "Downloading (…)l-00001-of-00002.bin:  70%|█▍| 7.00G/9.98G [00:38<00:14, 200MB/s]\u001b[A"
     ]
    },
    {
     "name": "stdout",
     "output_type": "stream",
     "text": [
      "\r\n",
      "\r\n",
      "Downloading (…)l-00001-of-00002.bin:  70%|█▍| 7.03G/9.98G [00:38<00:14, 200MB/s]\u001b[A"
     ]
    },
    {
     "name": "stdout",
     "output_type": "stream",
     "text": [
      "\r\n",
      "\r\n",
      "Downloading (…)l-00001-of-00002.bin:  71%|█▍| 7.05G/9.98G [00:38<00:14, 199MB/s]\u001b[A"
     ]
    },
    {
     "name": "stdout",
     "output_type": "stream",
     "text": [
      "\r\n",
      "\r\n",
      "Downloading (…)l-00001-of-00002.bin:  71%|█▍| 7.07G/9.98G [00:38<00:14, 199MB/s]\u001b[A"
     ]
    },
    {
     "name": "stdout",
     "output_type": "stream",
     "text": [
      "\r\n",
      "\r\n",
      "Downloading (…)l-00001-of-00002.bin:  71%|█▍| 7.09G/9.98G [00:38<00:14, 197MB/s]\u001b[A"
     ]
    },
    {
     "name": "stdout",
     "output_type": "stream",
     "text": [
      "\r\n",
      "\r\n",
      "Downloading (…)l-00001-of-00002.bin:  71%|█▍| 7.11G/9.98G [00:38<00:14, 192MB/s]\u001b[A"
     ]
    },
    {
     "name": "stdout",
     "output_type": "stream",
     "text": [
      "\r\n",
      "\r\n",
      "Downloading (…)l-00001-of-00002.bin:  71%|█▍| 7.13G/9.98G [00:38<00:15, 188MB/s]\u001b[A"
     ]
    },
    {
     "name": "stdout",
     "output_type": "stream",
     "text": [
      "\r\n",
      "\r\n",
      "Downloading (…)l-00001-of-00002.bin:  72%|█▍| 7.15G/9.98G [00:38<00:15, 185MB/s]\u001b[A"
     ]
    },
    {
     "name": "stdout",
     "output_type": "stream",
     "text": [
      "\r\n",
      "\r\n",
      "Downloading (…)l-00001-of-00002.bin:  72%|█▍| 7.17G/9.98G [00:38<00:14, 189MB/s]\u001b[A"
     ]
    },
    {
     "name": "stdout",
     "output_type": "stream",
     "text": [
      "\r\n",
      "\r\n",
      "Downloading (…)l-00001-of-00002.bin:  72%|█▍| 7.19G/9.98G [00:39<00:14, 194MB/s]\u001b[A"
     ]
    },
    {
     "name": "stdout",
     "output_type": "stream",
     "text": [
      "\r\n",
      "\r\n",
      "Downloading (…)l-00001-of-00002.bin:  72%|█▍| 7.21G/9.98G [00:39<00:14, 196MB/s]\u001b[A"
     ]
    },
    {
     "name": "stdout",
     "output_type": "stream",
     "text": [
      "\r\n",
      "\r\n",
      "Downloading (…)l-00001-of-00002.bin:  73%|█▍| 7.24G/9.98G [00:39<00:14, 188MB/s]\u001b[A"
     ]
    },
    {
     "name": "stdout",
     "output_type": "stream",
     "text": [
      "\r\n",
      "\r\n",
      "Downloading (…)l-00001-of-00002.bin:  73%|█▍| 7.26G/9.98G [00:39<00:14, 188MB/s]\u001b[A"
     ]
    },
    {
     "name": "stdout",
     "output_type": "stream",
     "text": [
      "\r\n",
      "\r\n",
      "Downloading (…)l-00001-of-00002.bin:  73%|█▍| 7.28G/9.98G [00:39<00:13, 193MB/s]\u001b[A"
     ]
    },
    {
     "name": "stdout",
     "output_type": "stream",
     "text": [
      "\r\n",
      "\r\n",
      "Downloading (…)l-00001-of-00002.bin:  73%|█▍| 7.30G/9.98G [00:39<00:13, 197MB/s]\u001b[A"
     ]
    },
    {
     "name": "stdout",
     "output_type": "stream",
     "text": [
      "\r\n",
      "\r\n",
      "Downloading (…)l-00001-of-00002.bin:  73%|█▍| 7.32G/9.98G [00:39<00:13, 197MB/s]\u001b[A"
     ]
    },
    {
     "name": "stdout",
     "output_type": "stream",
     "text": [
      "\r\n",
      "\r\n",
      "Downloading (…)l-00001-of-00002.bin:  74%|█▍| 7.34G/9.98G [00:39<00:13, 198MB/s]\u001b[A"
     ]
    },
    {
     "name": "stdout",
     "output_type": "stream",
     "text": [
      "\r\n",
      "\r\n",
      "Downloading (…)l-00001-of-00002.bin:  74%|█▍| 7.36G/9.98G [00:39<00:13, 196MB/s]\u001b[A"
     ]
    },
    {
     "name": "stdout",
     "output_type": "stream",
     "text": [
      "\r\n",
      "\r\n",
      "Downloading (…)l-00001-of-00002.bin:  74%|█▍| 7.38G/9.98G [00:40<00:13, 193MB/s]\u001b[A"
     ]
    },
    {
     "name": "stdout",
     "output_type": "stream",
     "text": [
      "\r\n",
      "\r\n",
      "Downloading (…)l-00001-of-00002.bin:  74%|█▍| 7.40G/9.98G [00:40<00:13, 191MB/s]\u001b[A"
     ]
    },
    {
     "name": "stdout",
     "output_type": "stream",
     "text": [
      "\r\n",
      "\r\n",
      "Downloading (…)l-00001-of-00002.bin:  74%|█▍| 7.42G/9.98G [00:40<00:13, 192MB/s]\u001b[A"
     ]
    },
    {
     "name": "stdout",
     "output_type": "stream",
     "text": [
      "\r\n",
      "\r\n",
      "Downloading (…)l-00001-of-00002.bin:  75%|█▍| 7.44G/9.98G [00:40<00:13, 192MB/s]\u001b[A"
     ]
    },
    {
     "name": "stdout",
     "output_type": "stream",
     "text": [
      "\r\n",
      "\r\n",
      "Downloading (…)l-00001-of-00002.bin:  75%|█▍| 7.47G/9.98G [00:40<00:12, 193MB/s]\u001b[A"
     ]
    },
    {
     "name": "stdout",
     "output_type": "stream",
     "text": [
      "\r\n",
      "\r\n",
      "Downloading (…)l-00001-of-00002.bin:  75%|█▌| 7.49G/9.98G [00:40<00:12, 192MB/s]\u001b[A"
     ]
    },
    {
     "name": "stdout",
     "output_type": "stream",
     "text": [
      "\r\n",
      "\r\n",
      "Downloading (…)l-00001-of-00002.bin:  75%|█▌| 7.51G/9.98G [00:40<00:12, 195MB/s]\u001b[A"
     ]
    },
    {
     "name": "stdout",
     "output_type": "stream",
     "text": [
      "\r\n",
      "\r\n",
      "Downloading (…)l-00001-of-00002.bin:  75%|█▌| 7.53G/9.98G [00:40<00:12, 199MB/s]\u001b[A"
     ]
    },
    {
     "name": "stdout",
     "output_type": "stream",
     "text": [
      "\r\n",
      "\r\n",
      "Downloading (…)l-00001-of-00002.bin:  76%|█▌| 7.55G/9.98G [00:40<00:12, 201MB/s]\u001b[A"
     ]
    },
    {
     "name": "stdout",
     "output_type": "stream",
     "text": [
      "\r\n",
      "\r\n",
      "Downloading (…)l-00001-of-00002.bin:  76%|█▌| 7.57G/9.98G [00:41<00:12, 196MB/s]\u001b[A"
     ]
    },
    {
     "name": "stdout",
     "output_type": "stream",
     "text": [
      "\r\n",
      "\r\n",
      "Downloading (…)l-00001-of-00002.bin:  76%|█▌| 7.60G/9.98G [00:41<00:11, 203MB/s]\u001b[A"
     ]
    },
    {
     "name": "stdout",
     "output_type": "stream",
     "text": [
      "\r\n",
      "\r\n",
      "Downloading (…)l-00001-of-00002.bin:  76%|█▌| 7.62G/9.98G [00:41<00:11, 204MB/s]\u001b[A"
     ]
    },
    {
     "name": "stdout",
     "output_type": "stream",
     "text": [
      "\r\n",
      "\r\n",
      "Downloading (…)l-00001-of-00002.bin:  77%|█▌| 7.64G/9.98G [00:41<00:12, 189MB/s]\u001b[A"
     ]
    },
    {
     "name": "stdout",
     "output_type": "stream",
     "text": [
      "\r\n",
      "\r\n",
      "Downloading (…)l-00001-of-00002.bin:  77%|█▌| 7.67G/9.98G [00:41<00:11, 193MB/s]\u001b[A"
     ]
    },
    {
     "name": "stdout",
     "output_type": "stream",
     "text": [
      "\r\n",
      "\r\n",
      "Downloading (…)l-00001-of-00002.bin:  77%|█▌| 7.69G/9.98G [00:41<00:11, 195MB/s]\u001b[A"
     ]
    },
    {
     "name": "stdout",
     "output_type": "stream",
     "text": [
      "\r\n",
      "\r\n",
      "Downloading (…)l-00001-of-00002.bin:  77%|█▌| 7.71G/9.98G [00:41<00:11, 195MB/s]\u001b[A"
     ]
    },
    {
     "name": "stdout",
     "output_type": "stream",
     "text": [
      "\r\n",
      "\r\n",
      "Downloading (…)l-00001-of-00002.bin:  78%|█▌| 7.74G/9.98G [00:41<00:11, 200MB/s]\u001b[A"
     ]
    },
    {
     "name": "stdout",
     "output_type": "stream",
     "text": [
      "\r\n",
      "\r\n",
      "Downloading (…)l-00001-of-00002.bin:  78%|█▌| 7.76G/9.98G [00:41<00:10, 202MB/s]\u001b[A"
     ]
    },
    {
     "name": "stdout",
     "output_type": "stream",
     "text": [
      "\r\n",
      "\r\n",
      "Downloading (…)l-00001-of-00002.bin:  78%|█▌| 7.78G/9.98G [00:42<00:10, 200MB/s]\u001b[A"
     ]
    },
    {
     "name": "stdout",
     "output_type": "stream",
     "text": [
      "\r\n",
      "\r\n",
      "Downloading (…)l-00001-of-00002.bin:  78%|█▌| 7.80G/9.98G [00:42<00:10, 201MB/s]\u001b[A"
     ]
    },
    {
     "name": "stdout",
     "output_type": "stream",
     "text": [
      "\r\n",
      "\r\n",
      "Downloading (…)l-00001-of-00002.bin:  79%|█▌| 7.83G/9.98G [00:42<00:10, 205MB/s]\u001b[A"
     ]
    },
    {
     "name": "stdout",
     "output_type": "stream",
     "text": [
      "\r\n",
      "\r\n",
      "Downloading (…)l-00001-of-00002.bin:  79%|█▌| 7.86G/9.98G [00:42<00:10, 206MB/s]\u001b[A"
     ]
    },
    {
     "name": "stdout",
     "output_type": "stream",
     "text": [
      "\r\n",
      "\r\n",
      "Downloading (…)l-00001-of-00002.bin:  79%|█▌| 7.89G/9.98G [00:42<00:10, 206MB/s]\u001b[A"
     ]
    },
    {
     "name": "stdout",
     "output_type": "stream",
     "text": [
      "\r\n",
      "\r\n",
      "Downloading (…)l-00001-of-00002.bin:  79%|█▌| 7.91G/9.98G [00:42<00:11, 179MB/s]\u001b[A"
     ]
    },
    {
     "name": "stdout",
     "output_type": "stream",
     "text": [
      "\r\n",
      "\r\n",
      "Downloading (…)l-00001-of-00002.bin:  80%|█▌| 7.94G/9.98G [00:42<00:10, 195MB/s]\u001b[A"
     ]
    },
    {
     "name": "stdout",
     "output_type": "stream",
     "text": [
      "\r\n",
      "\r\n",
      "Downloading (…)l-00001-of-00002.bin:  80%|█▌| 7.97G/9.98G [00:43<00:10, 200MB/s]\u001b[A"
     ]
    },
    {
     "name": "stdout",
     "output_type": "stream",
     "text": [
      "\r\n",
      "\r\n",
      "Downloading (…)l-00001-of-00002.bin:  80%|█▌| 8.00G/9.98G [00:43<00:09, 206MB/s]\u001b[A"
     ]
    },
    {
     "name": "stdout",
     "output_type": "stream",
     "text": [
      "\r\n",
      "\r\n",
      "Downloading (…)l-00001-of-00002.bin:  80%|█▌| 8.02G/9.98G [00:43<00:09, 204MB/s]\u001b[A"
     ]
    },
    {
     "name": "stdout",
     "output_type": "stream",
     "text": [
      "\r\n",
      "\r\n",
      "Downloading (…)l-00001-of-00002.bin:  81%|█▌| 8.05G/9.98G [00:43<00:09, 209MB/s]\u001b[A"
     ]
    },
    {
     "name": "stdout",
     "output_type": "stream",
     "text": [
      "\r\n",
      "\r\n",
      "Downloading (…)l-00001-of-00002.bin:  81%|█▌| 8.08G/9.98G [00:43<00:08, 216MB/s]\u001b[A"
     ]
    },
    {
     "name": "stdout",
     "output_type": "stream",
     "text": [
      "\r\n",
      "\r\n",
      "Downloading (…)l-00001-of-00002.bin:  81%|█▋| 8.12G/9.98G [00:43<00:08, 217MB/s]\u001b[A"
     ]
    },
    {
     "name": "stdout",
     "output_type": "stream",
     "text": [
      "\r\n",
      "\r\n",
      "Downloading (…)l-00001-of-00002.bin:  82%|█▋| 8.15G/9.98G [00:43<00:08, 218MB/s]\u001b[A"
     ]
    },
    {
     "name": "stdout",
     "output_type": "stream",
     "text": [
      "\r\n",
      "\r\n",
      "Downloading (…)l-00001-of-00002.bin:  82%|█▋| 8.18G/9.98G [00:43<00:08, 217MB/s]\u001b[A"
     ]
    },
    {
     "name": "stdout",
     "output_type": "stream",
     "text": [
      "\r\n",
      "\r\n",
      "Downloading (…)l-00001-of-00002.bin:  82%|█▋| 8.21G/9.98G [00:44<00:08, 220MB/s]\u001b[A"
     ]
    },
    {
     "name": "stdout",
     "output_type": "stream",
     "text": [
      "\r\n",
      "\r\n",
      "Downloading (…)l-00001-of-00002.bin:  83%|█▋| 8.24G/9.98G [00:44<00:07, 221MB/s]\u001b[A"
     ]
    },
    {
     "name": "stdout",
     "output_type": "stream",
     "text": [
      "\r\n",
      "\r\n",
      "Downloading (…)l-00001-of-00002.bin:  83%|█▋| 8.27G/9.98G [00:44<00:07, 221MB/s]\u001b[A"
     ]
    },
    {
     "name": "stdout",
     "output_type": "stream",
     "text": [
      "\r\n",
      "\r\n",
      "Downloading (…)l-00001-of-00002.bin:  83%|█▋| 8.30G/9.98G [00:44<00:07, 223MB/s]\u001b[A"
     ]
    },
    {
     "name": "stdout",
     "output_type": "stream",
     "text": [
      "\r\n",
      "\r\n",
      "Downloading (…)l-00001-of-00002.bin:  84%|█▋| 8.34G/9.98G [00:44<00:10, 153MB/s]\u001b[A"
     ]
    },
    {
     "name": "stdout",
     "output_type": "stream",
     "text": [
      "\r\n",
      "\r\n",
      "Downloading (…)l-00001-of-00002.bin:  84%|█▋| 8.37G/9.98G [00:45<00:09, 169MB/s]\u001b[A"
     ]
    },
    {
     "name": "stdout",
     "output_type": "stream",
     "text": [
      "\r\n",
      "\r\n",
      "Downloading (…)l-00001-of-00002.bin:  84%|█▋| 8.40G/9.98G [00:45<00:09, 175MB/s]\u001b[A"
     ]
    },
    {
     "name": "stdout",
     "output_type": "stream",
     "text": [
      "\r\n",
      "\r\n",
      "Downloading (…)l-00001-of-00002.bin:  84%|█▋| 8.42G/9.98G [00:45<00:08, 174MB/s]\u001b[A"
     ]
    },
    {
     "name": "stdout",
     "output_type": "stream",
     "text": [
      "\r\n",
      "\r\n",
      "Downloading (…)l-00001-of-00002.bin:  85%|█▋| 8.45G/9.98G [00:45<00:08, 186MB/s]\u001b[A"
     ]
    },
    {
     "name": "stdout",
     "output_type": "stream",
     "text": [
      "\r\n",
      "\r\n",
      "Downloading (…)l-00001-of-00002.bin:  85%|█▋| 8.48G/9.98G [00:45<00:07, 197MB/s]\u001b[A"
     ]
    },
    {
     "name": "stdout",
     "output_type": "stream",
     "text": [
      "\r\n",
      "\r\n",
      "Downloading (…)l-00001-of-00002.bin:  85%|█▋| 8.51G/9.98G [00:45<00:07, 204MB/s]\u001b[A"
     ]
    },
    {
     "name": "stdout",
     "output_type": "stream",
     "text": [
      "\r\n",
      "\r\n",
      "Downloading (…)l-00001-of-00002.bin:  86%|█▋| 8.55G/9.98G [00:45<00:06, 208MB/s]\u001b[A"
     ]
    },
    {
     "name": "stdout",
     "output_type": "stream",
     "text": [
      "\r\n",
      "\r\n",
      "Downloading (…)l-00001-of-00002.bin:  86%|█▋| 8.58G/9.98G [00:46<00:06, 214MB/s]\u001b[A"
     ]
    },
    {
     "name": "stdout",
     "output_type": "stream",
     "text": [
      "\r\n",
      "\r\n",
      "Downloading (…)l-00001-of-00002.bin:  86%|█▋| 8.61G/9.98G [00:46<00:06, 218MB/s]\u001b[A"
     ]
    },
    {
     "name": "stdout",
     "output_type": "stream",
     "text": [
      "\r\n",
      "\r\n",
      "Downloading (…)l-00001-of-00002.bin:  87%|█▋| 8.64G/9.98G [00:46<00:06, 220MB/s]\u001b[A"
     ]
    },
    {
     "name": "stdout",
     "output_type": "stream",
     "text": [
      "\r\n",
      "\r\n",
      "Downloading (…)l-00001-of-00002.bin:  87%|█▋| 8.67G/9.98G [00:46<00:05, 221MB/s]\u001b[A"
     ]
    },
    {
     "name": "stdout",
     "output_type": "stream",
     "text": [
      "\r\n",
      "\r\n",
      "Downloading (…)l-00001-of-00002.bin:  87%|█▋| 8.70G/9.98G [00:46<00:05, 221MB/s]\u001b[A"
     ]
    },
    {
     "name": "stdout",
     "output_type": "stream",
     "text": [
      "\r\n",
      "\r\n",
      "Downloading (…)l-00001-of-00002.bin:  88%|█▊| 8.73G/9.98G [00:46<00:05, 224MB/s]\u001b[A"
     ]
    },
    {
     "name": "stdout",
     "output_type": "stream",
     "text": [
      "\r\n",
      "\r\n",
      "Downloading (…)l-00001-of-00002.bin:  88%|█▊| 8.77G/9.98G [00:46<00:05, 222MB/s]\u001b[A"
     ]
    },
    {
     "name": "stdout",
     "output_type": "stream",
     "text": [
      "\r\n",
      "\r\n",
      "Downloading (…)l-00001-of-00002.bin:  88%|█▊| 8.80G/9.98G [00:47<00:05, 224MB/s]\u001b[A"
     ]
    },
    {
     "name": "stdout",
     "output_type": "stream",
     "text": [
      "\r\n",
      "\r\n",
      "Downloading (…)l-00001-of-00002.bin:  88%|█▊| 8.83G/9.98G [00:47<00:05, 200MB/s]\u001b[A"
     ]
    },
    {
     "name": "stdout",
     "output_type": "stream",
     "text": [
      "\r\n"
     ]
    },
    {
     "name": "stdout",
     "output_type": "stream",
     "text": [
      "\r\n",
      "Downloading (…)l-00001-of-00002.bin:  89%|█▊| 8.86G/9.98G [00:47<00:05, 204MB/s]\u001b[A"
     ]
    },
    {
     "name": "stdout",
     "output_type": "stream",
     "text": [
      "\r\n",
      "\r\n",
      "Downloading (…)l-00001-of-00002.bin:  89%|█▊| 8.89G/9.98G [00:47<00:05, 207MB/s]\u001b[A"
     ]
    },
    {
     "name": "stdout",
     "output_type": "stream",
     "text": [
      "\r\n",
      "\r\n",
      "Downloading (…)l-00001-of-00002.bin:  89%|█▊| 8.92G/9.98G [00:47<00:04, 211MB/s]\u001b[A"
     ]
    },
    {
     "name": "stdout",
     "output_type": "stream",
     "text": [
      "\r\n",
      "\r\n",
      "Downloading (…)l-00001-of-00002.bin:  90%|█▊| 8.95G/9.98G [00:47<00:04, 212MB/s]\u001b[A"
     ]
    },
    {
     "name": "stdout",
     "output_type": "stream",
     "text": [
      "\r\n",
      "\r\n",
      "Downloading (…)l-00001-of-00002.bin:  90%|█▊| 8.99G/9.98G [00:47<00:04, 215MB/s]\u001b[A"
     ]
    },
    {
     "name": "stdout",
     "output_type": "stream",
     "text": [
      "\r\n",
      "\r\n",
      "Downloading (…)l-00001-of-00002.bin:  90%|█▊| 9.02G/9.98G [00:48<00:04, 218MB/s]\u001b[A"
     ]
    },
    {
     "name": "stdout",
     "output_type": "stream",
     "text": [
      "\r\n",
      "\r\n",
      "Downloading (…)l-00001-of-00002.bin:  91%|█▊| 9.05G/9.98G [00:48<00:04, 219MB/s]\u001b[A"
     ]
    },
    {
     "name": "stdout",
     "output_type": "stream",
     "text": [
      "\r\n",
      "\r\n",
      "Downloading (…)l-00001-of-00002.bin:  91%|█▊| 9.08G/9.98G [00:48<00:04, 222MB/s]\u001b[A"
     ]
    },
    {
     "name": "stdout",
     "output_type": "stream",
     "text": [
      "\r\n",
      "\r\n",
      "Downloading (…)l-00001-of-00002.bin:  91%|█▊| 9.11G/9.98G [00:48<00:03, 222MB/s]\u001b[A"
     ]
    },
    {
     "name": "stdout",
     "output_type": "stream",
     "text": [
      "\r\n",
      "\r\n",
      "Downloading (…)l-00001-of-00002.bin:  92%|█▊| 9.14G/9.98G [00:48<00:03, 221MB/s]\u001b[A"
     ]
    },
    {
     "name": "stdout",
     "output_type": "stream",
     "text": [
      "\r\n",
      "\r\n",
      "Downloading (…)l-00001-of-00002.bin:  92%|█▊| 9.18G/9.98G [00:48<00:03, 215MB/s]\u001b[A"
     ]
    },
    {
     "name": "stdout",
     "output_type": "stream",
     "text": [
      "\r\n",
      "\r\n",
      "Downloading (…)l-00001-of-00002.bin:  92%|█▊| 9.21G/9.98G [00:48<00:03, 210MB/s]\u001b[A"
     ]
    },
    {
     "name": "stdout",
     "output_type": "stream",
     "text": [
      "\r\n",
      "\r\n",
      "Downloading (…)l-00001-of-00002.bin:  93%|█▊| 9.24G/9.98G [00:49<00:03, 212MB/s]\u001b[A"
     ]
    },
    {
     "name": "stdout",
     "output_type": "stream",
     "text": [
      "\r\n",
      "\r\n",
      "Downloading (…)l-00001-of-00002.bin:  93%|█▊| 9.27G/9.98G [00:49<00:03, 210MB/s]\u001b[A"
     ]
    },
    {
     "name": "stdout",
     "output_type": "stream",
     "text": [
      "\r\n",
      "\r\n",
      "Downloading (…)l-00001-of-00002.bin:  93%|█▊| 9.30G/9.98G [00:49<00:03, 205MB/s]\u001b[A"
     ]
    },
    {
     "name": "stdout",
     "output_type": "stream",
     "text": [
      "\r\n",
      "\r\n",
      "Downloading (…)l-00001-of-00002.bin:  93%|█▊| 9.32G/9.98G [00:49<00:03, 203MB/s]\u001b[A"
     ]
    },
    {
     "name": "stdout",
     "output_type": "stream",
     "text": [
      "\r\n",
      "\r\n",
      "Downloading (…)l-00001-of-00002.bin:  94%|█▊| 9.34G/9.98G [00:49<00:03, 179MB/s]\u001b[A"
     ]
    },
    {
     "name": "stdout",
     "output_type": "stream",
     "text": [
      "\r\n",
      "\r\n",
      "Downloading (…)l-00001-of-00002.bin:  94%|█▉| 9.36G/9.98G [00:49<00:03, 169MB/s]\u001b[A"
     ]
    },
    {
     "name": "stdout",
     "output_type": "stream",
     "text": [
      "\r\n",
      "\r\n",
      "Downloading (…)l-00001-of-00002.bin:  94%|█▉| 9.38G/9.98G [00:49<00:03, 174MB/s]\u001b[A"
     ]
    },
    {
     "name": "stdout",
     "output_type": "stream",
     "text": [
      "\r\n",
      "\r\n",
      "Downloading (…)l-00001-of-00002.bin:  94%|█▉| 9.42G/9.98G [00:50<00:03, 186MB/s]\u001b[A"
     ]
    },
    {
     "name": "stdout",
     "output_type": "stream",
     "text": [
      "\r\n",
      "\r\n",
      "Downloading (…)l-00001-of-00002.bin:  95%|█▉| 9.44G/9.98G [00:50<00:02, 189MB/s]\u001b[A"
     ]
    },
    {
     "name": "stdout",
     "output_type": "stream",
     "text": [
      "\r\n",
      "\r\n",
      "Downloading (…)l-00001-of-00002.bin:  95%|█▉| 9.46G/9.98G [00:50<00:02, 193MB/s]\u001b[A"
     ]
    },
    {
     "name": "stdout",
     "output_type": "stream",
     "text": [
      "\r\n",
      "\r\n",
      "Downloading (…)l-00001-of-00002.bin:  95%|█▉| 9.48G/9.98G [00:50<00:02, 194MB/s]\u001b[A"
     ]
    },
    {
     "name": "stdout",
     "output_type": "stream",
     "text": [
      "\r\n",
      "\r\n",
      "Downloading (…)l-00001-of-00002.bin:  95%|█▉| 9.51G/9.98G [00:50<00:02, 201MB/s]\u001b[A"
     ]
    },
    {
     "name": "stdout",
     "output_type": "stream",
     "text": [
      "\r\n",
      "\r\n",
      "Downloading (…)l-00001-of-00002.bin:  96%|█▉| 9.53G/9.98G [00:50<00:02, 203MB/s]\u001b[A"
     ]
    },
    {
     "name": "stdout",
     "output_type": "stream",
     "text": [
      "\r\n",
      "\r\n",
      "Downloading (…)l-00001-of-00002.bin:  96%|█▉| 9.55G/9.98G [00:50<00:02, 205MB/s]\u001b[A"
     ]
    },
    {
     "name": "stdout",
     "output_type": "stream",
     "text": [
      "\r\n",
      "\r\n",
      "Downloading (…)l-00001-of-00002.bin:  96%|█▉| 9.57G/9.98G [00:50<00:01, 205MB/s]\u001b[A"
     ]
    },
    {
     "name": "stdout",
     "output_type": "stream",
     "text": [
      "\r\n",
      "\r\n",
      "Downloading (…)l-00001-of-00002.bin:  96%|█▉| 9.60G/9.98G [00:50<00:01, 207MB/s]\u001b[A"
     ]
    },
    {
     "name": "stdout",
     "output_type": "stream",
     "text": [
      "\r\n",
      "\r\n",
      "Downloading (…)l-00001-of-00002.bin:  96%|█▉| 9.63G/9.98G [00:51<00:01, 206MB/s]\u001b[A"
     ]
    },
    {
     "name": "stdout",
     "output_type": "stream",
     "text": [
      "\r\n",
      "\r\n",
      "Downloading (…)l-00001-of-00002.bin:  97%|█▉| 9.65G/9.98G [00:51<00:01, 205MB/s]\u001b[A"
     ]
    },
    {
     "name": "stdout",
     "output_type": "stream",
     "text": [
      "\r\n",
      "\r\n",
      "Downloading (…)l-00001-of-00002.bin:  97%|█▉| 9.67G/9.98G [00:51<00:01, 204MB/s]\u001b[A"
     ]
    },
    {
     "name": "stdout",
     "output_type": "stream",
     "text": [
      "\r\n",
      "\r\n",
      "Downloading (…)l-00001-of-00002.bin:  97%|█▉| 9.69G/9.98G [00:51<00:01, 199MB/s]\u001b[A"
     ]
    },
    {
     "name": "stdout",
     "output_type": "stream",
     "text": [
      "\r\n",
      "\r\n",
      "Downloading (…)l-00001-of-00002.bin:  97%|█▉| 9.71G/9.98G [00:51<00:01, 201MB/s]\u001b[A"
     ]
    },
    {
     "name": "stdout",
     "output_type": "stream",
     "text": [
      "\r\n",
      "\r\n",
      "Downloading (…)l-00001-of-00002.bin:  98%|█▉| 9.73G/9.98G [00:51<00:01, 201MB/s]\u001b[A"
     ]
    },
    {
     "name": "stdout",
     "output_type": "stream",
     "text": [
      "\r\n",
      "\r\n",
      "Downloading (…)l-00001-of-00002.bin:  98%|█▉| 9.75G/9.98G [00:51<00:01, 198MB/s]\u001b[A"
     ]
    },
    {
     "name": "stdout",
     "output_type": "stream",
     "text": [
      "\r\n",
      "\r\n",
      "Downloading (…)l-00001-of-00002.bin:  98%|█▉| 9.77G/9.98G [00:51<00:01, 198MB/s]\u001b[A"
     ]
    },
    {
     "name": "stdout",
     "output_type": "stream",
     "text": [
      "\r\n",
      "\r\n",
      "Downloading (…)l-00001-of-00002.bin:  98%|█▉| 9.79G/9.98G [00:51<00:00, 201MB/s]\u001b[A"
     ]
    },
    {
     "name": "stdout",
     "output_type": "stream",
     "text": [
      "\r\n",
      "\r\n",
      "Downloading (…)l-00001-of-00002.bin:  98%|█▉| 9.81G/9.98G [00:52<00:00, 201MB/s]\u001b[A"
     ]
    },
    {
     "name": "stdout",
     "output_type": "stream",
     "text": [
      "\r\n",
      "\r\n",
      "Downloading (…)l-00001-of-00002.bin:  99%|█▉| 9.84G/9.98G [00:52<00:00, 197MB/s]\u001b[A"
     ]
    },
    {
     "name": "stdout",
     "output_type": "stream",
     "text": [
      "\r\n",
      "\r\n",
      "Downloading (…)l-00001-of-00002.bin:  99%|█▉| 9.86G/9.98G [00:52<00:00, 200MB/s]\u001b[A"
     ]
    },
    {
     "name": "stdout",
     "output_type": "stream",
     "text": [
      "\r\n",
      "\r\n",
      "Downloading (…)l-00001-of-00002.bin:  99%|█▉| 9.88G/9.98G [00:52<00:00, 197MB/s]\u001b[A"
     ]
    },
    {
     "name": "stdout",
     "output_type": "stream",
     "text": [
      "\r\n",
      "\r\n",
      "Downloading (…)l-00001-of-00002.bin:  99%|█▉| 9.90G/9.98G [00:52<00:00, 196MB/s]\u001b[A"
     ]
    },
    {
     "name": "stdout",
     "output_type": "stream",
     "text": [
      "\r\n",
      "\r\n",
      "Downloading (…)l-00001-of-00002.bin:  99%|█▉| 9.92G/9.98G [00:52<00:00, 193MB/s]\u001b[A"
     ]
    },
    {
     "name": "stdout",
     "output_type": "stream",
     "text": [
      "\r\n",
      "\r\n",
      "Downloading (…)l-00001-of-00002.bin: 100%|█▉| 9.94G/9.98G [00:52<00:00, 187MB/s]\u001b[A"
     ]
    },
    {
     "name": "stdout",
     "output_type": "stream",
     "text": [
      "\r\n",
      "\r\n",
      "Downloading (…)l-00001-of-00002.bin: 100%|█▉| 9.96G/9.98G [00:52<00:00, 193MB/s]\u001b[A"
     ]
    },
    {
     "name": "stdout",
     "output_type": "stream",
     "text": [
      "\r\n",
      "Downloading (…)l-00001-of-00002.bin: 100%|██| 9.98G/9.98G [00:52<00:00, 188MB/s]\r\n"
     ]
    },
    {
     "name": "stdout",
     "output_type": "stream",
     "text": [
      "\r\n",
      "Downloading shards:  50%|████████████▌            | 1/2 [00:53<00:53, 53.14s/it]"
     ]
    },
    {
     "name": "stdout",
     "output_type": "stream",
     "text": [
      "\r\n",
      "\r\n",
      "Downloading (…)l-00002-of-00002.bin:   0%|          | 0.00/3.50G [00:00<?, ?B/s]\u001b[A"
     ]
    },
    {
     "name": "stdout",
     "output_type": "stream",
     "text": [
      "\r\n",
      "\r\n",
      "Downloading (…)l-00002-of-00002.bin:   1%|  | 21.0M/3.50G [00:00<00:32, 108MB/s]\u001b[A"
     ]
    },
    {
     "name": "stdout",
     "output_type": "stream",
     "text": [
      "\r\n",
      "\r\n",
      "Downloading (…)l-00002-of-00002.bin:   1%|  | 41.9M/3.50G [00:00<00:26, 131MB/s]\u001b[A"
     ]
    },
    {
     "name": "stdout",
     "output_type": "stream",
     "text": [
      "\r\n",
      "\r\n",
      "Downloading (…)l-00002-of-00002.bin:   2%|  | 62.9M/3.50G [00:00<00:22, 154MB/s]\u001b[A"
     ]
    },
    {
     "name": "stdout",
     "output_type": "stream",
     "text": [
      "\r\n",
      "\r\n",
      "Downloading (…)l-00002-of-00002.bin:   2%|  | 83.9M/3.50G [00:00<00:19, 171MB/s]\u001b[A"
     ]
    },
    {
     "name": "stdout",
     "output_type": "stream",
     "text": [
      "\r\n",
      "\r\n",
      "Downloading (…)l-00002-of-00002.bin:   3%|   | 105M/3.50G [00:00<00:19, 173MB/s]\u001b[A"
     ]
    },
    {
     "name": "stdout",
     "output_type": "stream",
     "text": [
      "\r\n",
      "\r\n",
      "Downloading (…)l-00002-of-00002.bin:   4%|   | 136M/3.50G [00:00<00:17, 192MB/s]\u001b[A"
     ]
    },
    {
     "name": "stdout",
     "output_type": "stream",
     "text": [
      "\r\n",
      "\r\n",
      "Downloading (…)l-00002-of-00002.bin:   5%|▏  | 168M/3.50G [00:00<00:16, 201MB/s]\u001b[A"
     ]
    },
    {
     "name": "stdout",
     "output_type": "stream",
     "text": [
      "\r\n",
      "\r\n",
      "Downloading (…)l-00002-of-00002.bin:   6%|▏  | 199M/3.50G [00:01<00:15, 210MB/s]\u001b[A"
     ]
    },
    {
     "name": "stdout",
     "output_type": "stream",
     "text": [
      "\r\n",
      "\r\n",
      "Downloading (…)l-00002-of-00002.bin:   7%|▏  | 231M/3.50G [00:01<00:15, 214MB/s]\u001b[A"
     ]
    },
    {
     "name": "stdout",
     "output_type": "stream",
     "text": [
      "\r\n"
     ]
    },
    {
     "name": "stdout",
     "output_type": "stream",
     "text": [
      "\r\n",
      "Downloading (…)l-00002-of-00002.bin:   7%|▏  | 262M/3.50G [00:01<00:15, 213MB/s]\u001b[A"
     ]
    },
    {
     "name": "stdout",
     "output_type": "stream",
     "text": [
      "\r\n",
      "\r\n",
      "Downloading (…)l-00002-of-00002.bin:   8%|▎  | 294M/3.50G [00:01<00:14, 216MB/s]\u001b[A"
     ]
    },
    {
     "name": "stdout",
     "output_type": "stream",
     "text": [
      "\r\n",
      "\r\n",
      "Downloading (…)l-00002-of-00002.bin:   9%|▎  | 325M/3.50G [00:01<00:14, 217MB/s]\u001b[A"
     ]
    },
    {
     "name": "stdout",
     "output_type": "stream",
     "text": [
      "\r\n",
      "\r\n",
      "Downloading (…)l-00002-of-00002.bin:  10%|▎  | 357M/3.50G [00:01<00:14, 220MB/s]\u001b[A"
     ]
    },
    {
     "name": "stdout",
     "output_type": "stream",
     "text": [
      "\r\n",
      "\r\n",
      "Downloading (…)l-00002-of-00002.bin:  11%|▎  | 388M/3.50G [00:01<00:14, 220MB/s]\u001b[A"
     ]
    },
    {
     "name": "stdout",
     "output_type": "stream",
     "text": [
      "\r\n",
      "\r\n",
      "Downloading (…)l-00002-of-00002.bin:  12%|▎  | 419M/3.50G [00:02<00:14, 219MB/s]\u001b[A"
     ]
    },
    {
     "name": "stdout",
     "output_type": "stream",
     "text": [
      "\r\n",
      "\r\n",
      "Downloading (…)l-00002-of-00002.bin:  13%|▍  | 451M/3.50G [00:02<00:13, 223MB/s]\u001b[A"
     ]
    },
    {
     "name": "stdout",
     "output_type": "stream",
     "text": [
      "\r\n",
      "\r\n",
      "Downloading (…)l-00002-of-00002.bin:  14%|▍  | 482M/3.50G [00:02<00:13, 225MB/s]\u001b[A"
     ]
    },
    {
     "name": "stdout",
     "output_type": "stream",
     "text": [
      "\r\n",
      "\r\n",
      "Downloading (…)l-00002-of-00002.bin:  15%|▍  | 514M/3.50G [00:02<00:13, 221MB/s]\u001b[A"
     ]
    },
    {
     "name": "stdout",
     "output_type": "stream",
     "text": [
      "\r\n",
      "\r\n",
      "Downloading (…)l-00002-of-00002.bin:  16%|▍  | 545M/3.50G [00:02<00:13, 223MB/s]\u001b[A"
     ]
    },
    {
     "name": "stdout",
     "output_type": "stream",
     "text": [
      "\r\n",
      "\r\n",
      "Downloading (…)l-00002-of-00002.bin:  16%|▍  | 577M/3.50G [00:02<00:13, 222MB/s]\u001b[A"
     ]
    },
    {
     "name": "stdout",
     "output_type": "stream",
     "text": [
      "\r\n",
      "\r\n",
      "Downloading (…)l-00002-of-00002.bin:  17%|▌  | 608M/3.50G [00:02<00:12, 224MB/s]\u001b[A"
     ]
    },
    {
     "name": "stdout",
     "output_type": "stream",
     "text": [
      "\r\n",
      "\r\n",
      "Downloading (…)l-00002-of-00002.bin:  18%|▌  | 640M/3.50G [00:03<00:12, 226MB/s]\u001b[A"
     ]
    },
    {
     "name": "stdout",
     "output_type": "stream",
     "text": [
      "\r\n",
      "\r\n",
      "Downloading (…)l-00002-of-00002.bin:  19%|▌  | 671M/3.50G [00:03<00:12, 228MB/s]\u001b[A"
     ]
    },
    {
     "name": "stdout",
     "output_type": "stream",
     "text": [
      "\r\n",
      "\r\n",
      "Downloading (…)l-00002-of-00002.bin:  20%|▌  | 703M/3.50G [00:03<00:12, 229MB/s]\u001b[A"
     ]
    },
    {
     "name": "stdout",
     "output_type": "stream",
     "text": [
      "\r\n",
      "\r\n",
      "Downloading (…)l-00002-of-00002.bin:  21%|▋  | 734M/3.50G [00:03<00:12, 228MB/s]\u001b[A"
     ]
    },
    {
     "name": "stdout",
     "output_type": "stream",
     "text": [
      "\r\n",
      "\r\n",
      "Downloading (…)l-00002-of-00002.bin:  22%|▋  | 765M/3.50G [00:03<00:12, 226MB/s]\u001b[A"
     ]
    },
    {
     "name": "stdout",
     "output_type": "stream",
     "text": [
      "\r\n",
      "\r\n",
      "Downloading (…)l-00002-of-00002.bin:  23%|▋  | 797M/3.50G [00:03<00:12, 225MB/s]\u001b[A"
     ]
    },
    {
     "name": "stdout",
     "output_type": "stream",
     "text": [
      "\r\n",
      "\r\n",
      "Downloading (…)l-00002-of-00002.bin:  24%|▋  | 828M/3.50G [00:03<00:11, 224MB/s]\u001b[A"
     ]
    },
    {
     "name": "stdout",
     "output_type": "stream",
     "text": [
      "\r\n",
      "\r\n",
      "Downloading (…)l-00002-of-00002.bin:  25%|▋  | 860M/3.50G [00:04<00:11, 224MB/s]\u001b[A"
     ]
    },
    {
     "name": "stdout",
     "output_type": "stream",
     "text": [
      "\r\n",
      "\r\n",
      "Downloading (…)l-00002-of-00002.bin:  25%|▊  | 891M/3.50G [00:04<00:11, 226MB/s]\u001b[A"
     ]
    },
    {
     "name": "stdout",
     "output_type": "stream",
     "text": [
      "\r\n"
     ]
    },
    {
     "name": "stdout",
     "output_type": "stream",
     "text": [
      "\r\n",
      "Downloading (…)l-00002-of-00002.bin:  26%|▊  | 923M/3.50G [00:04<00:11, 226MB/s]\u001b[A"
     ]
    },
    {
     "name": "stdout",
     "output_type": "stream",
     "text": [
      "\r\n",
      "\r\n",
      "Downloading (…)l-00002-of-00002.bin:  27%|▊  | 954M/3.50G [00:04<00:11, 225MB/s]\u001b[A"
     ]
    },
    {
     "name": "stdout",
     "output_type": "stream",
     "text": [
      "\r\n",
      "\r\n",
      "Downloading (…)l-00002-of-00002.bin:  28%|▊  | 986M/3.50G [00:04<00:11, 225MB/s]\u001b[A"
     ]
    },
    {
     "name": "stdout",
     "output_type": "stream",
     "text": [
      "\r\n",
      "\r\n",
      "Downloading (…)l-00002-of-00002.bin:  29%|▌ | 1.02G/3.50G [00:04<00:10, 227MB/s]\u001b[A"
     ]
    },
    {
     "name": "stdout",
     "output_type": "stream",
     "text": [
      "\r\n",
      "\r\n",
      "Downloading (…)l-00002-of-00002.bin:  30%|▌ | 1.05G/3.50G [00:04<00:10, 228MB/s]\u001b[A"
     ]
    },
    {
     "name": "stdout",
     "output_type": "stream",
     "text": [
      "\r\n",
      "\r\n",
      "Downloading (…)l-00002-of-00002.bin:  31%|▌ | 1.08G/3.50G [00:04<00:10, 230MB/s]\u001b[A"
     ]
    },
    {
     "name": "stdout",
     "output_type": "stream",
     "text": [
      "\r\n",
      "\r\n",
      "Downloading (…)l-00002-of-00002.bin:  32%|▋ | 1.11G/3.50G [00:05<00:10, 232MB/s]\u001b[A"
     ]
    },
    {
     "name": "stdout",
     "output_type": "stream",
     "text": [
      "\r\n",
      "\r\n",
      "Downloading (…)l-00002-of-00002.bin:  33%|▋ | 1.14G/3.50G [00:05<00:14, 157MB/s]\u001b[A"
     ]
    },
    {
     "name": "stdout",
     "output_type": "stream",
     "text": [
      "\r\n",
      "\r\n",
      "Downloading (…)l-00002-of-00002.bin:  34%|▋ | 1.17G/3.50G [00:05<00:13, 174MB/s]\u001b[A"
     ]
    },
    {
     "name": "stdout",
     "output_type": "stream",
     "text": [
      "\r\n",
      "\r\n",
      "Downloading (…)l-00002-of-00002.bin:  34%|▋ | 1.21G/3.50G [00:05<00:12, 187MB/s]\u001b[A"
     ]
    },
    {
     "name": "stdout",
     "output_type": "stream",
     "text": [
      "\r\n",
      "\r\n",
      "Downloading (…)l-00002-of-00002.bin:  35%|▋ | 1.24G/3.50G [00:05<00:11, 197MB/s]\u001b[A"
     ]
    },
    {
     "name": "stdout",
     "output_type": "stream",
     "text": [
      "\r\n",
      "\r\n",
      "Downloading (…)l-00002-of-00002.bin:  36%|▋ | 1.27G/3.50G [00:06<00:10, 203MB/s]\u001b[A"
     ]
    },
    {
     "name": "stdout",
     "output_type": "stream",
     "text": [
      "\r\n",
      "\r\n",
      "Downloading (…)l-00002-of-00002.bin:  37%|▋ | 1.30G/3.50G [00:06<00:10, 211MB/s]\u001b[A"
     ]
    },
    {
     "name": "stdout",
     "output_type": "stream",
     "text": [
      "\r\n",
      "\r\n",
      "Downloading (…)l-00002-of-00002.bin:  38%|▊ | 1.33G/3.50G [00:06<00:10, 215MB/s]\u001b[A"
     ]
    },
    {
     "name": "stdout",
     "output_type": "stream",
     "text": [
      "\r\n",
      "\r\n",
      "Downloading (…)l-00002-of-00002.bin:  39%|▊ | 1.36G/3.50G [00:06<00:09, 219MB/s]\u001b[A"
     ]
    },
    {
     "name": "stdout",
     "output_type": "stream",
     "text": [
      "\r\n",
      "\r\n",
      "Downloading (…)l-00002-of-00002.bin:  40%|▊ | 1.39G/3.50G [00:06<00:09, 221MB/s]\u001b[A"
     ]
    },
    {
     "name": "stdout",
     "output_type": "stream",
     "text": [
      "\r\n",
      "\r\n",
      "Downloading (…)l-00002-of-00002.bin:  41%|▊ | 1.43G/3.50G [00:06<00:09, 220MB/s]\u001b[A"
     ]
    },
    {
     "name": "stdout",
     "output_type": "stream",
     "text": [
      "\r\n",
      "\r\n",
      "Downloading (…)l-00002-of-00002.bin:  42%|▊ | 1.46G/3.50G [00:06<00:09, 220MB/s]\u001b[A"
     ]
    },
    {
     "name": "stdout",
     "output_type": "stream",
     "text": [
      "\r\n",
      "\r\n",
      "Downloading (…)l-00002-of-00002.bin:  43%|▊ | 1.49G/3.50G [00:07<00:09, 213MB/s]\u001b[A"
     ]
    },
    {
     "name": "stdout",
     "output_type": "stream",
     "text": [
      "\r\n",
      "\r\n",
      "Downloading (…)l-00002-of-00002.bin:  43%|▊ | 1.52G/3.50G [00:07<00:09, 207MB/s]\u001b[A"
     ]
    },
    {
     "name": "stdout",
     "output_type": "stream",
     "text": [
      "\r\n",
      "\r\n",
      "Downloading (…)l-00002-of-00002.bin:  44%|▉ | 1.54G/3.50G [00:07<00:09, 197MB/s]\u001b[A"
     ]
    },
    {
     "name": "stdout",
     "output_type": "stream",
     "text": [
      "\r\n",
      "\r\n",
      "Downloading (…)l-00002-of-00002.bin:  45%|▉ | 1.56G/3.50G [00:07<00:09, 199MB/s]\u001b[A"
     ]
    },
    {
     "name": "stdout",
     "output_type": "stream",
     "text": [
      "\r\n",
      "\r\n",
      "Downloading (…)l-00002-of-00002.bin:  46%|▉ | 1.59G/3.50G [00:07<00:09, 192MB/s]\u001b[A"
     ]
    },
    {
     "name": "stdout",
     "output_type": "stream",
     "text": [
      "\r\n",
      "\r\n",
      "Downloading (…)l-00002-of-00002.bin:  46%|▉ | 1.61G/3.50G [00:07<00:10, 185MB/s]\u001b[A"
     ]
    },
    {
     "name": "stdout",
     "output_type": "stream",
     "text": [
      "\r\n",
      "\r\n",
      "Downloading (…)l-00002-of-00002.bin:  47%|▉ | 1.64G/3.50G [00:07<00:10, 186MB/s]\u001b[A"
     ]
    },
    {
     "name": "stdout",
     "output_type": "stream",
     "text": [
      "\r\n",
      "\r\n",
      "Downloading (…)l-00002-of-00002.bin:  47%|▉ | 1.66G/3.50G [00:07<00:09, 190MB/s]\u001b[A"
     ]
    },
    {
     "name": "stdout",
     "output_type": "stream",
     "text": [
      "\r\n",
      "\r\n",
      "Downloading (…)l-00002-of-00002.bin:  48%|▉ | 1.68G/3.50G [00:08<00:09, 194MB/s]\u001b[A"
     ]
    },
    {
     "name": "stdout",
     "output_type": "stream",
     "text": [
      "\r\n",
      "\r\n",
      "Downloading (…)l-00002-of-00002.bin:  49%|▉ | 1.70G/3.50G [00:08<00:09, 195MB/s]\u001b[A"
     ]
    },
    {
     "name": "stdout",
     "output_type": "stream",
     "text": [
      "\r\n",
      "\r\n",
      "Downloading (…)l-00002-of-00002.bin:  49%|▉ | 1.72G/3.50G [00:08<00:08, 199MB/s]\u001b[A"
     ]
    },
    {
     "name": "stdout",
     "output_type": "stream",
     "text": [
      "\r\n",
      "\r\n",
      "Downloading (…)l-00002-of-00002.bin:  50%|▉ | 1.74G/3.50G [00:08<00:08, 196MB/s]\u001b[A"
     ]
    },
    {
     "name": "stdout",
     "output_type": "stream",
     "text": [
      "\r\n",
      "\r\n",
      "Downloading (…)l-00002-of-00002.bin:  50%|█ | 1.76G/3.50G [00:08<00:08, 194MB/s]\u001b[A"
     ]
    },
    {
     "name": "stdout",
     "output_type": "stream",
     "text": [
      "\r\n",
      "\r\n",
      "Downloading (…)l-00002-of-00002.bin:  51%|█ | 1.78G/3.50G [00:08<00:08, 198MB/s]\u001b[A"
     ]
    },
    {
     "name": "stdout",
     "output_type": "stream",
     "text": [
      "\r\n",
      "\r\n",
      "Downloading (…)l-00002-of-00002.bin:  52%|█ | 1.81G/3.50G [00:08<00:08, 203MB/s]\u001b[A"
     ]
    },
    {
     "name": "stdout",
     "output_type": "stream",
     "text": [
      "\r\n",
      "\r\n",
      "Downloading (…)l-00002-of-00002.bin:  53%|█ | 1.85G/3.50G [00:08<00:08, 205MB/s]\u001b[A"
     ]
    },
    {
     "name": "stdout",
     "output_type": "stream",
     "text": [
      "\r\n",
      "\r\n",
      "Downloading (…)l-00002-of-00002.bin:  53%|█ | 1.87G/3.50G [00:08<00:07, 206MB/s]\u001b[A"
     ]
    },
    {
     "name": "stdout",
     "output_type": "stream",
     "text": [
      "\r\n",
      "\r\n",
      "Downloading (…)l-00002-of-00002.bin:  54%|█ | 1.89G/3.50G [00:09<00:07, 203MB/s]\u001b[A"
     ]
    },
    {
     "name": "stdout",
     "output_type": "stream",
     "text": [
      "\r\n",
      "\r\n",
      "Downloading (…)l-00002-of-00002.bin:  55%|█ | 1.92G/3.50G [00:09<00:07, 206MB/s]\u001b[A"
     ]
    },
    {
     "name": "stdout",
     "output_type": "stream",
     "text": [
      "\r\n",
      "\r\n",
      "Downloading (…)l-00002-of-00002.bin:  55%|█ | 1.94G/3.50G [00:09<00:07, 205MB/s]\u001b[A"
     ]
    },
    {
     "name": "stdout",
     "output_type": "stream",
     "text": [
      "\r\n",
      "\r\n",
      "Downloading (…)l-00002-of-00002.bin:  56%|█ | 1.96G/3.50G [00:09<00:07, 204MB/s]\u001b[A"
     ]
    },
    {
     "name": "stdout",
     "output_type": "stream",
     "text": [
      "\r\n",
      "\r\n",
      "Downloading (…)l-00002-of-00002.bin:  57%|█▏| 1.98G/3.50G [00:09<00:07, 201MB/s]\u001b[A"
     ]
    },
    {
     "name": "stdout",
     "output_type": "stream",
     "text": [
      "\r\n",
      "\r\n",
      "Downloading (…)l-00002-of-00002.bin:  57%|█▏| 2.00G/3.50G [00:09<00:07, 196MB/s]\u001b[A"
     ]
    },
    {
     "name": "stdout",
     "output_type": "stream",
     "text": [
      "\r\n",
      "\r\n",
      "Downloading (…)l-00002-of-00002.bin:  58%|█▏| 2.02G/3.50G [00:09<00:07, 197MB/s]\u001b[A"
     ]
    },
    {
     "name": "stdout",
     "output_type": "stream",
     "text": [
      "\r\n",
      "\r\n",
      "Downloading (…)l-00002-of-00002.bin:  58%|█▏| 2.04G/3.50G [00:09<00:07, 190MB/s]\u001b[A"
     ]
    },
    {
     "name": "stdout",
     "output_type": "stream",
     "text": [
      "\r\n",
      "\r\n",
      "Downloading (…)l-00002-of-00002.bin:  59%|█▏| 2.07G/3.50G [00:09<00:07, 190MB/s]\u001b[A"
     ]
    },
    {
     "name": "stdout",
     "output_type": "stream",
     "text": [
      "\r\n",
      "\r\n",
      "Downloading (…)l-00002-of-00002.bin:  60%|█▏| 2.09G/3.50G [00:10<00:08, 169MB/s]\u001b[A"
     ]
    },
    {
     "name": "stdout",
     "output_type": "stream",
     "text": [
      "\r\n",
      "\r\n",
      "Downloading (…)l-00002-of-00002.bin:  60%|█▏| 2.11G/3.50G [00:10<00:08, 170MB/s]\u001b[A"
     ]
    },
    {
     "name": "stdout",
     "output_type": "stream",
     "text": [
      "\r\n",
      "\r\n",
      "Downloading (…)l-00002-of-00002.bin:  61%|█▏| 2.13G/3.50G [00:10<00:08, 162MB/s]\u001b[A"
     ]
    },
    {
     "name": "stdout",
     "output_type": "stream",
     "text": [
      "\r\n",
      "\r\n",
      "Downloading (…)l-00002-of-00002.bin:  61%|█▏| 2.15G/3.50G [00:10<00:08, 158MB/s]\u001b[A"
     ]
    },
    {
     "name": "stdout",
     "output_type": "stream",
     "text": [
      "\r\n",
      "\r\n",
      "Downloading (…)l-00002-of-00002.bin:  62%|█▏| 2.17G/3.50G [00:10<00:07, 169MB/s]\u001b[A"
     ]
    },
    {
     "name": "stdout",
     "output_type": "stream",
     "text": [
      "\r\n",
      "\r\n",
      "Downloading (…)l-00002-of-00002.bin:  63%|█▎| 2.19G/3.50G [00:10<00:07, 175MB/s]\u001b[A"
     ]
    },
    {
     "name": "stdout",
     "output_type": "stream",
     "text": [
      "\r\n",
      "\r\n",
      "Downloading (…)l-00002-of-00002.bin:  63%|█▎| 2.21G/3.50G [00:10<00:07, 182MB/s]\u001b[A"
     ]
    },
    {
     "name": "stdout",
     "output_type": "stream",
     "text": [
      "\r\n",
      "\r\n",
      "Downloading (…)l-00002-of-00002.bin:  64%|█▎| 2.23G/3.50G [00:10<00:06, 185MB/s]\u001b[A"
     ]
    },
    {
     "name": "stdout",
     "output_type": "stream",
     "text": [
      "\r\n",
      "\r\n",
      "Downloading (…)l-00002-of-00002.bin:  64%|█▎| 2.25G/3.50G [00:11<00:06, 184MB/s]\u001b[A"
     ]
    },
    {
     "name": "stdout",
     "output_type": "stream",
     "text": [
      "\r\n",
      "\r\n",
      "Downloading (…)l-00002-of-00002.bin:  65%|█▎| 2.28G/3.50G [00:11<00:06, 190MB/s]\u001b[A"
     ]
    },
    {
     "name": "stdout",
     "output_type": "stream",
     "text": [
      "\r\n",
      "\r\n",
      "Downloading (…)l-00002-of-00002.bin:  66%|█▎| 2.30G/3.50G [00:11<00:06, 195MB/s]\u001b[A"
     ]
    },
    {
     "name": "stdout",
     "output_type": "stream",
     "text": [
      "\r\n",
      "\r\n",
      "Downloading (…)l-00002-of-00002.bin:  66%|█▎| 2.32G/3.50G [00:11<00:06, 196MB/s]\u001b[A"
     ]
    },
    {
     "name": "stdout",
     "output_type": "stream",
     "text": [
      "\r\n",
      "\r\n",
      "Downloading (…)l-00002-of-00002.bin:  67%|█▎| 2.34G/3.50G [00:11<00:05, 199MB/s]\u001b[A"
     ]
    },
    {
     "name": "stdout",
     "output_type": "stream",
     "text": [
      "\r\n",
      "\r\n",
      "Downloading (…)l-00002-of-00002.bin:  67%|█▎| 2.36G/3.50G [00:11<00:05, 196MB/s]\u001b[A"
     ]
    },
    {
     "name": "stdout",
     "output_type": "stream",
     "text": [
      "\r\n",
      "\r\n",
      "Downloading (…)l-00002-of-00002.bin:  68%|█▎| 2.38G/3.50G [00:11<00:05, 199MB/s]\u001b[A"
     ]
    },
    {
     "name": "stdout",
     "output_type": "stream",
     "text": [
      "\r\n",
      "\r\n",
      "Downloading (…)l-00002-of-00002.bin:  69%|█▍| 2.41G/3.50G [00:11<00:05, 208MB/s]\u001b[A"
     ]
    },
    {
     "name": "stdout",
     "output_type": "stream",
     "text": [
      "\r\n",
      "\r\n",
      "Downloading (…)l-00002-of-00002.bin:  70%|█▍| 2.44G/3.50G [00:12<00:04, 215MB/s]\u001b[A"
     ]
    },
    {
     "name": "stdout",
     "output_type": "stream",
     "text": [
      "\r\n",
      "\r\n",
      "Downloading (…)l-00002-of-00002.bin:  71%|█▍| 2.47G/3.50G [00:12<00:04, 220MB/s]\u001b[A"
     ]
    },
    {
     "name": "stdout",
     "output_type": "stream",
     "text": [
      "\r\n",
      "\r\n",
      "Downloading (…)l-00002-of-00002.bin:  72%|█▍| 2.51G/3.50G [00:12<00:04, 219MB/s]\u001b[A"
     ]
    },
    {
     "name": "stdout",
     "output_type": "stream",
     "text": [
      "\r\n",
      "\r\n",
      "Downloading (…)l-00002-of-00002.bin:  72%|█▍| 2.54G/3.50G [00:12<00:04, 221MB/s]\u001b[A"
     ]
    },
    {
     "name": "stdout",
     "output_type": "stream",
     "text": [
      "\r\n",
      "\r\n",
      "Downloading (…)l-00002-of-00002.bin:  73%|█▍| 2.57G/3.50G [00:12<00:04, 224MB/s]\u001b[A"
     ]
    },
    {
     "name": "stdout",
     "output_type": "stream",
     "text": [
      "\r\n",
      "\r\n",
      "Downloading (…)l-00002-of-00002.bin:  74%|█▍| 2.60G/3.50G [00:12<00:04, 224MB/s]\u001b[A"
     ]
    },
    {
     "name": "stdout",
     "output_type": "stream",
     "text": [
      "\r\n",
      "\r\n",
      "Downloading (…)l-00002-of-00002.bin:  75%|█▌| 2.63G/3.50G [00:12<00:03, 224MB/s]\u001b[A"
     ]
    },
    {
     "name": "stdout",
     "output_type": "stream",
     "text": [
      "\r\n",
      "\r\n",
      "Downloading (…)l-00002-of-00002.bin:  76%|█▌| 2.66G/3.50G [00:12<00:03, 225MB/s]\u001b[A"
     ]
    },
    {
     "name": "stdout",
     "output_type": "stream",
     "text": [
      "\r\n",
      "\r\n",
      "Downloading (…)l-00002-of-00002.bin:  77%|█▌| 2.69G/3.50G [00:13<00:03, 225MB/s]\u001b[A"
     ]
    },
    {
     "name": "stdout",
     "output_type": "stream",
     "text": [
      "\r\n",
      "\r\n",
      "Downloading (…)l-00002-of-00002.bin:  78%|█▌| 2.73G/3.50G [00:13<00:03, 224MB/s]\u001b[A"
     ]
    },
    {
     "name": "stdout",
     "output_type": "stream",
     "text": [
      "\r\n",
      "\r\n",
      "Downloading (…)l-00002-of-00002.bin:  79%|█▌| 2.76G/3.50G [00:13<00:03, 224MB/s]\u001b[A"
     ]
    },
    {
     "name": "stdout",
     "output_type": "stream",
     "text": [
      "\r\n",
      "\r\n",
      "Downloading (…)l-00002-of-00002.bin:  80%|█▌| 2.79G/3.50G [00:13<00:03, 226MB/s]\u001b[A"
     ]
    },
    {
     "name": "stdout",
     "output_type": "stream",
     "text": [
      "\r\n",
      "\r\n",
      "Downloading (…)l-00002-of-00002.bin:  81%|█▌| 2.82G/3.50G [00:13<00:02, 227MB/s]\u001b[A"
     ]
    },
    {
     "name": "stdout",
     "output_type": "stream",
     "text": [
      "\r\n",
      "\r\n",
      "Downloading (…)l-00002-of-00002.bin:  81%|█▋| 2.85G/3.50G [00:13<00:02, 225MB/s]\u001b[A"
     ]
    },
    {
     "name": "stdout",
     "output_type": "stream",
     "text": [
      "\r\n",
      "\r\n",
      "Downloading (…)l-00002-of-00002.bin:  82%|█▋| 2.88G/3.50G [00:13<00:02, 220MB/s]\u001b[A"
     ]
    },
    {
     "name": "stdout",
     "output_type": "stream",
     "text": [
      "\r\n",
      "\r\n",
      "Downloading (…)l-00002-of-00002.bin:  83%|█▋| 2.92G/3.50G [00:14<00:02, 221MB/s]\u001b[A"
     ]
    },
    {
     "name": "stdout",
     "output_type": "stream",
     "text": [
      "\r\n",
      "\r\n",
      "Downloading (…)l-00002-of-00002.bin:  84%|█▋| 2.95G/3.50G [00:14<00:02, 223MB/s]\u001b[A"
     ]
    },
    {
     "name": "stdout",
     "output_type": "stream",
     "text": [
      "\r\n",
      "\r\n",
      "Downloading (…)l-00002-of-00002.bin:  85%|█▋| 2.98G/3.50G [00:14<00:02, 222MB/s]\u001b[A"
     ]
    },
    {
     "name": "stdout",
     "output_type": "stream",
     "text": [
      "\r\n",
      "\r\n",
      "Downloading (…)l-00002-of-00002.bin:  86%|█▋| 3.01G/3.50G [00:14<00:02, 223MB/s]\u001b[A"
     ]
    },
    {
     "name": "stdout",
     "output_type": "stream",
     "text": [
      "\r\n",
      "\r\n",
      "Downloading (…)l-00002-of-00002.bin:  87%|█▋| 3.04G/3.50G [00:14<00:02, 223MB/s]\u001b[A"
     ]
    },
    {
     "name": "stdout",
     "output_type": "stream",
     "text": [
      "\r\n",
      "\r\n",
      "Downloading (…)l-00002-of-00002.bin:  88%|█▊| 3.07G/3.50G [00:14<00:01, 226MB/s]\u001b[A"
     ]
    },
    {
     "name": "stdout",
     "output_type": "stream",
     "text": [
      "\r\n",
      "\r\n",
      "Downloading (…)l-00002-of-00002.bin:  89%|█▊| 3.10G/3.50G [00:14<00:01, 226MB/s]\u001b[A"
     ]
    },
    {
     "name": "stdout",
     "output_type": "stream",
     "text": [
      "\r\n",
      "\r\n",
      "Downloading (…)l-00002-of-00002.bin:  90%|█▊| 3.14G/3.50G [00:15<00:01, 226MB/s]\u001b[A"
     ]
    },
    {
     "name": "stdout",
     "output_type": "stream",
     "text": [
      "\r\n",
      "\r\n",
      "Downloading (…)l-00002-of-00002.bin:  90%|█▊| 3.17G/3.50G [00:15<00:01, 225MB/s]\u001b[A"
     ]
    },
    {
     "name": "stdout",
     "output_type": "stream",
     "text": [
      "\r\n",
      "\r\n",
      "Downloading (…)l-00002-of-00002.bin:  91%|█▊| 3.20G/3.50G [00:15<00:01, 225MB/s]\u001b[A"
     ]
    },
    {
     "name": "stdout",
     "output_type": "stream",
     "text": [
      "\r\n",
      "\r\n",
      "Downloading (…)l-00002-of-00002.bin:  92%|█▊| 3.23G/3.50G [00:15<00:01, 216MB/s]\u001b[A"
     ]
    },
    {
     "name": "stdout",
     "output_type": "stream",
     "text": [
      "\r\n",
      "\r\n",
      "Downloading (…)l-00002-of-00002.bin:  93%|█▊| 3.26G/3.50G [00:15<00:01, 217MB/s]\u001b[A"
     ]
    },
    {
     "name": "stdout",
     "output_type": "stream",
     "text": [
      "\r\n",
      "\r\n",
      "Downloading (…)l-00002-of-00002.bin:  94%|█▉| 3.29G/3.50G [00:15<00:00, 220MB/s]\u001b[A"
     ]
    },
    {
     "name": "stdout",
     "output_type": "stream",
     "text": [
      "\r\n",
      "\r\n",
      "Downloading (…)l-00002-of-00002.bin:  95%|█▉| 3.32G/3.50G [00:15<00:00, 219MB/s]\u001b[A"
     ]
    },
    {
     "name": "stdout",
     "output_type": "stream",
     "text": [
      "\r\n",
      "\r\n",
      "Downloading (…)l-00002-of-00002.bin:  96%|█▉| 3.36G/3.50G [00:16<00:00, 224MB/s]\u001b[A"
     ]
    },
    {
     "name": "stdout",
     "output_type": "stream",
     "text": [
      "\r\n",
      "\r\n",
      "Downloading (…)l-00002-of-00002.bin:  97%|█▉| 3.39G/3.50G [00:16<00:00, 222MB/s]\u001b[A"
     ]
    },
    {
     "name": "stdout",
     "output_type": "stream",
     "text": [
      "\r\n",
      "\r\n",
      "Downloading (…)l-00002-of-00002.bin:  98%|█▉| 3.42G/3.50G [00:16<00:00, 223MB/s]\u001b[A"
     ]
    },
    {
     "name": "stdout",
     "output_type": "stream",
     "text": [
      "\r\n",
      "\r\n",
      "Downloading (…)l-00002-of-00002.bin:  99%|█▉| 3.45G/3.50G [00:16<00:00, 153MB/s]\u001b[A"
     ]
    },
    {
     "name": "stdout",
     "output_type": "stream",
     "text": [
      "\r\n",
      "\r\n",
      "Downloading (…)l-00002-of-00002.bin:  99%|█▉| 3.48G/3.50G [00:16<00:00, 169MB/s]\u001b[A"
     ]
    },
    {
     "name": "stdout",
     "output_type": "stream",
     "text": [
      "\r\n",
      "Downloading (…)l-00002-of-00002.bin: 100%|██| 3.50G/3.50G [00:16<00:00, 206MB/s]\r\n",
      "\r\n",
      "Downloading shards: 100%|█████████████████████████| 2/2 [01:10<00:00, 31.96s/it]\r\n",
      "Downloading shards: 100%|█████████████████████████| 2/2 [01:10<00:00, 35.14s/it]\r\n"
     ]
    },
    {
     "name": "stdout",
     "output_type": "stream",
     "text": [
      "\r\n",
      "Loading checkpoint shards:   0%|                          | 0/2 [00:00<?, ?it/s]"
     ]
    },
    {
     "name": "stdout",
     "output_type": "stream",
     "text": [
      "\r\n",
      "Loading checkpoint shards:  50%|█████████         | 1/2 [01:05<01:05, 65.32s/it]"
     ]
    },
    {
     "name": "stdout",
     "output_type": "stream",
     "text": [
      "\r\n",
      "Loading checkpoint shards: 100%|██████████████████| 2/2 [01:27<00:00, 40.01s/it]\r\n",
      "Loading checkpoint shards: 100%|██████████████████| 2/2 [01:27<00:00, 43.81s/it]\r\n"
     ]
    },
    {
     "name": "stdout",
     "output_type": "stream",
     "text": [
      "\r\n",
      "Downloading (…)neration_config.json:   0%|            | 0.00/137 [00:00<?, ?B/s]\r\n",
      "Downloading (…)neration_config.json: 100%|██████| 137/137 [00:00<00:00, 933kB/s]\r\n"
     ]
    },
    {
     "name": "stdout",
     "output_type": "stream",
     "text": [
      "\r\n",
      "Downloading (…)/adapter_config.json:   0%|            | 0.00/435 [00:00<?, ?B/s]\r\n",
      "Downloading (…)/adapter_config.json: 100%|█████| 435/435 [00:00<00:00, 2.95MB/s]\r\n"
     ]
    },
    {
     "name": "stdout",
     "output_type": "stream",
     "text": [
      "\r\n",
      "Downloading adapter_model.bin:   0%|                | 0.00/67.2M [00:00<?, ?B/s]"
     ]
    }
   ],
   "source": [
    "!python app.py --share"
   ]
  },
  {
   "cell_type": "code",
   "execution_count": null,
   "id": "40eb0e95",
   "metadata": {
    "papermill": {
     "duration": null,
     "end_time": null,
     "exception": null,
     "start_time": null,
     "status": "pending"
    },
    "tags": []
   },
   "outputs": [],
   "source": []
  }
 ],
 "metadata": {
  "kernelspec": {
   "display_name": "Python 3",
   "language": "python",
   "name": "python3"
  },
  "language_info": {
   "codemirror_mode": {
    "name": "ipython",
    "version": 3
   },
   "file_extension": ".py",
   "mimetype": "text/x-python",
   "name": "python",
   "nbconvert_exporter": "python",
   "pygments_lexer": "ipython3",
   "version": "3.6.4"
  },
  "papermill": {
   "default_parameters": {},
   "duration": null,
   "end_time": null,
   "environment_variables": {},
   "exception": null,
   "input_path": "__notebook__.ipynb",
   "output_path": "__notebook__.ipynb",
   "parameters": {},
   "start_time": "2023-06-24T03:57:30.228211",
   "version": "2.4.0"
  }
 },
 "nbformat": 4,
 "nbformat_minor": 5
}
